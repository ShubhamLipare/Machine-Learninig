{
 "cells": [
  {
   "cell_type": "markdown",
   "id": "2c463df8",
   "metadata": {},
   "source": [
    "# import libraries"
   ]
  },
  {
   "cell_type": "code",
   "execution_count": 1,
   "id": "8b99f435",
   "metadata": {},
   "outputs": [],
   "source": [
    "import pandas as pd\n",
    "import numpy as np\n",
    "\n",
    "from sklearn.linear_model import LogisticRegression\n",
    "from sklearn.model_selection import train_test_split\n",
    "from sklearn.metrics import accuracy_score,confusion_matrix,classification_report,roc_curve\n",
    "\n",
    "import seaborn as sns\n",
    "import matplotlib.pyplot as plt\n",
    "\n",
    "import warnings\n",
    "warnings.filterwarnings('ignore')"
   ]
  },
  {
   "cell_type": "markdown",
   "id": "7a15c424",
   "metadata": {},
   "source": [
    "# 1.Problem statement"
   ]
  },
  {
   "cell_type": "code",
   "execution_count": null,
   "id": "13fa0dcf",
   "metadata": {},
   "outputs": [],
   "source": [
    "To predict whether patient is having heart disease or not"
   ]
  },
  {
   "cell_type": "markdown",
   "id": "9b22c713",
   "metadata": {},
   "source": [
    "# 2.Read thr dataset"
   ]
  },
  {
   "cell_type": "code",
   "execution_count": 2,
   "id": "81bfb597",
   "metadata": {},
   "outputs": [
    {
     "data": {
      "text/html": [
       "<div>\n",
       "<style scoped>\n",
       "    .dataframe tbody tr th:only-of-type {\n",
       "        vertical-align: middle;\n",
       "    }\n",
       "\n",
       "    .dataframe tbody tr th {\n",
       "        vertical-align: top;\n",
       "    }\n",
       "\n",
       "    .dataframe thead th {\n",
       "        text-align: right;\n",
       "    }\n",
       "</style>\n",
       "<table border=\"1\" class=\"dataframe\">\n",
       "  <thead>\n",
       "    <tr style=\"text-align: right;\">\n",
       "      <th></th>\n",
       "      <th>age</th>\n",
       "      <th>sex</th>\n",
       "      <th>cp</th>\n",
       "      <th>trestbps</th>\n",
       "      <th>chol</th>\n",
       "      <th>fbs</th>\n",
       "      <th>restecg</th>\n",
       "      <th>thalach</th>\n",
       "      <th>exang</th>\n",
       "      <th>oldpeak</th>\n",
       "      <th>slope</th>\n",
       "      <th>ca</th>\n",
       "      <th>thal</th>\n",
       "      <th>target</th>\n",
       "    </tr>\n",
       "  </thead>\n",
       "  <tbody>\n",
       "    <tr>\n",
       "      <th>0</th>\n",
       "      <td>63</td>\n",
       "      <td>1</td>\n",
       "      <td>3</td>\n",
       "      <td>145</td>\n",
       "      <td>233</td>\n",
       "      <td>1</td>\n",
       "      <td>0</td>\n",
       "      <td>150</td>\n",
       "      <td>0</td>\n",
       "      <td>2.3</td>\n",
       "      <td>0</td>\n",
       "      <td>0</td>\n",
       "      <td>1</td>\n",
       "      <td>1</td>\n",
       "    </tr>\n",
       "    <tr>\n",
       "      <th>1</th>\n",
       "      <td>37</td>\n",
       "      <td>1</td>\n",
       "      <td>2</td>\n",
       "      <td>130</td>\n",
       "      <td>250</td>\n",
       "      <td>0</td>\n",
       "      <td>1</td>\n",
       "      <td>187</td>\n",
       "      <td>0</td>\n",
       "      <td>3.5</td>\n",
       "      <td>0</td>\n",
       "      <td>0</td>\n",
       "      <td>2</td>\n",
       "      <td>1</td>\n",
       "    </tr>\n",
       "    <tr>\n",
       "      <th>2</th>\n",
       "      <td>41</td>\n",
       "      <td>0</td>\n",
       "      <td>1</td>\n",
       "      <td>130</td>\n",
       "      <td>204</td>\n",
       "      <td>0</td>\n",
       "      <td>0</td>\n",
       "      <td>172</td>\n",
       "      <td>0</td>\n",
       "      <td>1.4</td>\n",
       "      <td>2</td>\n",
       "      <td>0</td>\n",
       "      <td>2</td>\n",
       "      <td>1</td>\n",
       "    </tr>\n",
       "    <tr>\n",
       "      <th>3</th>\n",
       "      <td>56</td>\n",
       "      <td>1</td>\n",
       "      <td>1</td>\n",
       "      <td>120</td>\n",
       "      <td>236</td>\n",
       "      <td>0</td>\n",
       "      <td>1</td>\n",
       "      <td>178</td>\n",
       "      <td>0</td>\n",
       "      <td>0.8</td>\n",
       "      <td>2</td>\n",
       "      <td>0</td>\n",
       "      <td>2</td>\n",
       "      <td>1</td>\n",
       "    </tr>\n",
       "    <tr>\n",
       "      <th>4</th>\n",
       "      <td>57</td>\n",
       "      <td>0</td>\n",
       "      <td>0</td>\n",
       "      <td>120</td>\n",
       "      <td>354</td>\n",
       "      <td>0</td>\n",
       "      <td>1</td>\n",
       "      <td>163</td>\n",
       "      <td>1</td>\n",
       "      <td>0.6</td>\n",
       "      <td>2</td>\n",
       "      <td>0</td>\n",
       "      <td>2</td>\n",
       "      <td>1</td>\n",
       "    </tr>\n",
       "    <tr>\n",
       "      <th>...</th>\n",
       "      <td>...</td>\n",
       "      <td>...</td>\n",
       "      <td>...</td>\n",
       "      <td>...</td>\n",
       "      <td>...</td>\n",
       "      <td>...</td>\n",
       "      <td>...</td>\n",
       "      <td>...</td>\n",
       "      <td>...</td>\n",
       "      <td>...</td>\n",
       "      <td>...</td>\n",
       "      <td>...</td>\n",
       "      <td>...</td>\n",
       "      <td>...</td>\n",
       "    </tr>\n",
       "    <tr>\n",
       "      <th>298</th>\n",
       "      <td>57</td>\n",
       "      <td>0</td>\n",
       "      <td>0</td>\n",
       "      <td>140</td>\n",
       "      <td>241</td>\n",
       "      <td>0</td>\n",
       "      <td>1</td>\n",
       "      <td>123</td>\n",
       "      <td>1</td>\n",
       "      <td>0.2</td>\n",
       "      <td>1</td>\n",
       "      <td>0</td>\n",
       "      <td>3</td>\n",
       "      <td>0</td>\n",
       "    </tr>\n",
       "    <tr>\n",
       "      <th>299</th>\n",
       "      <td>45</td>\n",
       "      <td>1</td>\n",
       "      <td>3</td>\n",
       "      <td>110</td>\n",
       "      <td>264</td>\n",
       "      <td>0</td>\n",
       "      <td>1</td>\n",
       "      <td>132</td>\n",
       "      <td>0</td>\n",
       "      <td>1.2</td>\n",
       "      <td>1</td>\n",
       "      <td>0</td>\n",
       "      <td>3</td>\n",
       "      <td>0</td>\n",
       "    </tr>\n",
       "    <tr>\n",
       "      <th>300</th>\n",
       "      <td>68</td>\n",
       "      <td>1</td>\n",
       "      <td>0</td>\n",
       "      <td>144</td>\n",
       "      <td>193</td>\n",
       "      <td>1</td>\n",
       "      <td>1</td>\n",
       "      <td>141</td>\n",
       "      <td>0</td>\n",
       "      <td>3.4</td>\n",
       "      <td>1</td>\n",
       "      <td>2</td>\n",
       "      <td>3</td>\n",
       "      <td>0</td>\n",
       "    </tr>\n",
       "    <tr>\n",
       "      <th>301</th>\n",
       "      <td>57</td>\n",
       "      <td>1</td>\n",
       "      <td>0</td>\n",
       "      <td>130</td>\n",
       "      <td>131</td>\n",
       "      <td>0</td>\n",
       "      <td>1</td>\n",
       "      <td>115</td>\n",
       "      <td>1</td>\n",
       "      <td>1.2</td>\n",
       "      <td>1</td>\n",
       "      <td>1</td>\n",
       "      <td>3</td>\n",
       "      <td>0</td>\n",
       "    </tr>\n",
       "    <tr>\n",
       "      <th>302</th>\n",
       "      <td>57</td>\n",
       "      <td>0</td>\n",
       "      <td>1</td>\n",
       "      <td>130</td>\n",
       "      <td>236</td>\n",
       "      <td>0</td>\n",
       "      <td>0</td>\n",
       "      <td>174</td>\n",
       "      <td>0</td>\n",
       "      <td>0.0</td>\n",
       "      <td>1</td>\n",
       "      <td>1</td>\n",
       "      <td>2</td>\n",
       "      <td>0</td>\n",
       "    </tr>\n",
       "  </tbody>\n",
       "</table>\n",
       "<p>303 rows × 14 columns</p>\n",
       "</div>"
      ],
      "text/plain": [
       "     age  sex  cp  trestbps  chol  fbs  restecg  thalach  exang  oldpeak  \\\n",
       "0     63    1   3       145   233    1        0      150      0      2.3   \n",
       "1     37    1   2       130   250    0        1      187      0      3.5   \n",
       "2     41    0   1       130   204    0        0      172      0      1.4   \n",
       "3     56    1   1       120   236    0        1      178      0      0.8   \n",
       "4     57    0   0       120   354    0        1      163      1      0.6   \n",
       "..   ...  ...  ..       ...   ...  ...      ...      ...    ...      ...   \n",
       "298   57    0   0       140   241    0        1      123      1      0.2   \n",
       "299   45    1   3       110   264    0        1      132      0      1.2   \n",
       "300   68    1   0       144   193    1        1      141      0      3.4   \n",
       "301   57    1   0       130   131    0        1      115      1      1.2   \n",
       "302   57    0   1       130   236    0        0      174      0      0.0   \n",
       "\n",
       "     slope  ca  thal  target  \n",
       "0        0   0     1       1  \n",
       "1        0   0     2       1  \n",
       "2        2   0     2       1  \n",
       "3        2   0     2       1  \n",
       "4        2   0     2       1  \n",
       "..     ...  ..   ...     ...  \n",
       "298      1   0     3       0  \n",
       "299      1   0     3       0  \n",
       "300      1   2     3       0  \n",
       "301      1   1     3       0  \n",
       "302      1   1     2       0  \n",
       "\n",
       "[303 rows x 14 columns]"
      ]
     },
     "execution_count": 2,
     "metadata": {},
     "output_type": "execute_result"
    }
   ],
   "source": [
    "df = pd.read_csv('heart.csv')\n",
    "df"
   ]
  },
  {
   "cell_type": "markdown",
   "id": "ad5de27e",
   "metadata": {},
   "source": [
    "# 3.EDA"
   ]
  },
  {
   "cell_type": "code",
   "execution_count": 3,
   "id": "2a50f341",
   "metadata": {},
   "outputs": [
    {
     "name": "stdout",
     "output_type": "stream",
     "text": [
      "<class 'pandas.core.frame.DataFrame'>\n",
      "RangeIndex: 303 entries, 0 to 302\n",
      "Data columns (total 14 columns):\n",
      " #   Column    Non-Null Count  Dtype  \n",
      "---  ------    --------------  -----  \n",
      " 0   age       303 non-null    int64  \n",
      " 1   sex       303 non-null    int64  \n",
      " 2   cp        303 non-null    int64  \n",
      " 3   trestbps  303 non-null    int64  \n",
      " 4   chol      303 non-null    int64  \n",
      " 5   fbs       303 non-null    int64  \n",
      " 6   restecg   303 non-null    int64  \n",
      " 7   thalach   303 non-null    int64  \n",
      " 8   exang     303 non-null    int64  \n",
      " 9   oldpeak   303 non-null    float64\n",
      " 10  slope     303 non-null    int64  \n",
      " 11  ca        303 non-null    int64  \n",
      " 12  thal      303 non-null    int64  \n",
      " 13  target    303 non-null    int64  \n",
      "dtypes: float64(1), int64(13)\n",
      "memory usage: 33.3 KB\n"
     ]
    }
   ],
   "source": [
    "df.info()"
   ]
  },
  {
   "cell_type": "code",
   "execution_count": 4,
   "id": "0dff5da3",
   "metadata": {},
   "outputs": [
    {
     "data": {
      "text/plain": [
       "age         0\n",
       "sex         0\n",
       "cp          0\n",
       "trestbps    0\n",
       "chol        0\n",
       "fbs         0\n",
       "restecg     0\n",
       "thalach     0\n",
       "exang       0\n",
       "oldpeak     0\n",
       "slope       0\n",
       "ca          0\n",
       "thal        0\n",
       "target      0\n",
       "dtype: int64"
      ]
     },
     "execution_count": 4,
     "metadata": {},
     "output_type": "execute_result"
    }
   ],
   "source": [
    "df.isna().sum()"
   ]
  },
  {
   "cell_type": "code",
   "execution_count": 5,
   "id": "c9c2cdc6",
   "metadata": {},
   "outputs": [
    {
     "data": {
      "text/plain": [
       "1    165\n",
       "0    138\n",
       "Name: target, dtype: int64"
      ]
     },
     "execution_count": 5,
     "metadata": {},
     "output_type": "execute_result"
    }
   ],
   "source": [
    "df['target'].value_counts()"
   ]
  },
  {
   "cell_type": "code",
   "execution_count": 6,
   "id": "c6ec8e79",
   "metadata": {},
   "outputs": [
    {
     "data": {
      "text/plain": [
       "<AxesSubplot:xlabel='target', ylabel='count'>"
      ]
     },
     "execution_count": 6,
     "metadata": {},
     "output_type": "execute_result"
    },
    {
     "data": {
      "image/png": "[encoded data removed]",
      "text/plain": [
       "<Figure size 432x288 with 1 Axes>"
      ]
     },
     "metadata": {
      "needs_background": "light"
     },
     "output_type": "display_data"
    }
   ],
   "source": [
    "sns.countplot(df['target'])"
   ]
  },
  {
   "cell_type": "markdown",
   "id": "e7270fd4",
   "metadata": {},
   "source": [
    "# 4.Splitting the dataset"
   ]
  },
  {
   "cell_type": "code",
   "execution_count": 7,
   "id": "13d7f1b4",
   "metadata": {},
   "outputs": [],
   "source": [
    "x = df.drop('target',axis=1)\n",
    "y = df['target']"
   ]
  },
  {
   "cell_type": "code",
   "execution_count": 8,
   "id": "eca3152d",
   "metadata": {},
   "outputs": [],
   "source": [
    "xtrain,xtest,ytrain,ytest = train_test_split(x,y,test_size=0.25,random_state=25,stratify=y)"
   ]
  },
  {
   "cell_type": "markdown",
   "id": "e7316b1d",
   "metadata": {},
   "source": [
    "# 5.Model building and training"
   ]
  },
  {
   "cell_type": "code",
   "execution_count": 9,
   "id": "b00615ae",
   "metadata": {},
   "outputs": [
    {
     "data": {
      "text/plain": [
       "LogisticRegression()"
      ]
     },
     "execution_count": 9,
     "metadata": {},
     "output_type": "execute_result"
    }
   ],
   "source": [
    "log_model = LogisticRegression()\n",
    "log_model.fit(xtrain,ytrain)"
   ]
  },
  {
   "cell_type": "markdown",
   "id": "76130f37",
   "metadata": {},
   "source": [
    "# 6.Model evaluation"
   ]
  },
  {
   "cell_type": "code",
   "execution_count": 13,
   "id": "8c125291",
   "metadata": {},
   "outputs": [
    {
     "name": "stdout",
     "output_type": "stream",
     "text": [
      "Accuracy: 0.8289473684210527\n",
      "Confusion_matrix: \n",
      " [[27  8]\n",
      " [ 5 36]]\n",
      "Classification_report: \n",
      "               precision    recall  f1-score   support\n",
      "\n",
      "           0       0.84      0.77      0.81        35\n",
      "           1       0.82      0.88      0.85        41\n",
      "\n",
      "    accuracy                           0.83        76\n",
      "   macro avg       0.83      0.82      0.83        76\n",
      "weighted avg       0.83      0.83      0.83        76\n",
      "\n"
     ]
    }
   ],
   "source": [
    "# Testing data evaluation\n",
    "ypredtest = log_model.predict(xtest)\n",
    "\n",
    "Accuracy = accuracy_score(ytest,ypredtest)\n",
    "print('Accuracy:',Accuracy)\n",
    "\n",
    "Confusion_matrix = confusion_matrix(ytest,ypredtest)\n",
    "print('Confusion_matrix: \\n',Confusion_matrix)\n",
    "\n",
    "Classification_report = classification_report(ytest,ypredtest)\n",
    "print('Classification_report: \\n',Classification_report)"
   ]
  },
  {
   "cell_type": "code",
   "execution_count": 14,
   "id": "77cf0af4",
   "metadata": {},
   "outputs": [
    {
     "name": "stdout",
     "output_type": "stream",
     "text": [
      "Accuracy: 0.8458149779735683\n",
      "Confusion_matrix: \n",
      " [[ 78  25]\n",
      " [ 10 114]]\n",
      "Classification_report: \n",
      "               precision    recall  f1-score   support\n",
      "\n",
      "           0       0.89      0.76      0.82       103\n",
      "           1       0.82      0.92      0.87       124\n",
      "\n",
      "    accuracy                           0.85       227\n",
      "   macro avg       0.85      0.84      0.84       227\n",
      "weighted avg       0.85      0.85      0.84       227\n",
      "\n"
     ]
    }
   ],
   "source": [
    "# Training data evaluation\n",
    "ypredtrain = log_model.predict(xtrain)\n",
    "\n",
    "Accuracy = accuracy_score(ytrain,ypredtrain)\n",
    "print('Accuracy:',Accuracy)\n",
    "\n",
    "Confusion_matrix = confusion_matrix(ytrain,ypredtrain)\n",
    "print('Confusion_matrix: \\n',Confusion_matrix)\n",
    "\n",
    "Classification_report = classification_report(ytrain,ypredtrain)\n",
    "print('Classification_report: \\n',Classification_report)"
   ]
  },
  {
   "cell_type": "code",
   "execution_count": 28,
   "id": "908626d7",
   "metadata": {},
   "outputs": [
    {
     "data": {
      "text/plain": [
       "5      1\n",
       "88     1\n",
       "35     1\n",
       "175    0\n",
       "22     1\n",
       "116    1\n",
       "147    1\n",
       "293    0\n",
       "294    0\n",
       "59     1\n",
       "Name: target, dtype: int64"
      ]
     },
     "execution_count": 28,
     "metadata": {},
     "output_type": "execute_result"
    }
   ],
   "source": [
    "ytest[:10]"
   ]
  },
  {
   "cell_type": "code",
   "execution_count": 27,
   "id": "1b69aa29",
   "metadata": {},
   "outputs": [
    {
     "data": {
      "text/plain": [
       "array([1, 1, 1, 0, 1, 1, 1, 1, 0, 1], dtype=int64)"
      ]
     },
     "execution_count": 27,
     "metadata": {},
     "output_type": "execute_result"
    }
   ],
   "source": [
    "ypredtest[:10]"
   ]
  },
  {
   "cell_type": "markdown",
   "id": "acb32eb9",
   "metadata": {},
   "source": [
    "# ROC curve"
   ]
  },
  {
   "cell_type": "code",
   "execution_count": 15,
   "id": "1fa5772a",
   "metadata": {},
   "outputs": [
    {
     "data": {
      "text/plain": [
       "array([[0.2312491 , 0.7687509 ],\n",
       "       [0.03167872, 0.96832128],\n",
       "       [0.23729003, 0.76270997],\n",
       "       [0.97274507, 0.02725493],\n",
       "       [0.19107936, 0.80892064],\n",
       "       [0.22364135, 0.77635865],\n",
       "       [0.00741717, 0.99258283],\n",
       "       [0.3270773 , 0.6729227 ],\n",
       "       [0.81185209, 0.18814791],\n",
       "       [0.27547017, 0.72452983],\n",
       "       [0.41969144, 0.58030856],\n",
       "       [0.24075762, 0.75924238],\n",
       "       [0.98440854, 0.01559146],\n",
       "       [0.02380327, 0.97619673],\n",
       "       [0.99057765, 0.00942235],\n",
       "       [0.06180833, 0.93819167],\n",
       "       [0.05531451, 0.94468549],\n",
       "       [0.99278329, 0.00721671],\n",
       "       [0.99093062, 0.00906938],\n",
       "       [0.25782284, 0.74217716],\n",
       "       [0.05705489, 0.94294511],\n",
       "       [0.04344151, 0.95655849],\n",
       "       [0.28969429, 0.71030571],\n",
       "       [0.01851454, 0.98148546],\n",
       "       [0.05243924, 0.94756076],\n",
       "       [0.95567438, 0.04432562],\n",
       "       [0.99403103, 0.00596897],\n",
       "       [0.37925612, 0.62074388],\n",
       "       [0.17562032, 0.82437968],\n",
       "       [0.89909853, 0.10090147],\n",
       "       [0.99882891, 0.00117109],\n",
       "       [0.18476939, 0.81523061],\n",
       "       [0.96316556, 0.03683444],\n",
       "       [0.35284635, 0.64715365],\n",
       "       [0.22578385, 0.77421615],\n",
       "       [0.07844243, 0.92155757],\n",
       "       [0.54709252, 0.45290748],\n",
       "       [0.91189668, 0.08810332],\n",
       "       [0.06945266, 0.93054734],\n",
       "       [0.52679621, 0.47320379],\n",
       "       [0.93357627, 0.06642373],\n",
       "       [0.17798198, 0.82201802],\n",
       "       [0.1204213 , 0.8795787 ],\n",
       "       [0.95173943, 0.04826057],\n",
       "       [0.97036211, 0.02963789],\n",
       "       [0.87747145, 0.12252855],\n",
       "       [0.02539691, 0.97460309],\n",
       "       [0.10555333, 0.89444667],\n",
       "       [0.03833492, 0.96166508],\n",
       "       [0.83581033, 0.16418967],\n",
       "       [0.47453299, 0.52546701],\n",
       "       [0.00949131, 0.99050869],\n",
       "       [0.02431759, 0.97568241],\n",
       "       [0.96663341, 0.03336659],\n",
       "       [0.94134102, 0.05865898],\n",
       "       [0.94049595, 0.05950405],\n",
       "       [0.34918282, 0.65081718],\n",
       "       [0.92773133, 0.07226867],\n",
       "       [0.47761328, 0.52238672],\n",
       "       [0.42052237, 0.57947763],\n",
       "       [0.96392413, 0.03607587],\n",
       "       [0.84833469, 0.15166531],\n",
       "       [0.99503833, 0.00496167],\n",
       "       [0.99100608, 0.00899392],\n",
       "       [0.76281084, 0.23718916],\n",
       "       [0.36159574, 0.63840426],\n",
       "       [0.99436113, 0.00563887],\n",
       "       [0.04648857, 0.95351143],\n",
       "       [0.12968426, 0.87031574],\n",
       "       [0.49473443, 0.50526557],\n",
       "       [0.09436094, 0.90563906],\n",
       "       [0.89584748, 0.10415252],\n",
       "       [0.17236722, 0.82763278],\n",
       "       [0.96684539, 0.03315461],\n",
       "       [0.09351687, 0.90648313],\n",
       "       [0.76875557, 0.23124443]])"
      ]
     },
     "execution_count": 15,
     "metadata": {},
     "output_type": "execute_result"
    }
   ],
   "source": [
    "ypredprob = log_model.predict_proba(xtest)\n",
    "ypredprob"
   ]
  },
  {
   "cell_type": "code",
   "execution_count": null,
   "id": "431c606e",
   "metadata": {},
   "outputs": [],
   "source": [
    "[0.2312491 , 0.7687509]  >> class1\n",
    "[0.03167872, 0.96832128] >> class1\n",
    "[0.23729003, 0.76270997] >> class1\n",
    "[0.97274507, 0.02725493] >> class0\n",
    "[0.19107936, 0.80892064] >> class1\n",
    "[0.22364135, 0.77635865] >> class1\n",
    "[0.00741717, 0.99258283] >> class1\n",
    "[0.3270773 , 0.6729227 ] >> class1\n",
    "[0.81185209, 0.18814791] >> class0"
   ]
  },
  {
   "cell_type": "code",
   "execution_count": 16,
   "id": "a8058a3e",
   "metadata": {},
   "outputs": [
    {
     "data": {
      "text/plain": [
       "array([1, 1, 1, 0, 1, 1, 1, 1, 0, 1, 1, 1, 0, 1, 0, 1, 1, 0, 0, 1, 1, 1,\n",
       "       1, 1, 1, 0, 0, 1, 1, 0, 0, 1, 0, 1, 1, 1, 0, 0, 1, 0, 0, 1, 1, 0,\n",
       "       0, 0, 1, 1, 1, 0, 1, 1, 1, 0, 0, 0, 1, 0, 1, 1, 0, 0, 0, 0, 0, 1,\n",
       "       0, 1, 1, 1, 1, 0, 1, 0, 1, 0], dtype=int64)"
      ]
     },
     "execution_count": 16,
     "metadata": {},
     "output_type": "execute_result"
    }
   ],
   "source": [
    "ypredtest"
   ]
  },
  {
   "cell_type": "code",
   "execution_count": 18,
   "id": "81d2899a",
   "metadata": {},
   "outputs": [
    {
     "data": {
      "text/plain": [
       "array([0.7687509 , 0.96832128, 0.76270997, 0.02725493, 0.80892064,\n",
       "       0.77635865, 0.99258283, 0.6729227 , 0.18814791, 0.72452983,\n",
       "       0.58030856, 0.75924238, 0.01559146, 0.97619673, 0.00942235,\n",
       "       0.93819167, 0.94468549, 0.00721671, 0.00906938, 0.74217716,\n",
       "       0.94294511, 0.95655849, 0.71030571, 0.98148546, 0.94756076,\n",
       "       0.04432562, 0.00596897, 0.62074388, 0.82437968, 0.10090147,\n",
       "       0.00117109, 0.81523061, 0.03683444, 0.64715365, 0.77421615,\n",
       "       0.92155757, 0.45290748, 0.08810332, 0.93054734, 0.47320379,\n",
       "       0.06642373, 0.82201802, 0.8795787 , 0.04826057, 0.02963789,\n",
       "       0.12252855, 0.97460309, 0.89444667, 0.96166508, 0.16418967,\n",
       "       0.52546701, 0.99050869, 0.97568241, 0.03336659, 0.05865898,\n",
       "       0.05950405, 0.65081718, 0.07226867, 0.52238672, 0.57947763,\n",
       "       0.03607587, 0.15166531, 0.00496167, 0.00899392, 0.23718916,\n",
       "       0.63840426, 0.00563887, 0.95351143, 0.87031574, 0.50526557,\n",
       "       0.90563906, 0.10415252, 0.82763278, 0.03315461, 0.90648313,\n",
       "       0.23124443])"
      ]
     },
     "execution_count": 18,
     "metadata": {},
     "output_type": "execute_result"
    }
   ],
   "source": [
    "# class-1 probabilities\n",
    "\n",
    "# ypredprob[row_index,column_index]\n",
    "ypredprob[:,1]"
   ]
  },
  {
   "cell_type": "code",
   "execution_count": 20,
   "id": "722b1142",
   "metadata": {},
   "outputs": [],
   "source": [
    "fpr,tpr,threshold = roc_curve(ytest,ypredprob[:,1])"
   ]
  },
  {
   "cell_type": "code",
   "execution_count": 21,
   "id": "4f560ad6",
   "metadata": {},
   "outputs": [
    {
     "data": {
      "text/plain": [
       "array([0.        , 0.        , 0.        , 0.02857143, 0.02857143,\n",
       "       0.05714286, 0.05714286, 0.11428571, 0.11428571, 0.14285714,\n",
       "       0.14285714, 0.17142857, 0.17142857, 0.22857143, 0.22857143,\n",
       "       0.45714286, 0.45714286, 0.54285714, 0.54285714, 0.65714286,\n",
       "       0.65714286, 1.        ])"
      ]
     },
     "execution_count": 21,
     "metadata": {},
     "output_type": "execute_result"
    }
   ],
   "source": [
    "fpr"
   ]
  },
  {
   "cell_type": "code",
   "execution_count": 22,
   "id": "bdef2f74",
   "metadata": {
    "scrolled": true
   },
   "outputs": [
    {
     "data": {
      "text/plain": [
       "array([0.        , 0.02439024, 0.41463415, 0.41463415, 0.46341463,\n",
       "       0.46341463, 0.7804878 , 0.7804878 , 0.80487805, 0.80487805,\n",
       "       0.82926829, 0.82926829, 0.85365854, 0.85365854, 0.92682927,\n",
       "       0.92682927, 0.95121951, 0.95121951, 0.97560976, 0.97560976,\n",
       "       1.        , 1.        ])"
      ]
     },
     "execution_count": 22,
     "metadata": {},
     "output_type": "execute_result"
    }
   ],
   "source": [
    "tpr"
   ]
  },
  {
   "cell_type": "code",
   "execution_count": 23,
   "id": "ffc0470f",
   "metadata": {},
   "outputs": [
    {
     "data": {
      "text/plain": [
       "array([1.99258283e+00, 9.92582830e-01, 9.06483132e-01, 9.05639064e-01,\n",
       "       8.79578695e-01, 8.70315741e-01, 7.10305712e-01, 6.50817178e-01,\n",
       "       6.47153646e-01, 6.38404258e-01, 6.20743883e-01, 5.80308564e-01,\n",
       "       5.79477631e-01, 5.22386716e-01, 4.52907478e-01, 1.00901468e-01,\n",
       "       8.81033224e-02, 5.95040524e-02, 5.86589833e-02, 3.60758666e-02,\n",
       "       3.33665893e-02, 1.17109332e-03])"
      ]
     },
     "execution_count": 23,
     "metadata": {},
     "output_type": "execute_result"
    }
   ],
   "source": [
    "threshold"
   ]
  },
  {
   "cell_type": "markdown",
   "id": "8c77f671",
   "metadata": {},
   "source": [
    "# plot roc curve"
   ]
  },
  {
   "cell_type": "code",
   "execution_count": 26,
   "id": "e7da0cb6",
   "metadata": {},
   "outputs": [
    {
     "data": {
      "image/png": "[encoded data removed]",
      "text/plain": [
       "<Figure size 432x288 with 1 Axes>"
      ]
     },
     "metadata": {
      "needs_background": "light"
     },
     "output_type": "display_data"
    }
   ],
   "source": [
    "plt.plot(fpr,tpr)\n",
    "plt.xlabel('False positive rate')\n",
    "plt.ylabel('True positive rate')\n",
    "plt.title('ROC curve')\n",
    "plt.savefig('ROC_curve.png')"
   ]
  }
 ],
 "metadata": {
  "kernelspec": {
   "display_name": "Python 3 (ipykernel)",
   "language": "python",
   "name": "python3"
  },
  "language_info": {
   "codemirror_mode": {
    "name": "ipython",
    "version": 3
   },
   "file_extension": ".py",
   "mimetype": "text/x-python",
   "name": "python",
   "nbconvert_exporter": "python",
   "pygments_lexer": "ipython3",
   "version": "3.9.7"
  }
 },
 "nbformat": 4,
 "nbformat_minor": 5
}
