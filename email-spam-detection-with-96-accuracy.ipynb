{
 "cells": [
  {
   "cell_type": "code",
   "execution_count": 1,
   "id": "6d072127",
   "metadata": {
    "execution": {
     "iopub.execute_input": "2023-05-18T04:35:20.650366Z",
     "iopub.status.busy": "2023-05-18T04:35:20.649602Z",
     "iopub.status.idle": "2023-05-18T04:35:29.579347Z",
     "shell.execute_reply": "2023-05-18T04:35:29.578338Z"
    },
    "papermill": {
     "duration": 8.942887,
     "end_time": "2023-05-18T04:35:29.582093",
     "exception": false,
     "start_time": "2023-05-18T04:35:20.639206",
     "status": "completed"
    },
    "tags": []
   },
   "outputs": [
    {
     "name": "stderr",
     "output_type": "stream",
     "text": [
      "/opt/conda/lib/python3.10/site-packages/scipy/__init__.py:146: UserWarning: A NumPy version >=1.16.5 and <1.23.0 is required for this version of SciPy (detected version 1.23.5\n",
      "  warnings.warn(f\"A NumPy version >={np_minversion} and <{np_maxversion}\"\n"
     ]
    }
   ],
   "source": [
    "import pandas as pd\n",
    "import re\n",
    "from sklearn.feature_extraction.text import TfidfVectorizer\n",
    "from sklearn.metrics import classification_report,confusion_matrix\n",
    "import matplotlib.pyplot as plt\n",
    "from keras.models import Sequential\n",
    "from keras.layers import Dense,Dropout,BatchNormalization\n",
    "from keras.callbacks import EarlyStopping\n",
    "from sklearn.preprocessing import LabelEncoder\n",
    "from keras.models import load_model\n",
    "import seaborn as sns\n",
    "from sklearn.model_selection import train_test_split"
   ]
  },
  {
   "cell_type": "code",
   "execution_count": 2,
   "id": "11aa08ca",
   "metadata": {
    "execution": {
     "iopub.execute_input": "2023-05-18T04:35:29.602172Z",
     "iopub.status.busy": "2023-05-18T04:35:29.601465Z",
     "iopub.status.idle": "2023-05-18T04:35:29.637560Z",
     "shell.execute_reply": "2023-05-18T04:35:29.636589Z"
    },
    "papermill": {
     "duration": 0.048472,
     "end_time": "2023-05-18T04:35:29.639725",
     "exception": false,
     "start_time": "2023-05-18T04:35:29.591253",
     "status": "completed"
    },
    "tags": []
   },
   "outputs": [],
   "source": [
    "df=pd.read_csv(\"/kaggle/input/email-spam-detection/EmailSpam.csv\")"
   ]
  },
  {
   "cell_type": "code",
   "execution_count": 3,
   "id": "c2fae7a8",
   "metadata": {
    "execution": {
     "iopub.execute_input": "2023-05-18T04:35:29.657973Z",
     "iopub.status.busy": "2023-05-18T04:35:29.657590Z",
     "iopub.status.idle": "2023-05-18T04:35:29.681722Z",
     "shell.execute_reply": "2023-05-18T04:35:29.681103Z"
    },
    "papermill": {
     "duration": 0.035109,
     "end_time": "2023-05-18T04:35:29.683309",
     "exception": false,
     "start_time": "2023-05-18T04:35:29.648200",
     "status": "completed"
    },
    "tags": []
   },
   "outputs": [
    {
     "data": {
      "text/html": [
       "<div>\n",
       "<style scoped>\n",
       "    .dataframe tbody tr th:only-of-type {\n",
       "        vertical-align: middle;\n",
       "    }\n",
       "\n",
       "    .dataframe tbody tr th {\n",
       "        vertical-align: top;\n",
       "    }\n",
       "\n",
       "    .dataframe thead th {\n",
       "        text-align: right;\n",
       "    }\n",
       "</style>\n",
       "<table border=\"1\" class=\"dataframe\">\n",
       "  <thead>\n",
       "    <tr style=\"text-align: right;\">\n",
       "      <th></th>\n",
       "      <th>Category</th>\n",
       "      <th>Message</th>\n",
       "    </tr>\n",
       "  </thead>\n",
       "  <tbody>\n",
       "    <tr>\n",
       "      <th>0</th>\n",
       "      <td>ham</td>\n",
       "      <td>Go until jurong point, crazy.. Available only ...</td>\n",
       "    </tr>\n",
       "    <tr>\n",
       "      <th>1</th>\n",
       "      <td>ham</td>\n",
       "      <td>Ok lar... Joking wif u oni...</td>\n",
       "    </tr>\n",
       "    <tr>\n",
       "      <th>2</th>\n",
       "      <td>spam</td>\n",
       "      <td>Free entry in 2 a wkly comp to win FA Cup fina...</td>\n",
       "    </tr>\n",
       "    <tr>\n",
       "      <th>3</th>\n",
       "      <td>ham</td>\n",
       "      <td>U dun say so early hor... U c already then say...</td>\n",
       "    </tr>\n",
       "    <tr>\n",
       "      <th>4</th>\n",
       "      <td>ham</td>\n",
       "      <td>Nah I don't think he goes to usf, he lives aro...</td>\n",
       "    </tr>\n",
       "  </tbody>\n",
       "</table>\n",
       "</div>"
      ],
      "text/plain": [
       "  Category                                            Message\n",
       "0      ham  Go until jurong point, crazy.. Available only ...\n",
       "1      ham                      Ok lar... Joking wif u oni...\n",
       "2     spam  Free entry in 2 a wkly comp to win FA Cup fina...\n",
       "3      ham  U dun say so early hor... U c already then say...\n",
       "4      ham  Nah I don't think he goes to usf, he lives aro..."
      ]
     },
     "execution_count": 3,
     "metadata": {},
     "output_type": "execute_result"
    }
   ],
   "source": [
    "df.head()"
   ]
  },
  {
   "cell_type": "code",
   "execution_count": 4,
   "id": "a9903c76",
   "metadata": {
    "execution": {
     "iopub.execute_input": "2023-05-18T04:35:29.700697Z",
     "iopub.status.busy": "2023-05-18T04:35:29.700088Z",
     "iopub.status.idle": "2023-05-18T04:35:29.706380Z",
     "shell.execute_reply": "2023-05-18T04:35:29.705294Z"
    },
    "papermill": {
     "duration": 0.017389,
     "end_time": "2023-05-18T04:35:29.708631",
     "exception": false,
     "start_time": "2023-05-18T04:35:29.691242",
     "status": "completed"
    },
    "tags": []
   },
   "outputs": [
    {
     "data": {
      "text/plain": [
       "(5572, 2)"
      ]
     },
     "execution_count": 4,
     "metadata": {},
     "output_type": "execute_result"
    }
   ],
   "source": [
    "df.shape"
   ]
  },
  {
   "cell_type": "code",
   "execution_count": 5,
   "id": "d07b4908",
   "metadata": {
    "execution": {
     "iopub.execute_input": "2023-05-18T04:35:29.727545Z",
     "iopub.status.busy": "2023-05-18T04:35:29.727028Z",
     "iopub.status.idle": "2023-05-18T04:35:29.738481Z",
     "shell.execute_reply": "2023-05-18T04:35:29.737873Z"
    },
    "papermill": {
     "duration": 0.02329,
     "end_time": "2023-05-18T04:35:29.740402",
     "exception": false,
     "start_time": "2023-05-18T04:35:29.717112",
     "status": "completed"
    },
    "tags": []
   },
   "outputs": [
    {
     "data": {
      "text/plain": [
       "ham     4825\n",
       "spam     747\n",
       "Name: Category, dtype: int64"
      ]
     },
     "execution_count": 5,
     "metadata": {},
     "output_type": "execute_result"
    }
   ],
   "source": [
    "df.Category.value_counts()"
   ]
  },
  {
   "cell_type": "code",
   "execution_count": 6,
   "id": "603f2cf9",
   "metadata": {
    "execution": {
     "iopub.execute_input": "2023-05-18T04:35:29.759709Z",
     "iopub.status.busy": "2023-05-18T04:35:29.759210Z",
     "iopub.status.idle": "2023-05-18T04:35:29.769105Z",
     "shell.execute_reply": "2023-05-18T04:35:29.768170Z"
    },
    "papermill": {
     "duration": 0.023466,
     "end_time": "2023-05-18T04:35:29.772180",
     "exception": false,
     "start_time": "2023-05-18T04:35:29.748714",
     "status": "completed"
    },
    "tags": []
   },
   "outputs": [
    {
     "data": {
      "text/plain": [
       "Category    0\n",
       "Message     0\n",
       "dtype: int64"
      ]
     },
     "execution_count": 6,
     "metadata": {},
     "output_type": "execute_result"
    }
   ],
   "source": [
    "df.isnull().sum()"
   ]
  },
  {
   "cell_type": "code",
   "execution_count": 7,
   "id": "58e67baa",
   "metadata": {
    "execution": {
     "iopub.execute_input": "2023-05-18T04:35:29.792717Z",
     "iopub.status.busy": "2023-05-18T04:35:29.792369Z",
     "iopub.status.idle": "2023-05-18T04:35:29.806644Z",
     "shell.execute_reply": "2023-05-18T04:35:29.805593Z"
    },
    "papermill": {
     "duration": 0.026716,
     "end_time": "2023-05-18T04:35:29.808594",
     "exception": false,
     "start_time": "2023-05-18T04:35:29.781878",
     "status": "completed"
    },
    "tags": []
   },
   "outputs": [
    {
     "data": {
      "text/plain": [
       "415"
      ]
     },
     "execution_count": 7,
     "metadata": {},
     "output_type": "execute_result"
    }
   ],
   "source": [
    "df.duplicated().sum()"
   ]
  },
  {
   "cell_type": "code",
   "execution_count": 8,
   "id": "86b48f68",
   "metadata": {
    "execution": {
     "iopub.execute_input": "2023-05-18T04:35:29.827088Z",
     "iopub.status.busy": "2023-05-18T04:35:29.826694Z",
     "iopub.status.idle": "2023-05-18T04:35:29.837239Z",
     "shell.execute_reply": "2023-05-18T04:35:29.835815Z"
    },
    "papermill": {
     "duration": 0.022777,
     "end_time": "2023-05-18T04:35:29.839889",
     "exception": false,
     "start_time": "2023-05-18T04:35:29.817112",
     "status": "completed"
    },
    "tags": []
   },
   "outputs": [],
   "source": [
    "#dropping duplicates\n",
    "df.drop_duplicates(inplace=True)"
   ]
  },
  {
   "cell_type": "code",
   "execution_count": 9,
   "id": "4d9ff07c",
   "metadata": {
    "execution": {
     "iopub.execute_input": "2023-05-18T04:35:29.859361Z",
     "iopub.status.busy": "2023-05-18T04:35:29.858989Z",
     "iopub.status.idle": "2023-05-18T04:35:29.865522Z",
     "shell.execute_reply": "2023-05-18T04:35:29.864421Z"
    },
    "papermill": {
     "duration": 0.018956,
     "end_time": "2023-05-18T04:35:29.867814",
     "exception": false,
     "start_time": "2023-05-18T04:35:29.848858",
     "status": "completed"
    },
    "tags": []
   },
   "outputs": [
    {
     "data": {
      "text/plain": [
       "(5157, 2)"
      ]
     },
     "execution_count": 9,
     "metadata": {},
     "output_type": "execute_result"
    }
   ],
   "source": [
    "df.shape"
   ]
  },
  {
   "cell_type": "markdown",
   "id": "f38eb829",
   "metadata": {
    "papermill": {
     "duration": 0.007857,
     "end_time": "2023-05-18T04:35:29.884321",
     "exception": false,
     "start_time": "2023-05-18T04:35:29.876464",
     "status": "completed"
    },
    "tags": []
   },
   "source": [
    "### Preprocessing"
   ]
  },
  {
   "cell_type": "code",
   "execution_count": 10,
   "id": "96fb2bae",
   "metadata": {
    "execution": {
     "iopub.execute_input": "2023-05-18T04:35:29.902296Z",
     "iopub.status.busy": "2023-05-18T04:35:29.901918Z",
     "iopub.status.idle": "2023-05-18T04:35:29.921470Z",
     "shell.execute_reply": "2023-05-18T04:35:29.920562Z"
    },
    "papermill": {
     "duration": 0.031707,
     "end_time": "2023-05-18T04:35:29.924216",
     "exception": false,
     "start_time": "2023-05-18T04:35:29.892509",
     "status": "completed"
    },
    "tags": []
   },
   "outputs": [],
   "source": [
    "words=[]\n",
    "\n",
    "for i in df[\"Message\"]:\n",
    "    i=i.lower()\n",
    "    i=re.sub(\"[^a-z0-9 ]\",\"\",i) #removing everything except space and a-z\n",
    "    words.append(i)"
   ]
  },
  {
   "cell_type": "code",
   "execution_count": 11,
   "id": "3345b65a",
   "metadata": {
    "execution": {
     "iopub.execute_input": "2023-05-18T04:35:29.944350Z",
     "iopub.status.busy": "2023-05-18T04:35:29.943935Z",
     "iopub.status.idle": "2023-05-18T04:35:29.950193Z",
     "shell.execute_reply": "2023-05-18T04:35:29.949121Z"
    },
    "papermill": {
     "duration": 0.01884,
     "end_time": "2023-05-18T04:35:29.952180",
     "exception": false,
     "start_time": "2023-05-18T04:35:29.933340",
     "status": "completed"
    },
    "tags": []
   },
   "outputs": [],
   "source": [
    "df[\"message\"]=words"
   ]
  },
  {
   "cell_type": "code",
   "execution_count": 12,
   "id": "d02f7cca",
   "metadata": {
    "execution": {
     "iopub.execute_input": "2023-05-18T04:35:29.970680Z",
     "iopub.status.busy": "2023-05-18T04:35:29.970312Z",
     "iopub.status.idle": "2023-05-18T04:35:29.980430Z",
     "shell.execute_reply": "2023-05-18T04:35:29.979001Z"
    },
    "papermill": {
     "duration": 0.021536,
     "end_time": "2023-05-18T04:35:29.982354",
     "exception": false,
     "start_time": "2023-05-18T04:35:29.960818",
     "status": "completed"
    },
    "tags": []
   },
   "outputs": [
    {
     "data": {
      "text/html": [
       "<div>\n",
       "<style scoped>\n",
       "    .dataframe tbody tr th:only-of-type {\n",
       "        vertical-align: middle;\n",
       "    }\n",
       "\n",
       "    .dataframe tbody tr th {\n",
       "        vertical-align: top;\n",
       "    }\n",
       "\n",
       "    .dataframe thead th {\n",
       "        text-align: right;\n",
       "    }\n",
       "</style>\n",
       "<table border=\"1\" class=\"dataframe\">\n",
       "  <thead>\n",
       "    <tr style=\"text-align: right;\">\n",
       "      <th></th>\n",
       "      <th>Category</th>\n",
       "      <th>Message</th>\n",
       "      <th>message</th>\n",
       "    </tr>\n",
       "  </thead>\n",
       "  <tbody>\n",
       "    <tr>\n",
       "      <th>0</th>\n",
       "      <td>ham</td>\n",
       "      <td>Go until jurong point, crazy.. Available only ...</td>\n",
       "      <td>go until jurong point crazy available only in ...</td>\n",
       "    </tr>\n",
       "    <tr>\n",
       "      <th>1</th>\n",
       "      <td>ham</td>\n",
       "      <td>Ok lar... Joking wif u oni...</td>\n",
       "      <td>ok lar joking wif u oni</td>\n",
       "    </tr>\n",
       "    <tr>\n",
       "      <th>2</th>\n",
       "      <td>spam</td>\n",
       "      <td>Free entry in 2 a wkly comp to win FA Cup fina...</td>\n",
       "      <td>free entry in 2 a wkly comp to win fa cup fina...</td>\n",
       "    </tr>\n",
       "    <tr>\n",
       "      <th>3</th>\n",
       "      <td>ham</td>\n",
       "      <td>U dun say so early hor... U c already then say...</td>\n",
       "      <td>u dun say so early hor u c already then say</td>\n",
       "    </tr>\n",
       "    <tr>\n",
       "      <th>4</th>\n",
       "      <td>ham</td>\n",
       "      <td>Nah I don't think he goes to usf, he lives aro...</td>\n",
       "      <td>nah i dont think he goes to usf he lives aroun...</td>\n",
       "    </tr>\n",
       "  </tbody>\n",
       "</table>\n",
       "</div>"
      ],
      "text/plain": [
       "  Category                                            Message  \\\n",
       "0      ham  Go until jurong point, crazy.. Available only ...   \n",
       "1      ham                      Ok lar... Joking wif u oni...   \n",
       "2     spam  Free entry in 2 a wkly comp to win FA Cup fina...   \n",
       "3      ham  U dun say so early hor... U c already then say...   \n",
       "4      ham  Nah I don't think he goes to usf, he lives aro...   \n",
       "\n",
       "                                             message  \n",
       "0  go until jurong point crazy available only in ...  \n",
       "1                            ok lar joking wif u oni  \n",
       "2  free entry in 2 a wkly comp to win fa cup fina...  \n",
       "3        u dun say so early hor u c already then say  \n",
       "4  nah i dont think he goes to usf he lives aroun...  "
      ]
     },
     "execution_count": 12,
     "metadata": {},
     "output_type": "execute_result"
    }
   ],
   "source": [
    "df.head()"
   ]
  },
  {
   "cell_type": "code",
   "execution_count": 13,
   "id": "93d829a7",
   "metadata": {
    "execution": {
     "iopub.execute_input": "2023-05-18T04:35:30.000638Z",
     "iopub.status.busy": "2023-05-18T04:35:30.000282Z",
     "iopub.status.idle": "2023-05-18T04:35:30.007689Z",
     "shell.execute_reply": "2023-05-18T04:35:30.006701Z"
    },
    "papermill": {
     "duration": 0.019419,
     "end_time": "2023-05-18T04:35:30.010294",
     "exception": false,
     "start_time": "2023-05-18T04:35:29.990875",
     "status": "completed"
    },
    "tags": []
   },
   "outputs": [],
   "source": [
    "le=LabelEncoder()\n",
    "df['Category']=le.fit_transform(df['Category'])"
   ]
  },
  {
   "cell_type": "code",
   "execution_count": 14,
   "id": "73f9d3f7",
   "metadata": {
    "execution": {
     "iopub.execute_input": "2023-05-18T04:35:30.032169Z",
     "iopub.status.busy": "2023-05-18T04:35:30.031803Z",
     "iopub.status.idle": "2023-05-18T04:35:30.046320Z",
     "shell.execute_reply": "2023-05-18T04:35:30.044615Z"
    },
    "papermill": {
     "duration": 0.029418,
     "end_time": "2023-05-18T04:35:30.049059",
     "exception": false,
     "start_time": "2023-05-18T04:35:30.019641",
     "status": "completed"
    },
    "tags": []
   },
   "outputs": [
    {
     "data": {
      "text/html": [
       "<div>\n",
       "<style scoped>\n",
       "    .dataframe tbody tr th:only-of-type {\n",
       "        vertical-align: middle;\n",
       "    }\n",
       "\n",
       "    .dataframe tbody tr th {\n",
       "        vertical-align: top;\n",
       "    }\n",
       "\n",
       "    .dataframe thead th {\n",
       "        text-align: right;\n",
       "    }\n",
       "</style>\n",
       "<table border=\"1\" class=\"dataframe\">\n",
       "  <thead>\n",
       "    <tr style=\"text-align: right;\">\n",
       "      <th></th>\n",
       "      <th>Category</th>\n",
       "      <th>Message</th>\n",
       "      <th>message</th>\n",
       "    </tr>\n",
       "  </thead>\n",
       "  <tbody>\n",
       "    <tr>\n",
       "      <th>0</th>\n",
       "      <td>0</td>\n",
       "      <td>Go until jurong point, crazy.. Available only ...</td>\n",
       "      <td>go until jurong point crazy available only in ...</td>\n",
       "    </tr>\n",
       "    <tr>\n",
       "      <th>1</th>\n",
       "      <td>0</td>\n",
       "      <td>Ok lar... Joking wif u oni...</td>\n",
       "      <td>ok lar joking wif u oni</td>\n",
       "    </tr>\n",
       "    <tr>\n",
       "      <th>2</th>\n",
       "      <td>1</td>\n",
       "      <td>Free entry in 2 a wkly comp to win FA Cup fina...</td>\n",
       "      <td>free entry in 2 a wkly comp to win fa cup fina...</td>\n",
       "    </tr>\n",
       "    <tr>\n",
       "      <th>3</th>\n",
       "      <td>0</td>\n",
       "      <td>U dun say so early hor... U c already then say...</td>\n",
       "      <td>u dun say so early hor u c already then say</td>\n",
       "    </tr>\n",
       "    <tr>\n",
       "      <th>4</th>\n",
       "      <td>0</td>\n",
       "      <td>Nah I don't think he goes to usf, he lives aro...</td>\n",
       "      <td>nah i dont think he goes to usf he lives aroun...</td>\n",
       "    </tr>\n",
       "  </tbody>\n",
       "</table>\n",
       "</div>"
      ],
      "text/plain": [
       "   Category                                            Message  \\\n",
       "0         0  Go until jurong point, crazy.. Available only ...   \n",
       "1         0                      Ok lar... Joking wif u oni...   \n",
       "2         1  Free entry in 2 a wkly comp to win FA Cup fina...   \n",
       "3         0  U dun say so early hor... U c already then say...   \n",
       "4         0  Nah I don't think he goes to usf, he lives aro...   \n",
       "\n",
       "                                             message  \n",
       "0  go until jurong point crazy available only in ...  \n",
       "1                            ok lar joking wif u oni  \n",
       "2  free entry in 2 a wkly comp to win fa cup fina...  \n",
       "3        u dun say so early hor u c already then say  \n",
       "4  nah i dont think he goes to usf he lives aroun...  "
      ]
     },
     "execution_count": 14,
     "metadata": {},
     "output_type": "execute_result"
    }
   ],
   "source": [
    "df.head()"
   ]
  },
  {
   "cell_type": "markdown",
   "id": "3f482b3e",
   "metadata": {
    "papermill": {
     "duration": 0.008847,
     "end_time": "2023-05-18T04:35:30.068230",
     "exception": false,
     "start_time": "2023-05-18T04:35:30.059383",
     "status": "completed"
    },
    "tags": []
   },
   "source": [
    "ham --> 0 \n",
    "spam-->1"
   ]
  },
  {
   "cell_type": "code",
   "execution_count": 15,
   "id": "e4b51bbc",
   "metadata": {
    "execution": {
     "iopub.execute_input": "2023-05-18T04:35:30.088447Z",
     "iopub.status.busy": "2023-05-18T04:35:30.087885Z",
     "iopub.status.idle": "2023-05-18T04:35:30.092367Z",
     "shell.execute_reply": "2023-05-18T04:35:30.091289Z"
    },
    "papermill": {
     "duration": 0.016925,
     "end_time": "2023-05-18T04:35:30.094503",
     "exception": false,
     "start_time": "2023-05-18T04:35:30.077578",
     "status": "completed"
    },
    "tags": []
   },
   "outputs": [],
   "source": [
    "tfv=TfidfVectorizer()"
   ]
  },
  {
   "cell_type": "markdown",
   "id": "5b8036ee",
   "metadata": {
    "papermill": {
     "duration": 0.008243,
     "end_time": "2023-05-18T04:35:30.112070",
     "exception": false,
     "start_time": "2023-05-18T04:35:30.103827",
     "status": "completed"
    },
    "tags": []
   },
   "source": [
    "### Splitting X and Y"
   ]
  },
  {
   "cell_type": "code",
   "execution_count": 16,
   "id": "edc84c91",
   "metadata": {
    "execution": {
     "iopub.execute_input": "2023-05-18T04:35:30.131824Z",
     "iopub.status.busy": "2023-05-18T04:35:30.130384Z",
     "iopub.status.idle": "2023-05-18T04:35:30.323491Z",
     "shell.execute_reply": "2023-05-18T04:35:30.322281Z"
    },
    "papermill": {
     "duration": 0.20545,
     "end_time": "2023-05-18T04:35:30.325854",
     "exception": false,
     "start_time": "2023-05-18T04:35:30.120404",
     "status": "completed"
    },
    "tags": []
   },
   "outputs": [],
   "source": [
    "x=tfv.fit_transform(df[\"message\"]).toarray() #need to convert it to numpy array\n",
    "y=df['Category']"
   ]
  },
  {
   "cell_type": "code",
   "execution_count": 17,
   "id": "505ee834",
   "metadata": {
    "execution": {
     "iopub.execute_input": "2023-05-18T04:35:30.344863Z",
     "iopub.status.busy": "2023-05-18T04:35:30.344469Z",
     "iopub.status.idle": "2023-05-18T04:35:30.442127Z",
     "shell.execute_reply": "2023-05-18T04:35:30.441025Z"
    },
    "papermill": {
     "duration": 0.109457,
     "end_time": "2023-05-18T04:35:30.444347",
     "exception": false,
     "start_time": "2023-05-18T04:35:30.334890",
     "status": "completed"
    },
    "tags": []
   },
   "outputs": [],
   "source": [
    "xtrain,xtest,ytrain,ytest=train_test_split(x,y,train_size=0.75)"
   ]
  },
  {
   "cell_type": "markdown",
   "id": "5f3d039b",
   "metadata": {
    "papermill": {
     "duration": 0.008113,
     "end_time": "2023-05-18T04:35:30.461251",
     "exception": false,
     "start_time": "2023-05-18T04:35:30.453138",
     "status": "completed"
    },
    "tags": []
   },
   "source": [
    "## Building neural network"
   ]
  },
  {
   "cell_type": "code",
   "execution_count": 18,
   "id": "df518393",
   "metadata": {
    "execution": {
     "iopub.execute_input": "2023-05-18T04:35:30.481501Z",
     "iopub.status.busy": "2023-05-18T04:35:30.481042Z",
     "iopub.status.idle": "2023-05-18T04:35:30.774789Z",
     "shell.execute_reply": "2023-05-18T04:35:30.773466Z"
    },
    "papermill": {
     "duration": 0.306826,
     "end_time": "2023-05-18T04:35:30.777428",
     "exception": false,
     "start_time": "2023-05-18T04:35:30.470602",
     "status": "completed"
    },
    "tags": []
   },
   "outputs": [],
   "source": [
    "nn=Sequential()\n",
    "\n",
    "#1st hidden layer\n",
    "nn.add(Dense(128,input_dim=xtrain.shape[1],activation='relu'))\n",
    "nn.add(Dropout(0.3))\n",
    "nn.add(BatchNormalization())\n",
    "\n",
    "#2nd hidden layer\n",
    "nn.add(Dense(64,activation='relu'))\n",
    "nn.add(Dropout(0.3))\n",
    "nn.add(BatchNormalization())\n",
    "\n",
    "#3rd hidden layer\n",
    "nn.add(Dense(32,activation='relu'))\n",
    "nn.add(Dropout(0.3))\n",
    "nn.add(BatchNormalization())\n",
    "\n",
    "#o/p layer\n",
    "nn.add(Dense(1,activation='sigmoid'))"
   ]
  },
  {
   "cell_type": "code",
   "execution_count": 19,
   "id": "1c1a6b46",
   "metadata": {
    "execution": {
     "iopub.execute_input": "2023-05-18T04:35:30.800462Z",
     "iopub.status.busy": "2023-05-18T04:35:30.799706Z",
     "iopub.status.idle": "2023-05-18T04:35:30.841436Z",
     "shell.execute_reply": "2023-05-18T04:35:30.839707Z"
    },
    "papermill": {
     "duration": 0.056033,
     "end_time": "2023-05-18T04:35:30.843202",
     "exception": false,
     "start_time": "2023-05-18T04:35:30.787169",
     "status": "completed"
    },
    "tags": []
   },
   "outputs": [
    {
     "name": "stdout",
     "output_type": "stream",
     "text": [
      "Model: \"sequential\"\n",
      "_________________________________________________________________\n",
      " Layer (type)                Output Shape              Param #   \n",
      "=================================================================\n",
      " dense (Dense)               (None, 128)               1221120   \n",
      "                                                                 \n",
      " dropout (Dropout)           (None, 128)               0         \n",
      "                                                                 \n",
      " batch_normalization (BatchN  (None, 128)              512       \n",
      " ormalization)                                                   \n",
      "                                                                 \n",
      " dense_1 (Dense)             (None, 64)                8256      \n",
      "                                                                 \n",
      " dropout_1 (Dropout)         (None, 64)                0         \n",
      "                                                                 \n",
      " batch_normalization_1 (Batc  (None, 64)               256       \n",
      " hNormalization)                                                 \n",
      "                                                                 \n",
      " dense_2 (Dense)             (None, 32)                2080      \n",
      "                                                                 \n",
      " dropout_2 (Dropout)         (None, 32)                0         \n",
      "                                                                 \n",
      " batch_normalization_2 (Batc  (None, 32)               128       \n",
      " hNormalization)                                                 \n",
      "                                                                 \n",
      " dense_3 (Dense)             (None, 1)                 33        \n",
      "                                                                 \n",
      "=================================================================\n",
      "Total params: 1,232,385\n",
      "Trainable params: 1,231,937\n",
      "Non-trainable params: 448\n",
      "_________________________________________________________________\n"
     ]
    }
   ],
   "source": [
    "nn.summary()"
   ]
  },
  {
   "cell_type": "code",
   "execution_count": 20,
   "id": "ebc90f57",
   "metadata": {
    "execution": {
     "iopub.execute_input": "2023-05-18T04:35:30.865509Z",
     "iopub.status.busy": "2023-05-18T04:35:30.865191Z",
     "iopub.status.idle": "2023-05-18T04:35:30.869003Z",
     "shell.execute_reply": "2023-05-18T04:35:30.868004Z"
    },
    "papermill": {
     "duration": 0.016786,
     "end_time": "2023-05-18T04:35:30.870467",
     "exception": false,
     "start_time": "2023-05-18T04:35:30.853681",
     "status": "completed"
    },
    "tags": []
   },
   "outputs": [],
   "source": [
    "early_stop=EarlyStopping(monitor='val_loss',patience=5)"
   ]
  },
  {
   "cell_type": "code",
   "execution_count": 21,
   "id": "d07ce9ff",
   "metadata": {
    "execution": {
     "iopub.execute_input": "2023-05-18T04:35:30.891871Z",
     "iopub.status.busy": "2023-05-18T04:35:30.891569Z",
     "iopub.status.idle": "2023-05-18T04:35:30.906127Z",
     "shell.execute_reply": "2023-05-18T04:35:30.905283Z"
    },
    "papermill": {
     "duration": 0.02817,
     "end_time": "2023-05-18T04:35:30.908646",
     "exception": false,
     "start_time": "2023-05-18T04:35:30.880476",
     "status": "completed"
    },
    "tags": []
   },
   "outputs": [],
   "source": [
    "nn.compile(loss='binary_crossentropy',optimizer='adam',metrics=['accuracy'])"
   ]
  },
  {
   "cell_type": "code",
   "execution_count": 22,
   "id": "e2a0bbf5",
   "metadata": {
    "execution": {
     "iopub.execute_input": "2023-05-18T04:35:30.932287Z",
     "iopub.status.busy": "2023-05-18T04:35:30.931948Z",
     "iopub.status.idle": "2023-05-18T04:35:56.718059Z",
     "shell.execute_reply": "2023-05-18T04:35:56.716765Z"
    },
    "papermill": {
     "duration": 25.80056,
     "end_time": "2023-05-18T04:35:56.720439",
     "exception": false,
     "start_time": "2023-05-18T04:35:30.919879",
     "status": "completed"
    },
    "tags": []
   },
   "outputs": [
    {
     "name": "stdout",
     "output_type": "stream",
     "text": [
      "Epoch 1/100\n",
      "310/310 [==============================] - 6s 12ms/step - loss: 0.5085 - accuracy: 0.7462 - val_loss: 0.2832 - val_accuracy: 0.8966\n",
      "Epoch 2/100\n",
      "310/310 [==============================] - 3s 10ms/step - loss: 0.2400 - accuracy: 0.9085 - val_loss: 0.1011 - val_accuracy: 0.9638\n",
      "Epoch 3/100\n",
      "310/310 [==============================] - 3s 10ms/step - loss: 0.1502 - accuracy: 0.9450 - val_loss: 0.0735 - val_accuracy: 0.9755\n",
      "Epoch 4/100\n",
      "310/310 [==============================] - 3s 9ms/step - loss: 0.1068 - accuracy: 0.9667 - val_loss: 0.0872 - val_accuracy: 0.9690\n",
      "Epoch 5/100\n",
      "310/310 [==============================] - 3s 9ms/step - loss: 0.0958 - accuracy: 0.9673 - val_loss: 0.0982 - val_accuracy: 0.9677\n",
      "Epoch 6/100\n",
      "310/310 [==============================] - 3s 9ms/step - loss: 0.0725 - accuracy: 0.9738 - val_loss: 0.1067 - val_accuracy: 0.9651\n",
      "Epoch 7/100\n",
      "310/310 [==============================] - 3s 10ms/step - loss: 0.0662 - accuracy: 0.9796 - val_loss: 0.1204 - val_accuracy: 0.9664\n",
      "Epoch 8/100\n",
      "310/310 [==============================] - 3s 9ms/step - loss: 0.0499 - accuracy: 0.9825 - val_loss: 0.1316 - val_accuracy: 0.9664\n"
     ]
    }
   ],
   "source": [
    "hist=nn.fit(xtrain,ytrain,callbacks=early_stop,epochs=100,validation_split=0.2,batch_size=10)"
   ]
  },
  {
   "cell_type": "code",
   "execution_count": 23,
   "id": "2e7f8f1e",
   "metadata": {
    "execution": {
     "iopub.execute_input": "2023-05-18T04:35:56.788282Z",
     "iopub.status.busy": "2023-05-18T04:35:56.787187Z",
     "iopub.status.idle": "2023-05-18T04:35:57.406078Z",
     "shell.execute_reply": "2023-05-18T04:35:57.404235Z"
    },
    "papermill": {
     "duration": 0.655403,
     "end_time": "2023-05-18T04:35:57.408728",
     "exception": false,
     "start_time": "2023-05-18T04:35:56.753325",
     "status": "completed"
    },
    "tags": []
   },
   "outputs": [
    {
     "name": "stdout",
     "output_type": "stream",
     "text": [
      "121/121 [==============================] - 0s 4ms/step - loss: 0.0289 - accuracy: 0.9930\n"
     ]
    },
    {
     "data": {
      "text/plain": [
       "[0.028942110016942024, 0.993017852306366]"
      ]
     },
     "execution_count": 23,
     "metadata": {},
     "output_type": "execute_result"
    }
   ],
   "source": [
    "nn.evaluate(xtrain,ytrain)"
   ]
  },
  {
   "cell_type": "code",
   "execution_count": 24,
   "id": "13877333",
   "metadata": {
    "execution": {
     "iopub.execute_input": "2023-05-18T04:35:57.478117Z",
     "iopub.status.busy": "2023-05-18T04:35:57.477332Z",
     "iopub.status.idle": "2023-05-18T04:35:57.716110Z",
     "shell.execute_reply": "2023-05-18T04:35:57.714833Z"
    },
    "papermill": {
     "duration": 0.275455,
     "end_time": "2023-05-18T04:35:57.717893",
     "exception": false,
     "start_time": "2023-05-18T04:35:57.442438",
     "status": "completed"
    },
    "tags": []
   },
   "outputs": [
    {
     "name": "stdout",
     "output_type": "stream",
     "text": [
      "41/41 [==============================] - 0s 4ms/step - loss: 0.1208 - accuracy: 0.9744\n"
     ]
    },
    {
     "data": {
      "text/plain": [
       "[0.12080998718738556, 0.974418580532074]"
      ]
     },
     "execution_count": 24,
     "metadata": {},
     "output_type": "execute_result"
    }
   ],
   "source": [
    "nn.evaluate(xtest,ytest)"
   ]
  },
  {
   "cell_type": "code",
   "execution_count": 25,
   "id": "e891ad17",
   "metadata": {
    "execution": {
     "iopub.execute_input": "2023-05-18T04:35:57.789187Z",
     "iopub.status.busy": "2023-05-18T04:35:57.788837Z",
     "iopub.status.idle": "2023-05-18T04:35:57.983347Z",
     "shell.execute_reply": "2023-05-18T04:35:57.982253Z"
    },
    "papermill": {
     "duration": 0.232196,
     "end_time": "2023-05-18T04:35:57.985706",
     "exception": false,
     "start_time": "2023-05-18T04:35:57.753510",
     "status": "completed"
    },
    "tags": []
   },
   "outputs": [
    {
     "data": {
      "text/plain": [
       "[<matplotlib.lines.Line2D at 0x7a7683d32aa0>]"
      ]
     },
     "execution_count": 25,
     "metadata": {},
     "output_type": "execute_result"
    },
    {
     "data": {
      "image/png": "[encoded data removed]",
      "text/plain": [
       "<Figure size 640x480 with 1 Axes>"
      ]
     },
     "metadata": {},
     "output_type": "display_data"
    }
   ],
   "source": [
    "plt.plot(hist.history['loss'],c='red')\n",
    "plt.plot(hist.history['val_loss'],c='blue')"
   ]
  },
  {
   "cell_type": "code",
   "execution_count": 26,
   "id": "11cf7a8b",
   "metadata": {
    "execution": {
     "iopub.execute_input": "2023-05-18T04:35:58.059407Z",
     "iopub.status.busy": "2023-05-18T04:35:58.059084Z",
     "iopub.status.idle": "2023-05-18T04:35:58.434711Z",
     "shell.execute_reply": "2023-05-18T04:35:58.433510Z"
    },
    "papermill": {
     "duration": 0.415703,
     "end_time": "2023-05-18T04:35:58.437282",
     "exception": false,
     "start_time": "2023-05-18T04:35:58.021579",
     "status": "completed"
    },
    "tags": []
   },
   "outputs": [
    {
     "name": "stdout",
     "output_type": "stream",
     "text": [
      "41/41 [==============================] - 0s 3ms/step\n"
     ]
    }
   ],
   "source": [
    "y_pred_prob=nn.predict(xtest) #return probability\n",
    "y_pred=[]\n",
    "\n",
    "for i in y_pred_prob:\n",
    "    if i>=0.5:\n",
    "        y_pred.append(1)\n",
    "    else:\n",
    "        y_pred.append(0)"
   ]
  },
  {
   "cell_type": "code",
   "execution_count": 27,
   "id": "e5af5ef1",
   "metadata": {
    "execution": {
     "iopub.execute_input": "2023-05-18T04:35:58.508486Z",
     "iopub.status.busy": "2023-05-18T04:35:58.508131Z",
     "iopub.status.idle": "2023-05-18T04:35:58.520267Z",
     "shell.execute_reply": "2023-05-18T04:35:58.519623Z"
    },
    "papermill": {
     "duration": 0.050051,
     "end_time": "2023-05-18T04:35:58.522043",
     "exception": false,
     "start_time": "2023-05-18T04:35:58.471992",
     "status": "completed"
    },
    "tags": []
   },
   "outputs": [
    {
     "name": "stdout",
     "output_type": "stream",
     "text": [
      "              precision    recall  f1-score   support\n",
      "\n",
      "           0       0.97      1.00      0.99      1142\n",
      "           1       0.99      0.78      0.88       148\n",
      "\n",
      "    accuracy                           0.97      1290\n",
      "   macro avg       0.98      0.89      0.93      1290\n",
      "weighted avg       0.97      0.97      0.97      1290\n",
      "\n"
     ]
    }
   ],
   "source": [
    "print(classification_report(ytest,y_pred))"
   ]
  },
  {
   "cell_type": "code",
   "execution_count": 28,
   "id": "c11d357b",
   "metadata": {
    "execution": {
     "iopub.execute_input": "2023-05-18T04:35:58.595019Z",
     "iopub.status.busy": "2023-05-18T04:35:58.593778Z",
     "iopub.status.idle": "2023-05-18T04:35:58.785633Z",
     "shell.execute_reply": "2023-05-18T04:35:58.784672Z"
    },
    "papermill": {
     "duration": 0.230831,
     "end_time": "2023-05-18T04:35:58.788006",
     "exception": false,
     "start_time": "2023-05-18T04:35:58.557175",
     "status": "completed"
    },
    "tags": []
   },
   "outputs": [
    {
     "data": {
      "text/plain": [
       "<AxesSubplot: >"
      ]
     },
     "execution_count": 28,
     "metadata": {},
     "output_type": "execute_result"
    },
    {
     "data": {
      "image/png": "[encoded data removed]",
      "text/plain": [
       "<Figure size 640x480 with 2 Axes>"
      ]
     },
     "metadata": {},
     "output_type": "display_data"
    }
   ],
   "source": [
    "sns.heatmap(confusion_matrix(ytest,y_pred),annot=True,fmt='d')"
   ]
  },
  {
   "cell_type": "code",
   "execution_count": 29,
   "id": "33114058",
   "metadata": {
    "execution": {
     "iopub.execute_input": "2023-05-18T04:35:58.860417Z",
     "iopub.status.busy": "2023-05-18T04:35:58.859925Z",
     "iopub.status.idle": "2023-05-18T04:35:58.922186Z",
     "shell.execute_reply": "2023-05-18T04:35:58.920589Z"
    },
    "papermill": {
     "duration": 0.101503,
     "end_time": "2023-05-18T04:35:58.924411",
     "exception": false,
     "start_time": "2023-05-18T04:35:58.822908",
     "status": "completed"
    },
    "tags": []
   },
   "outputs": [],
   "source": [
    "nn.save(\"email_detection.h5\") # saving model for future use"
   ]
  },
  {
   "cell_type": "markdown",
   "id": "c777da8d",
   "metadata": {
    "papermill": {
     "duration": 0.035333,
     "end_time": "2023-05-18T04:35:58.994818",
     "exception": false,
     "start_time": "2023-05-18T04:35:58.959485",
     "status": "completed"
    },
    "tags": []
   },
   "source": [
    "### Testing model on real world data"
   ]
  },
  {
   "cell_type": "code",
   "execution_count": 30,
   "id": "ef2c9369",
   "metadata": {
    "execution": {
     "iopub.execute_input": "2023-05-18T04:35:59.067368Z",
     "iopub.status.busy": "2023-05-18T04:35:59.066993Z",
     "iopub.status.idle": "2023-05-18T04:35:59.263695Z",
     "shell.execute_reply": "2023-05-18T04:35:59.262605Z"
    },
    "papermill": {
     "duration": 0.235888,
     "end_time": "2023-05-18T04:35:59.266171",
     "exception": false,
     "start_time": "2023-05-18T04:35:59.030283",
     "status": "completed"
    },
    "tags": []
   },
   "outputs": [],
   "source": [
    "def detect(model,string):\n",
    "    string=string.lower()\n",
    "    string=re.sub(\"[^a-z ]\",\"\",string)\n",
    "    x=tfv.transform([string]).toarray()\n",
    "    y=model.predict(x)\n",
    "    print(y)\n",
    "    if y>=0.5:\n",
    "        print(\"This is spam mail\")\n",
    "    else:\n",
    "        print(\"This is ham mail\")\n",
    "        \n",
    "email_model=load_model(\"email_detection.h5\")  "
   ]
  },
  {
   "cell_type": "code",
   "execution_count": 31,
   "id": "27ac6374",
   "metadata": {
    "execution": {
     "iopub.execute_input": "2023-05-18T04:35:59.339855Z",
     "iopub.status.busy": "2023-05-18T04:35:59.339483Z",
     "iopub.status.idle": "2023-05-18T04:35:59.344163Z",
     "shell.execute_reply": "2023-05-18T04:35:59.343115Z"
    },
    "papermill": {
     "duration": 0.042983,
     "end_time": "2023-05-18T04:35:59.345893",
     "exception": false,
     "start_time": "2023-05-18T04:35:59.302910",
     "status": "completed"
    },
    "tags": []
   },
   "outputs": [],
   "source": [
    "message=\"How to win cash price!! click on below link and redeem it.\""
   ]
  },
  {
   "cell_type": "code",
   "execution_count": 32,
   "id": "46ed35a1",
   "metadata": {
    "execution": {
     "iopub.execute_input": "2023-05-18T04:35:59.418428Z",
     "iopub.status.busy": "2023-05-18T04:35:59.417933Z",
     "iopub.status.idle": "2023-05-18T04:35:59.557867Z",
     "shell.execute_reply": "2023-05-18T04:35:59.556703Z"
    },
    "papermill": {
     "duration": 0.178091,
     "end_time": "2023-05-18T04:35:59.559641",
     "exception": false,
     "start_time": "2023-05-18T04:35:59.381550",
     "status": "completed"
    },
    "tags": []
   },
   "outputs": [
    {
     "name": "stdout",
     "output_type": "stream",
     "text": [
      "1/1 [==============================] - 0s 96ms/step\n",
      "[[0.9336995]]\n",
      "This is spam mail\n"
     ]
    }
   ],
   "source": [
    "detect(email_model,message)"
   ]
  },
  {
   "cell_type": "code",
   "execution_count": 33,
   "id": "cbcc5a93",
   "metadata": {
    "execution": {
     "iopub.execute_input": "2023-05-18T04:35:59.634845Z",
     "iopub.status.busy": "2023-05-18T04:35:59.633573Z",
     "iopub.status.idle": "2023-05-18T04:35:59.638433Z",
     "shell.execute_reply": "2023-05-18T04:35:59.637289Z"
    },
    "papermill": {
     "duration": 0.043562,
     "end_time": "2023-05-18T04:35:59.640817",
     "exception": false,
     "start_time": "2023-05-18T04:35:59.597255",
     "status": "completed"
    },
    "tags": []
   },
   "outputs": [],
   "source": [
    "message='Congratulation!!!! You won a prize of $10000.'"
   ]
  },
  {
   "cell_type": "code",
   "execution_count": 34,
   "id": "16ecb017",
   "metadata": {
    "execution": {
     "iopub.execute_input": "2023-05-18T04:35:59.714915Z",
     "iopub.status.busy": "2023-05-18T04:35:59.714531Z",
     "iopub.status.idle": "2023-05-18T04:35:59.772696Z",
     "shell.execute_reply": "2023-05-18T04:35:59.771295Z"
    },
    "papermill": {
     "duration": 0.098171,
     "end_time": "2023-05-18T04:35:59.774969",
     "exception": false,
     "start_time": "2023-05-18T04:35:59.676798",
     "status": "completed"
    },
    "tags": []
   },
   "outputs": [
    {
     "name": "stdout",
     "output_type": "stream",
     "text": [
      "1/1 [==============================] - 0s 17ms/step\n",
      "[[0.995966]]\n",
      "This is spam mail\n"
     ]
    }
   ],
   "source": [
    "detect(email_model,message)"
   ]
  },
  {
   "cell_type": "code",
   "execution_count": 35,
   "id": "4caf49b6",
   "metadata": {
    "execution": {
     "iopub.execute_input": "2023-05-18T04:35:59.849822Z",
     "iopub.status.busy": "2023-05-18T04:35:59.849423Z",
     "iopub.status.idle": "2023-05-18T04:35:59.853846Z",
     "shell.execute_reply": "2023-05-18T04:35:59.852885Z"
    },
    "papermill": {
     "duration": 0.043853,
     "end_time": "2023-05-18T04:35:59.855439",
     "exception": false,
     "start_time": "2023-05-18T04:35:59.811586",
     "status": "completed"
    },
    "tags": []
   },
   "outputs": [],
   "source": [
    "message=\"Need last month reports\""
   ]
  },
  {
   "cell_type": "code",
   "execution_count": 36,
   "id": "f13f79ad",
   "metadata": {
    "execution": {
     "iopub.execute_input": "2023-05-18T04:35:59.929278Z",
     "iopub.status.busy": "2023-05-18T04:35:59.928930Z",
     "iopub.status.idle": "2023-05-18T04:35:59.994521Z",
     "shell.execute_reply": "2023-05-18T04:35:59.993799Z"
    },
    "papermill": {
     "duration": 0.104454,
     "end_time": "2023-05-18T04:35:59.996153",
     "exception": false,
     "start_time": "2023-05-18T04:35:59.891699",
     "status": "completed"
    },
    "tags": []
   },
   "outputs": [
    {
     "name": "stdout",
     "output_type": "stream",
     "text": [
      "1/1 [==============================] - 0s 20ms/step\n",
      "[[0.00043036]]\n",
      "This is ham mail\n"
     ]
    }
   ],
   "source": [
    "detect(email_model,message)"
   ]
  }
 ],
 "metadata": {
  "kernelspec": {
   "display_name": "Python 3",
   "language": "python",
   "name": "python3"
  },
  "language_info": {
   "codemirror_mode": {
    "name": "ipython",
    "version": 3
   },
   "file_extension": ".py",
   "mimetype": "text/x-python",
   "name": "python",
   "nbconvert_exporter": "python",
   "pygments_lexer": "ipython3",
   "version": "3.10.10"
  },
  "papermill": {
   "default_parameters": {},
   "duration": 51.332052,
   "end_time": "2023-05-18T04:36:03.062442",
   "environment_variables": {},
   "exception": null,
   "input_path": "__notebook__.ipynb",
   "output_path": "__notebook__.ipynb",
   "parameters": {},
   "start_time": "2023-05-18T04:35:11.730390",
   "version": "2.4.0"
  }
 },
 "nbformat": 4,
 "nbformat_minor": 5
}
