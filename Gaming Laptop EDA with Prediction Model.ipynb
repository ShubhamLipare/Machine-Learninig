{
 "cells": [
  {
   "cell_type": "code",
   "execution_count": 26,
   "id": "658aa052",
   "metadata": {},
   "outputs": [],
   "source": [
    "import pandas as pd\n",
    "import numpy as np\n",
    "import seaborn as sns\n",
    "import matplotlib.pyplot as plt\n",
    "\n",
    "from sklearn.model_selection import train_test_split\n",
    "from sklearn.preprocessing import OrdinalEncoder,LabelEncoder\n",
    "from sklearn.linear_model import LinearRegression\n",
    "from sklearn.ensemble import RandomForestRegressor\n",
    "from sklearn.tree import DecisionTreeRegressor\n",
    "from sklearn.ensemble import AdaBoostRegressor,GradientBoostingRegressor\n",
    "\n",
    "from sklearn.metrics import mean_absolute_error,mean_squared_error,r2_score"
   ]
  },
  {
   "cell_type": "code",
   "execution_count": 2,
   "id": "6b4bf104",
   "metadata": {},
   "outputs": [],
   "source": [
    "df=pd.read_excel(\"lapdata.xlsx\")"
   ]
  },
  {
   "cell_type": "code",
   "execution_count": 3,
   "id": "de0c3ab1",
   "metadata": {},
   "outputs": [
    {
     "data": {
      "text/html": [
       "<div>\n",
       "<style scoped>\n",
       "    .dataframe tbody tr th:only-of-type {\n",
       "        vertical-align: middle;\n",
       "    }\n",
       "\n",
       "    .dataframe tbody tr th {\n",
       "        vertical-align: top;\n",
       "    }\n",
       "\n",
       "    .dataframe thead th {\n",
       "        text-align: right;\n",
       "    }\n",
       "</style>\n",
       "<table border=\"1\" class=\"dataframe\">\n",
       "  <thead>\n",
       "    <tr style=\"text-align: right;\">\n",
       "      <th></th>\n",
       "      <th>Product</th>\n",
       "      <th>Processor</th>\n",
       "      <th>Ram</th>\n",
       "      <th>Memory</th>\n",
       "      <th>OS</th>\n",
       "      <th>Size</th>\n",
       "      <th>Price</th>\n",
       "    </tr>\n",
       "  </thead>\n",
       "  <tbody>\n",
       "    <tr>\n",
       "      <th>0</th>\n",
       "      <td>MSI Stealth GS77 12UHS-226IN</td>\n",
       "      <td>12th Gen Core i9</td>\n",
       "      <td>32 GB DDR5 RAM</td>\n",
       "      <td>2 TB SSD</td>\n",
       "      <td>Windows 11 OS</td>\n",
       "      <td>17.3 inches</td>\n",
       "      <td>3,00,990</td>\n",
       "    </tr>\n",
       "    <tr>\n",
       "      <th>1</th>\n",
       "      <td>MSI Titan GT77 HX 13VI-092IN</td>\n",
       "      <td>13th Gen Intel Core i9 13980HX</td>\n",
       "      <td>64 GB DDR5 RAM</td>\n",
       "      <td>4 TB SSD</td>\n",
       "      <td>Windows 11 OS</td>\n",
       "      <td>17.3 inches</td>\n",
       "      <td>5,99,990</td>\n",
       "    </tr>\n",
       "    <tr>\n",
       "      <th>2</th>\n",
       "      <td>Acer Predator Helios 500 Ph517-52</td>\n",
       "      <td>11th Gen Intel Core i9 11980HK</td>\n",
       "      <td>64 GB DDR4 RAM</td>\n",
       "      <td>2 TB SSD</td>\n",
       "      <td>Windows 10 OS</td>\n",
       "      <td>17.3 inches</td>\n",
       "      <td>4,42,605</td>\n",
       "    </tr>\n",
       "    <tr>\n",
       "      <th>3</th>\n",
       "      <td>MSI Titan GT77 HX 13VH-093IN</td>\n",
       "      <td>13th Gen Intel Core i9 13980HX</td>\n",
       "      <td>64 GB DDR5 RAM</td>\n",
       "      <td>2 TB SSD</td>\n",
       "      <td>Windows 11 OS</td>\n",
       "      <td>17.3 inches</td>\n",
       "      <td>4,89,990</td>\n",
       "    </tr>\n",
       "    <tr>\n",
       "      <th>4</th>\n",
       "      <td>MSI Stealth GS66 12UGS-290IN</td>\n",
       "      <td>12th Gen Intel Core i7 12700H</td>\n",
       "      <td>32 GB DDR5 RAM</td>\n",
       "      <td>1 TB SSD</td>\n",
       "      <td>Windows 11 OS</td>\n",
       "      <td>15.6 inches</td>\n",
       "      <td>1,95,990</td>\n",
       "    </tr>\n",
       "  </tbody>\n",
       "</table>\n",
       "</div>"
      ],
      "text/plain": [
       "                             Product                       Processor  \\\n",
       "0       MSI Stealth GS77 12UHS-226IN                12th Gen Core i9   \n",
       "1       MSI Titan GT77 HX 13VI-092IN  13th Gen Intel Core i9 13980HX   \n",
       "2  Acer Predator Helios 500 Ph517-52  11th Gen Intel Core i9 11980HK   \n",
       "3       MSI Titan GT77 HX 13VH-093IN  13th Gen Intel Core i9 13980HX   \n",
       "4       MSI Stealth GS66 12UGS-290IN   12th Gen Intel Core i7 12700H   \n",
       "\n",
       "              Ram    Memory            OS          Size     Price  \n",
       "0  32 GB DDR5 RAM  2 TB SSD  Windows 11 OS  17.3 inches  3,00,990  \n",
       "1  64 GB DDR5 RAM  4 TB SSD  Windows 11 OS  17.3 inches  5,99,990  \n",
       "2  64 GB DDR4 RAM  2 TB SSD  Windows 10 OS  17.3 inches  4,42,605  \n",
       "3  64 GB DDR5 RAM  2 TB SSD  Windows 11 OS  17.3 inches  4,89,990  \n",
       "4  32 GB DDR5 RAM  1 TB SSD  Windows 11 OS  15.6 inches  1,95,990  "
      ]
     },
     "execution_count": 3,
     "metadata": {},
     "output_type": "execute_result"
    }
   ],
   "source": [
    "df.head()"
   ]
  },
  {
   "cell_type": "markdown",
   "id": "005ae995",
   "metadata": {},
   "source": [
    "# Data Dictionary\n",
    "1. Product--> product name attribute represents the unique name or model of each laptop.\n",
    "2. Processor--> The processor attribute specifies the central processing unit (CPU) of the laptop.\n",
    "3. Ram--> It indicates the amount of temporary memory available to the laptop for running applications and processes.\n",
    "4. Memory--> The memory attribute refers to the laptop's storage capacity, typically represented by the hard disk drive (HDD) or SSD.\n",
    "5. OS--> Operating system.\n",
    "6. Size--> Display size.\n",
    "7. Price--> Price of laptop in rupees(Rs.)"
   ]
  },
  {
   "cell_type": "code",
   "execution_count": 4,
   "id": "fc12880e",
   "metadata": {},
   "outputs": [
    {
     "data": {
      "text/plain": [
       "(49, 7)"
      ]
     },
     "execution_count": 4,
     "metadata": {},
     "output_type": "execute_result"
    }
   ],
   "source": [
    "df.shape"
   ]
  },
  {
   "cell_type": "code",
   "execution_count": 5,
   "id": "f7d3d03a",
   "metadata": {},
   "outputs": [
    {
     "name": "stdout",
     "output_type": "stream",
     "text": [
      "<class 'pandas.core.frame.DataFrame'>\n",
      "RangeIndex: 49 entries, 0 to 48\n",
      "Data columns (total 7 columns):\n",
      " #   Column     Non-Null Count  Dtype \n",
      "---  ------     --------------  ----- \n",
      " 0   Product    49 non-null     object\n",
      " 1   Processor  49 non-null     object\n",
      " 2   Ram        49 non-null     object\n",
      " 3   Memory     49 non-null     object\n",
      " 4   OS         49 non-null     object\n",
      " 5   Size       49 non-null     object\n",
      " 6   Price      49 non-null     object\n",
      "dtypes: object(7)\n",
      "memory usage: 2.8+ KB\n"
     ]
    }
   ],
   "source": [
    "df.info()"
   ]
  },
  {
   "cell_type": "markdown",
   "id": "8e5ee077",
   "metadata": {},
   "source": [
    "Price is not in correct format."
   ]
  },
  {
   "cell_type": "code",
   "execution_count": 6,
   "id": "86df5ccb",
   "metadata": {},
   "outputs": [
    {
     "data": {
      "text/plain": [
       "Product      0\n",
       "Processor    0\n",
       "Ram          0\n",
       "Memory       0\n",
       "OS           0\n",
       "Size         0\n",
       "Price        0\n",
       "dtype: int64"
      ]
     },
     "execution_count": 6,
     "metadata": {},
     "output_type": "execute_result"
    }
   ],
   "source": [
    "df.isnull().sum()"
   ]
  },
  {
   "cell_type": "code",
   "execution_count": 7,
   "id": "fefd5d6c",
   "metadata": {},
   "outputs": [
    {
     "data": {
      "text/plain": [
       "1"
      ]
     },
     "execution_count": 7,
     "metadata": {},
     "output_type": "execute_result"
    }
   ],
   "source": [
    "df.duplicated().sum()"
   ]
  },
  {
   "cell_type": "code",
   "execution_count": 8,
   "id": "fc39f538",
   "metadata": {},
   "outputs": [],
   "source": [
    "df.drop_duplicates(inplace=True)"
   ]
  },
  {
   "cell_type": "markdown",
   "id": "3e1a4fe3",
   "metadata": {},
   "source": [
    "Data is cleaned. "
   ]
  },
  {
   "cell_type": "code",
   "execution_count": 9,
   "id": "a1203752",
   "metadata": {},
   "outputs": [],
   "source": [
    "# converting ,(comma) from Price to blank space\n",
    "\n",
    "Price=[]\n",
    "\n",
    "for i in df['Price']:\n",
    "    i=str(i)\n",
    "    if ',' in i:\n",
    "        Price.append(int(i.replace(',','')))\n",
    "    else :\n",
    "        Price.append(int(i))\n",
    "        \n",
    "        \n",
    "df['Price']=Price"
   ]
  },
  {
   "cell_type": "markdown",
   "id": "0d278073",
   "metadata": {},
   "source": [
    "# Feature extraction\n",
    "* We can extract important information from the exisiting features."
   ]
  },
  {
   "cell_type": "code",
   "execution_count": 10,
   "id": "d14de9b2",
   "metadata": {},
   "outputs": [],
   "source": [
    "def extract(df,col,element,name):\n",
    "    ls=[]\n",
    "    for i in df[col]:\n",
    "        ls.append(i.split(' ')[element])\n",
    "    df[name]=ls\n",
    "    \n",
    "    return df"
   ]
  },
  {
   "cell_type": "code",
   "execution_count": 11,
   "id": "2b75578d",
   "metadata": {},
   "outputs": [],
   "source": [
    "df=extract(df,'Product',0,'Company') # extracting company name from Product\n",
    "df=extract(df,'Product',1,'Series')"
   ]
  },
  {
   "cell_type": "code",
   "execution_count": 12,
   "id": "ca384928",
   "metadata": {},
   "outputs": [],
   "source": [
    "df=extract(df,'Processor',2,'Processor_company') "
   ]
  },
  {
   "cell_type": "code",
   "execution_count": 13,
   "id": "bacf8e16",
   "metadata": {},
   "outputs": [],
   "source": [
    "df=extract(df,'Ram',0,'Ram_size')\n",
    "df=extract(df,'Ram',1,'Ram_type')"
   ]
  },
  {
   "cell_type": "code",
   "execution_count": 14,
   "id": "968b2a02",
   "metadata": {},
   "outputs": [
    {
     "data": {
      "text/html": [
       "<div>\n",
       "<style scoped>\n",
       "    .dataframe tbody tr th:only-of-type {\n",
       "        vertical-align: middle;\n",
       "    }\n",
       "\n",
       "    .dataframe tbody tr th {\n",
       "        vertical-align: top;\n",
       "    }\n",
       "\n",
       "    .dataframe thead th {\n",
       "        text-align: right;\n",
       "    }\n",
       "</style>\n",
       "<table border=\"1\" class=\"dataframe\">\n",
       "  <thead>\n",
       "    <tr style=\"text-align: right;\">\n",
       "      <th></th>\n",
       "      <th>Product</th>\n",
       "      <th>Processor</th>\n",
       "      <th>Ram</th>\n",
       "      <th>Memory</th>\n",
       "      <th>OS</th>\n",
       "      <th>Size</th>\n",
       "      <th>Price</th>\n",
       "      <th>Company</th>\n",
       "      <th>Series</th>\n",
       "      <th>Processor_company</th>\n",
       "      <th>Ram_size</th>\n",
       "      <th>Ram_type</th>\n",
       "    </tr>\n",
       "  </thead>\n",
       "  <tbody>\n",
       "    <tr>\n",
       "      <th>0</th>\n",
       "      <td>MSI Stealth GS77 12UHS-226IN</td>\n",
       "      <td>12th Gen Core i9</td>\n",
       "      <td>32 GB DDR5 RAM</td>\n",
       "      <td>2 TB SSD</td>\n",
       "      <td>Windows 11 OS</td>\n",
       "      <td>17.3 inches</td>\n",
       "      <td>300990</td>\n",
       "      <td>MSI</td>\n",
       "      <td>Stealth</td>\n",
       "      <td>Core</td>\n",
       "      <td>32 GB</td>\n",
       "      <td>DDR5</td>\n",
       "    </tr>\n",
       "    <tr>\n",
       "      <th>1</th>\n",
       "      <td>MSI Titan GT77 HX 13VI-092IN</td>\n",
       "      <td>13th Gen Intel Core i9 13980HX</td>\n",
       "      <td>64 GB DDR5 RAM</td>\n",
       "      <td>4 TB SSD</td>\n",
       "      <td>Windows 11 OS</td>\n",
       "      <td>17.3 inches</td>\n",
       "      <td>599990</td>\n",
       "      <td>MSI</td>\n",
       "      <td>Titan</td>\n",
       "      <td>Intel</td>\n",
       "      <td>64 GB</td>\n",
       "      <td>DDR5</td>\n",
       "    </tr>\n",
       "    <tr>\n",
       "      <th>2</th>\n",
       "      <td>Acer Predator Helios 500 Ph517-52</td>\n",
       "      <td>11th Gen Intel Core i9 11980HK</td>\n",
       "      <td>64 GB DDR4 RAM</td>\n",
       "      <td>2 TB SSD</td>\n",
       "      <td>Windows 10 OS</td>\n",
       "      <td>17.3 inches</td>\n",
       "      <td>442605</td>\n",
       "      <td>Acer</td>\n",
       "      <td>Predator</td>\n",
       "      <td>Intel</td>\n",
       "      <td>64 GB</td>\n",
       "      <td>DDR4</td>\n",
       "    </tr>\n",
       "    <tr>\n",
       "      <th>3</th>\n",
       "      <td>MSI Titan GT77 HX 13VH-093IN</td>\n",
       "      <td>13th Gen Intel Core i9 13980HX</td>\n",
       "      <td>64 GB DDR5 RAM</td>\n",
       "      <td>2 TB SSD</td>\n",
       "      <td>Windows 11 OS</td>\n",
       "      <td>17.3 inches</td>\n",
       "      <td>489990</td>\n",
       "      <td>MSI</td>\n",
       "      <td>Titan</td>\n",
       "      <td>Intel</td>\n",
       "      <td>64 GB</td>\n",
       "      <td>DDR5</td>\n",
       "    </tr>\n",
       "    <tr>\n",
       "      <th>4</th>\n",
       "      <td>MSI Stealth GS66 12UGS-290IN</td>\n",
       "      <td>12th Gen Intel Core i7 12700H</td>\n",
       "      <td>32 GB DDR5 RAM</td>\n",
       "      <td>1 TB SSD</td>\n",
       "      <td>Windows 11 OS</td>\n",
       "      <td>15.6 inches</td>\n",
       "      <td>195990</td>\n",
       "      <td>MSI</td>\n",
       "      <td>Stealth</td>\n",
       "      <td>Intel</td>\n",
       "      <td>32 GB</td>\n",
       "      <td>DDR5</td>\n",
       "    </tr>\n",
       "  </tbody>\n",
       "</table>\n",
       "</div>"
      ],
      "text/plain": [
       "                             Product                       Processor  \\\n",
       "0       MSI Stealth GS77 12UHS-226IN                12th Gen Core i9   \n",
       "1       MSI Titan GT77 HX 13VI-092IN  13th Gen Intel Core i9 13980HX   \n",
       "2  Acer Predator Helios 500 Ph517-52  11th Gen Intel Core i9 11980HK   \n",
       "3       MSI Titan GT77 HX 13VH-093IN  13th Gen Intel Core i9 13980HX   \n",
       "4       MSI Stealth GS66 12UGS-290IN   12th Gen Intel Core i7 12700H   \n",
       "\n",
       "              Ram    Memory            OS          Size   Price Company  \\\n",
       "0  32 GB DDR5 RAM  2 TB SSD  Windows 11 OS  17.3 inches  300990     MSI   \n",
       "1  64 GB DDR5 RAM  4 TB SSD  Windows 11 OS  17.3 inches  599990     MSI   \n",
       "2  64 GB DDR4 RAM  2 TB SSD  Windows 10 OS  17.3 inches  442605    Acer   \n",
       "3  64 GB DDR5 RAM  2 TB SSD  Windows 11 OS  17.3 inches  489990     MSI   \n",
       "4  32 GB DDR5 RAM  1 TB SSD  Windows 11 OS  15.6 inches  195990     MSI   \n",
       "\n",
       "     Series Processor_company Ram_size Ram_type  \n",
       "0   Stealth              Core    32 GB     DDR5  \n",
       "1     Titan             Intel    64 GB     DDR5  \n",
       "2  Predator             Intel    64 GB     DDR4  \n",
       "3     Titan             Intel    64 GB     DDR5  \n",
       "4   Stealth             Intel    32 GB     DDR5  "
      ]
     },
     "execution_count": 14,
     "metadata": {},
     "output_type": "execute_result"
    }
   ],
   "source": [
    "df.head()"
   ]
  },
  {
   "cell_type": "code",
   "execution_count": 15,
   "id": "b3854d6e",
   "metadata": {},
   "outputs": [],
   "source": [
    "#removing unnessasory columns\n",
    "df.drop(['Product','Ram'],axis=1,inplace=True)"
   ]
  },
  {
   "cell_type": "markdown",
   "id": "eff017f2",
   "metadata": {},
   "source": [
    "# EDA"
   ]
  },
  {
   "cell_type": "code",
   "execution_count": 16,
   "id": "7ae512e2",
   "metadata": {},
   "outputs": [
    {
     "name": "stderr",
     "output_type": "stream",
     "text": [
      "C:\\ProgramData\\Anaconda3\\lib\\site-packages\\seaborn\\_decorators.py:36: FutureWarning: Pass the following variable as a keyword arg: x. From version 0.12, the only valid positional argument will be `data`, and passing other arguments without an explicit keyword will result in an error or misinterpretation.\n",
      "  warnings.warn(\n"
     ]
    },
    {
     "data": {
      "text/plain": [
       "<AxesSubplot:xlabel='Company', ylabel='count'>"
      ]
     },
     "execution_count": 16,
     "metadata": {},
     "output_type": "execute_result"
    },
    {
     "data": {
      "image/png": "[encoded data removed]",
      "text/plain": [
       "<Figure size 432x288 with 1 Axes>"
      ]
     },
     "metadata": {
      "needs_background": "light"
     },
     "output_type": "display_data"
    }
   ],
   "source": [
    "sns.countplot(df['Company'])"
   ]
  },
  {
   "cell_type": "code",
   "execution_count": 17,
   "id": "4bed2647",
   "metadata": {},
   "outputs": [
    {
     "data": {
      "text/plain": [
       "<AxesSubplot:>"
      ]
     },
     "execution_count": 17,
     "metadata": {},
     "output_type": "execute_result"
    },
    {
     "data": {
      "image/png": "[encoded data removed]",
      "text/plain": [
       "<Figure size 720x504 with 1 Axes>"
      ]
     },
     "metadata": {
      "needs_background": "light"
     },
     "output_type": "display_data"
    }
   ],
   "source": [
    "plt.figure(figsize=(10,7))\n",
    "df['Processor'].value_counts().sort_values(ascending=True).plot(kind='barh')"
   ]
  },
  {
   "cell_type": "markdown",
   "id": "7aab7c59",
   "metadata": {},
   "source": [
    "12th Gen Intel Core i7 12700H processor is being used in gaming laptops these days."
   ]
  },
  {
   "cell_type": "code",
   "execution_count": 18,
   "id": "05ac0c15",
   "metadata": {},
   "outputs": [
    {
     "data": {
      "text/plain": [
       "15.6 inches    13\n",
       "16 inches      13\n",
       "17.3 inches    11\n",
       "14 inches       3\n",
       "16.1 inches     3\n",
       "17 inches       2\n",
       "13.4 inches     2\n",
       "15.6 inches     1\n",
       "Name: Size, dtype: int64"
      ]
     },
     "execution_count": 18,
     "metadata": {},
     "output_type": "execute_result"
    }
   ],
   "source": [
    "df['Size'].value_counts()"
   ]
  },
  {
   "cell_type": "code",
   "execution_count": 19,
   "id": "fe9c506c",
   "metadata": {},
   "outputs": [
    {
     "data": {
      "text/plain": [
       "1 TB SSD      21\n",
       "2 TB SSD      15\n",
       "512 GB SSD    11\n",
       "4 TB SSD       1\n",
       "Name: Memory, dtype: int64"
      ]
     },
     "execution_count": 19,
     "metadata": {},
     "output_type": "execute_result"
    }
   ],
   "source": [
    "df['Memory'].value_counts()"
   ]
  },
  {
   "cell_type": "markdown",
   "id": "21b7a1d5",
   "metadata": {},
   "source": [
    "* All gaming laptops have SSD only.\n",
    "* 1Tb size is prefered one."
   ]
  },
  {
   "cell_type": "code",
   "execution_count": 20,
   "id": "1f430a13",
   "metadata": {},
   "outputs": [
    {
     "name": "stderr",
     "output_type": "stream",
     "text": [
      "C:\\ProgramData\\Anaconda3\\lib\\site-packages\\seaborn\\_decorators.py:36: FutureWarning: Pass the following variable as a keyword arg: x. From version 0.12, the only valid positional argument will be `data`, and passing other arguments without an explicit keyword will result in an error or misinterpretation.\n",
      "  warnings.warn(\n"
     ]
    },
    {
     "data": {
      "text/plain": [
       "<AxesSubplot:xlabel='OS ', ylabel='count'>"
      ]
     },
     "execution_count": 20,
     "metadata": {},
     "output_type": "execute_result"
    },
    {
     "data": {
      "image/png": "[encoded data removed]",
      "text/plain": [
       "<Figure size 432x288 with 1 Axes>"
      ]
     },
     "metadata": {
      "needs_background": "light"
     },
     "output_type": "display_data"
    }
   ],
   "source": [
    "sns.countplot(df['OS '])"
   ]
  },
  {
   "cell_type": "markdown",
   "id": "d365db8d",
   "metadata": {},
   "source": [
    "* Most of the laptops have latest OS."
   ]
  },
  {
   "cell_type": "code",
   "execution_count": 21,
   "id": "26802c5d",
   "metadata": {},
   "outputs": [
    {
     "data": {
      "image/png": "[encoded data removed]",
      "text/plain": [
       "<Figure size 2520x2160 with 10 Axes>"
      ]
     },
     "metadata": {
      "needs_background": "light"
     },
     "output_type": "display_data"
    }
   ],
   "source": [
    "x=1\n",
    "plt.figure(figsize=(35,30))\n",
    "for i in df.columns:\n",
    "    plt.subplot(4,3,x)\n",
    "    sns.boxplot(x=df[i],y=df.Price)\n",
    "    plt.xticks(rotation=90)\n",
    "    x+=1"
   ]
  },
  {
   "cell_type": "markdown",
   "id": "8ec51e31",
   "metadata": {},
   "source": [
    "### Insights:\n",
    "* Intel processors are expensive than AMD.\n",
    "* DDR5 ram type is expensive.\n",
    "* Asus and MSI are available in large price range, where Asus focuses on middle range laptop and MSI focuses on high range laptop.\n",
    "* DDR5 RAM type is most preferred one. "
   ]
  },
  {
   "cell_type": "code",
   "execution_count": 22,
   "id": "6a02ee30",
   "metadata": {},
   "outputs": [],
   "source": [
    "df_copy=df.copy() "
   ]
  },
  {
   "cell_type": "markdown",
   "id": "5000b96e",
   "metadata": {},
   "source": [
    "## Data Spitting"
   ]
  },
  {
   "cell_type": "code",
   "execution_count": 23,
   "id": "03fb386c",
   "metadata": {},
   "outputs": [],
   "source": [
    "# defining x and y\n",
    "\n",
    "x= df_copy.drop('Price',axis=1)\n",
    "y= df_copy['Price']"
   ]
  },
  {
   "cell_type": "code",
   "execution_count": 24,
   "id": "a6963edf",
   "metadata": {},
   "outputs": [],
   "source": [
    "x=pd.get_dummies(x)"
   ]
  },
  {
   "cell_type": "code",
   "execution_count": 27,
   "id": "957bdafe",
   "metadata": {},
   "outputs": [],
   "source": [
    "x_train,x_test,y_train,y_test=train_test_split(x,y,random_state=42,test_size=0.25)"
   ]
  },
  {
   "cell_type": "markdown",
   "id": "523dc56b",
   "metadata": {},
   "source": [
    "### Model Building"
   ]
  },
  {
   "cell_type": "code",
   "execution_count": 30,
   "id": "182bc6b7",
   "metadata": {},
   "outputs": [],
   "source": [
    "def run_model(model):\n",
    "    model.fit(x_train,y_train)\n",
    "    y_pred=model.predict(x_test)\n",
    "    print(\"\\n Mean square error:\\t\",mean_squared_error(y_test,y_pred))\n",
    "    print(\"\\n Mean absolute error:\\t\",mean_absolute_error(y_test,y_pred))\n",
    "    print(\"\\n r2 score:\\t\",r2_score(y_test,y_pred))\n",
    "    print(\"\\n Root mean square error:\\t\",np.sqrt(mean_squared_error(y_test,y_pred)))"
   ]
  },
  {
   "cell_type": "code",
   "execution_count": 31,
   "id": "7fc1c258",
   "metadata": {},
   "outputs": [
    {
     "name": "stdout",
     "output_type": "stream",
     "text": [
      "\n",
      " Mean square error:\t 3947909591.1510043\n",
      "\n",
      " Mean absolute error:\t 54402.520330582316\n",
      "\n",
      " r2 score:\t 0.729767879961151\n",
      "\n",
      " Root mean square error:\t 62832.39284915866\n"
     ]
    }
   ],
   "source": [
    "lr=LinearRegression()\n",
    "run_model(lr)"
   ]
  },
  {
   "cell_type": "code",
   "execution_count": 33,
   "id": "61ad55f3",
   "metadata": {},
   "outputs": [
    {
     "name": "stdout",
     "output_type": "stream",
     "text": [
      "\n",
      " Mean square error:\t 7766147371.583333\n",
      "\n",
      " Mean absolute error:\t 77718.58333333333\n",
      "\n",
      " r2 score:\t 0.4684117201009057\n",
      "\n",
      " Root mean square error:\t 88125.74749517495\n"
     ]
    }
   ],
   "source": [
    "dtr=DecisionTreeRegressor()\n",
    "\n",
    "run_model(dtr)"
   ]
  },
  {
   "cell_type": "code",
   "execution_count": 34,
   "id": "4bc5bf2e",
   "metadata": {},
   "outputs": [
    {
     "name": "stdout",
     "output_type": "stream",
     "text": [
      "\n",
      " Mean square error:\t 5199961508.3680935\n",
      "\n",
      " Mean absolute error:\t 62181.3876904762\n",
      "\n",
      " r2 score:\t 0.6440656529530507\n",
      "\n",
      " Root mean square error:\t 72110.75861733874\n"
     ]
    }
   ],
   "source": [
    "rfr=RandomForestRegressor()\n",
    "run_model(rfr)"
   ]
  },
  {
   "cell_type": "code",
   "execution_count": 35,
   "id": "006a616e",
   "metadata": {},
   "outputs": [
    {
     "name": "stdout",
     "output_type": "stream",
     "text": [
      "\n",
      " Mean square error:\t 4879384593.870097\n",
      "\n",
      " Mean absolute error:\t 56858.9287004662\n",
      "\n",
      " r2 score:\t 0.6660089566787699\n",
      "\n",
      " Root mean square error:\t 69852.59189085325\n"
     ]
    }
   ],
   "source": [
    "ada=AdaBoostRegressor()\n",
    "run_model(ada)"
   ]
  },
  {
   "cell_type": "code",
   "execution_count": 36,
   "id": "271ede73",
   "metadata": {},
   "outputs": [
    {
     "name": "stdout",
     "output_type": "stream",
     "text": [
      "\n",
      " Mean square error:\t 5493374209.447849\n",
      "\n",
      " Mean absolute error:\t 63478.778117922215\n",
      "\n",
      " r2 score:\t 0.6239817238689527\n",
      "\n",
      " Root mean square error:\t 74117.30033836803\n"
     ]
    }
   ],
   "source": [
    "gbr=GradientBoostingRegressor()\n",
    "run_model(gbr)"
   ]
  },
  {
   "cell_type": "code",
   "execution_count": 37,
   "id": "18a31e29",
   "metadata": {},
   "outputs": [],
   "source": [
    "from sklearn.model_selection import GridSearchCV"
   ]
  },
  {
   "cell_type": "code",
   "execution_count": 38,
   "id": "eabf5550",
   "metadata": {},
   "outputs": [],
   "source": [
    "# Number of features to consider at every split\n",
    "max_features = ['auto', 'sqrt']\n",
    "# Maximum number of levels in tree\n",
    "max_depth = [2,4]\n",
    "# Minimum number of samples required to split a node\n",
    "min_samples_split = [2, 5]\n",
    "# Minimum number of samples required at each leaf node\n",
    "min_samples_leaf = [1, 2]\n",
    "# criterion\n",
    "criteria = [ 'gini','entropy']"
   ]
  },
  {
   "cell_type": "code",
   "execution_count": 39,
   "id": "83de19eb",
   "metadata": {},
   "outputs": [
    {
     "name": "stdout",
     "output_type": "stream",
     "text": [
      "{'max_features': ['auto', 'sqrt'], 'max_depth': [2, 4], 'min_samples_split': [2, 5], 'min_samples_leaf': [1, 2], 'criterion': ['gini', 'entropy']}\n"
     ]
    }
   ],
   "source": [
    "param_grid = {\n",
    "               'max_features': max_features,\n",
    "               'max_depth': max_depth,\n",
    "               'min_samples_split': min_samples_split,\n",
    "               'min_samples_leaf': min_samples_leaf,\n",
    "               'criterion':criteria}\n",
    "\n",
    "print(param_grid)"
   ]
  },
  {
   "cell_type": "code",
   "execution_count": 40,
   "id": "0f4aa976",
   "metadata": {},
   "outputs": [],
   "source": [
    "gs_cv=GridSearchCV(dtr,param_grid=param_grid,cv = 3, verbose=2, n_jobs = 4)"
   ]
  },
  {
   "cell_type": "code",
   "execution_count": 43,
   "id": "aef1e302",
   "metadata": {},
   "outputs": [],
   "source": [
    "from keras.layers import Dense,Dropout,BatchNormalization\n",
    "from keras.models import Sequential \n",
    "from keras.callbacks import EarlyStopping"
   ]
  },
  {
   "cell_type": "code",
   "execution_count": 44,
   "id": "610d3c71",
   "metadata": {},
   "outputs": [],
   "source": [
    "nn=Sequential()\n",
    "\n",
    "#1st layer/ input layer \n",
    "nn.add(Dense(128,activation='relu',input_dim=x_train.shape[1]))\n",
    "nn.add(Dropout(0.3))\n",
    "nn.add(BatchNormalization())\n",
    "\n",
    "#2ns layer\n",
    "nn.add(Dense(64,activation='relu'))\n",
    "nn.add(Dropout(0.3))\n",
    "nn.add(BatchNormalization())\n",
    "\n",
    "#o/p layer\n",
    "nn.add(Dense(1,activation='linear'))"
   ]
  },
  {
   "cell_type": "code",
   "execution_count": 45,
   "id": "307a9ad5",
   "metadata": {},
   "outputs": [
    {
     "name": "stdout",
     "output_type": "stream",
     "text": [
      "Model: \"sequential\"\n",
      "_________________________________________________________________\n",
      " Layer (type)                Output Shape              Param #   \n",
      "=================================================================\n",
      " dense (Dense)               (None, 128)               9856      \n",
      "                                                                 \n",
      " dropout (Dropout)           (None, 128)               0         \n",
      "                                                                 \n",
      " batch_normalization (BatchN  (None, 128)              512       \n",
      " ormalization)                                                   \n",
      "                                                                 \n",
      " dense_1 (Dense)             (None, 64)                8256      \n",
      "                                                                 \n",
      " dropout_1 (Dropout)         (None, 64)                0         \n",
      "                                                                 \n",
      " batch_normalization_1 (Batc  (None, 64)               256       \n",
      " hNormalization)                                                 \n",
      "                                                                 \n",
      " dense_2 (Dense)             (None, 1)                 65        \n",
      "                                                                 \n",
      "=================================================================\n",
      "Total params: 18,945\n",
      "Trainable params: 18,561\n",
      "Non-trainable params: 384\n",
      "_________________________________________________________________\n"
     ]
    }
   ],
   "source": [
    "nn.summary()"
   ]
  },
  {
   "cell_type": "code",
   "execution_count": 46,
   "id": "8a8f4b63",
   "metadata": {},
   "outputs": [],
   "source": [
    "nn.compile(loss='mae',optimizer='adam',metrics='mse')"
   ]
  },
  {
   "cell_type": "code",
   "execution_count": 47,
   "id": "77878f77",
   "metadata": {},
   "outputs": [],
   "source": [
    "Early_stopping=EarlyStopping(monitor='val_loss',patience=10)"
   ]
  },
  {
   "cell_type": "code",
   "execution_count": 48,
   "id": "babea01d",
   "metadata": {},
   "outputs": [
    {
     "name": "stdout",
     "output_type": "stream",
     "text": [
      "Epoch 1/100\n",
      "4/4 [==============================] - 2s 59ms/step - loss: 263618.7500 - mse: 93663772672.0000 - val_loss: 199866.4062 - val_mse: 51560677376.0000\n",
      "Epoch 2/100\n",
      "4/4 [==============================] - 0s 8ms/step - loss: 263618.6875 - mse: 93663633408.0000 - val_loss: 199866.3750 - val_mse: 51560660992.0000\n",
      "Epoch 3/100\n",
      "4/4 [==============================] - 0s 8ms/step - loss: 263618.6562 - mse: 93663535104.0000 - val_loss: 199866.3281 - val_mse: 51560652800.0000\n",
      "Epoch 4/100\n",
      "4/4 [==============================] - 0s 8ms/step - loss: 263618.5938 - mse: 93663567872.0000 - val_loss: 199866.2969 - val_mse: 51560632320.0000\n",
      "Epoch 5/100\n",
      "4/4 [==============================] - 0s 8ms/step - loss: 263618.5312 - mse: 93663592448.0000 - val_loss: 199866.2500 - val_mse: 51560620032.0000\n",
      "Epoch 6/100\n",
      "4/4 [==============================] - 0s 8ms/step - loss: 263618.5000 - mse: 93663510528.0000 - val_loss: 199866.2188 - val_mse: 51560603648.0000\n",
      "Epoch 7/100\n",
      "4/4 [==============================] - 0s 10ms/step - loss: 263618.4062 - mse: 93663420416.0000 - val_loss: 199866.1562 - val_mse: 51560587264.0000\n",
      "Epoch 8/100\n",
      "4/4 [==============================] - 0s 8ms/step - loss: 263618.3438 - mse: 93663485952.0000 - val_loss: 199866.1250 - val_mse: 51560566784.0000\n",
      "Epoch 9/100\n",
      "4/4 [==============================] - 0s 8ms/step - loss: 263618.2812 - mse: 93663469568.0000 - val_loss: 199866.0781 - val_mse: 51560546304.0000\n",
      "Epoch 10/100\n",
      "4/4 [==============================] - 0s 8ms/step - loss: 263618.2500 - mse: 93663371264.0000 - val_loss: 199866.0000 - val_mse: 51560521728.0000\n",
      "Epoch 11/100\n",
      "4/4 [==============================] - 0s 8ms/step - loss: 263618.1562 - mse: 93663215616.0000 - val_loss: 199865.9375 - val_mse: 51560488960.0000\n",
      "Epoch 12/100\n",
      "4/4 [==============================] - 0s 8ms/step - loss: 263618.0625 - mse: 93663215616.0000 - val_loss: 199865.8594 - val_mse: 51560464384.0000\n",
      "Epoch 13/100\n",
      "4/4 [==============================] - 0s 8ms/step - loss: 263618.0000 - mse: 93663256576.0000 - val_loss: 199865.7969 - val_mse: 51560439808.0000\n",
      "Epoch 14/100\n",
      "4/4 [==============================] - 0s 8ms/step - loss: 263617.9062 - mse: 93663256576.0000 - val_loss: 199865.7188 - val_mse: 51560407040.0000\n",
      "Epoch 15/100\n",
      "4/4 [==============================] - 0s 8ms/step - loss: 263617.8125 - mse: 93663019008.0000 - val_loss: 199865.6406 - val_mse: 51560378368.0000\n",
      "Epoch 16/100\n",
      "4/4 [==============================] - 0s 8ms/step - loss: 263617.7188 - mse: 93663076352.0000 - val_loss: 199865.5625 - val_mse: 51560341504.0000\n",
      "Epoch 17/100\n",
      "4/4 [==============================] - 0s 8ms/step - loss: 263617.5938 - mse: 93662912512.0000 - val_loss: 199865.4688 - val_mse: 51560300544.0000\n",
      "Epoch 18/100\n",
      "4/4 [==============================] - 0s 8ms/step - loss: 263617.5312 - mse: 93663109120.0000 - val_loss: 199865.3594 - val_mse: 51560263680.0000\n",
      "Epoch 19/100\n",
      "4/4 [==============================] - 0s 8ms/step - loss: 263617.4062 - mse: 93663043584.0000 - val_loss: 199865.2656 - val_mse: 51560226816.0000\n",
      "Epoch 20/100\n",
      "4/4 [==============================] - 0s 7ms/step - loss: 263617.3125 - mse: 93662781440.0000 - val_loss: 199865.1875 - val_mse: 51560189952.0000\n",
      "Epoch 21/100\n",
      "4/4 [==============================] - 0s 8ms/step - loss: 263617.1562 - mse: 93662912512.0000 - val_loss: 199865.0781 - val_mse: 51560153088.0000\n",
      "Epoch 22/100\n",
      "4/4 [==============================] - 0s 8ms/step - loss: 263617.0625 - mse: 93662691328.0000 - val_loss: 199864.9688 - val_mse: 51560108032.0000\n",
      "Epoch 23/100\n",
      "4/4 [==============================] - 0s 8ms/step - loss: 263616.9375 - mse: 93662658560.0000 - val_loss: 199864.8438 - val_mse: 51560054784.0000\n",
      "Epoch 24/100\n",
      "4/4 [==============================] - 0s 8ms/step - loss: 263616.8125 - mse: 93662863360.0000 - val_loss: 199864.7188 - val_mse: 51559997440.0000\n",
      "Epoch 25/100\n",
      "4/4 [==============================] - 0s 8ms/step - loss: 263616.6562 - mse: 93662543872.0000 - val_loss: 199864.5938 - val_mse: 51559952384.0000\n",
      "Epoch 26/100\n",
      "4/4 [==============================] - 0s 8ms/step - loss: 263616.5312 - mse: 93662486528.0000 - val_loss: 199864.4688 - val_mse: 51559890944.0000\n",
      "Epoch 27/100\n",
      "4/4 [==============================] - 0s 8ms/step - loss: 263616.3438 - mse: 93662502912.0000 - val_loss: 199864.3125 - val_mse: 51559837696.0000\n",
      "Epoch 28/100\n",
      "4/4 [==============================] - 0s 8ms/step - loss: 263616.2188 - mse: 93662191616.0000 - val_loss: 199864.2031 - val_mse: 51559792640.0000\n",
      "Epoch 29/100\n",
      "4/4 [==============================] - 0s 8ms/step - loss: 263616.0625 - mse: 93662060544.0000 - val_loss: 199864.0625 - val_mse: 51559731200.0000\n",
      "Epoch 30/100\n",
      "4/4 [==============================] - 0s 8ms/step - loss: 263615.9062 - mse: 93661806592.0000 - val_loss: 199863.8906 - val_mse: 51559665664.0000\n",
      "Epoch 31/100\n",
      "4/4 [==============================] - 0s 8ms/step - loss: 263615.7188 - mse: 93662158848.0000 - val_loss: 199863.7500 - val_mse: 51559604224.0000\n",
      "Epoch 32/100\n",
      "4/4 [==============================] - 0s 8ms/step - loss: 263615.5625 - mse: 93661913088.0000 - val_loss: 199863.5781 - val_mse: 51559538688.0000\n",
      "Epoch 33/100\n",
      "4/4 [==============================] - 0s 8ms/step - loss: 263615.4062 - mse: 93662142464.0000 - val_loss: 199863.3750 - val_mse: 51559452672.0000\n",
      "Epoch 34/100\n",
      "4/4 [==============================] - 0s 8ms/step - loss: 263615.1875 - mse: 93661822976.0000 - val_loss: 199863.1875 - val_mse: 51559378944.0000\n",
      "Epoch 35/100\n",
      "4/4 [==============================] - 0s 8ms/step - loss: 263615.0312 - mse: 93661380608.0000 - val_loss: 199863.0000 - val_mse: 51559305216.0000\n",
      "Epoch 36/100\n",
      "4/4 [==============================] - 0s 8ms/step - loss: 263614.8125 - mse: 93661257728.0000 - val_loss: 199862.8125 - val_mse: 51559227392.0000\n",
      "Epoch 37/100\n",
      "4/4 [==============================] - 0s 8ms/step - loss: 263614.5938 - mse: 93661429760.0000 - val_loss: 199862.5938 - val_mse: 51559137280.0000\n",
      "Epoch 38/100\n",
      "4/4 [==============================] - 0s 8ms/step - loss: 263614.4375 - mse: 93661634560.0000 - val_loss: 199862.4062 - val_mse: 51559059456.0000\n",
      "Epoch 39/100\n",
      "4/4 [==============================] - 0s 7ms/step - loss: 263614.1875 - mse: 93660962816.0000 - val_loss: 199862.2188 - val_mse: 51558981632.0000\n",
      "Epoch 40/100\n",
      "4/4 [==============================] - 0s 8ms/step - loss: 263613.9688 - mse: 93660946432.0000 - val_loss: 199862.0156 - val_mse: 51558903808.0000\n",
      "Epoch 41/100\n",
      "4/4 [==============================] - 0s 8ms/step - loss: 263613.7812 - mse: 93660889088.0000 - val_loss: 199861.8438 - val_mse: 51558834176.0000\n",
      "Epoch 42/100\n",
      "4/4 [==============================] - 0s 8ms/step - loss: 263613.5625 - mse: 93661118464.0000 - val_loss: 199861.6250 - val_mse: 51558748160.0000\n",
      "Epoch 43/100\n",
      "4/4 [==============================] - 0s 8ms/step - loss: 263613.3125 - mse: 93660733440.0000 - val_loss: 199861.4062 - val_mse: 51558653952.0000\n",
      "Epoch 44/100\n",
      "4/4 [==============================] - 0s 7ms/step - loss: 263613.0938 - mse: 93660774400.0000 - val_loss: 199861.1562 - val_mse: 51558555648.0000\n",
      "Epoch 45/100\n",
      "4/4 [==============================] - 0s 8ms/step - loss: 263612.8438 - mse: 93660102656.0000 - val_loss: 199860.9375 - val_mse: 51558465536.0000\n",
      "Epoch 46/100\n",
      "4/4 [==============================] - 0s 8ms/step - loss: 263612.5938 - mse: 93660061696.0000 - val_loss: 199860.7344 - val_mse: 51558383616.0000\n",
      "Epoch 47/100\n",
      "4/4 [==============================] - 0s 8ms/step - loss: 263612.3125 - mse: 93660340224.0000 - val_loss: 199860.5156 - val_mse: 51558289408.0000\n",
      "Epoch 48/100\n",
      "4/4 [==============================] - 0s 8ms/step - loss: 263612.0625 - mse: 93659987968.0000 - val_loss: 199860.2812 - val_mse: 51558203392.0000\n",
      "Epoch 49/100\n",
      "4/4 [==============================] - 0s 8ms/step - loss: 263611.8125 - mse: 93659701248.0000 - val_loss: 199860.0312 - val_mse: 51558096896.0000\n",
      "Epoch 50/100\n",
      "4/4 [==============================] - 0s 8ms/step - loss: 263611.5312 - mse: 93659668480.0000 - val_loss: 199859.7812 - val_mse: 51557998592.0000\n",
      "Epoch 51/100\n",
      "4/4 [==============================] - 0s 8ms/step - loss: 263611.2812 - mse: 93659488256.0000 - val_loss: 199859.5469 - val_mse: 51557900288.0000\n",
      "Epoch 52/100\n"
     ]
    },
    {
     "name": "stdout",
     "output_type": "stream",
     "text": [
      "4/4 [==============================] - 0s 8ms/step - loss: 263611.0000 - mse: 93659373568.0000 - val_loss: 199859.3125 - val_mse: 51557810176.0000\n",
      "Epoch 53/100\n",
      "4/4 [==============================] - 0s 8ms/step - loss: 263610.7188 - mse: 93658865664.0000 - val_loss: 199859.0469 - val_mse: 51557703680.0000\n",
      "Epoch 54/100\n",
      "4/4 [==============================] - 0s 7ms/step - loss: 263610.4375 - mse: 93659209728.0000 - val_loss: 199858.7969 - val_mse: 51557597184.0000\n",
      "Epoch 55/100\n",
      "4/4 [==============================] - 0s 8ms/step - loss: 263610.0938 - mse: 93658767360.0000 - val_loss: 199858.5312 - val_mse: 51557498880.0000\n",
      "Epoch 56/100\n",
      "4/4 [==============================] - 0s 8ms/step - loss: 263609.8125 - mse: 93658734592.0000 - val_loss: 199858.2812 - val_mse: 51557392384.0000\n",
      "Epoch 57/100\n",
      "4/4 [==============================] - 0s 8ms/step - loss: 263609.5000 - mse: 93658636288.0000 - val_loss: 199858.0000 - val_mse: 51557269504.0000\n",
      "Epoch 58/100\n",
      "4/4 [==============================] - 0s 8ms/step - loss: 263609.2188 - mse: 93658218496.0000 - val_loss: 199857.6875 - val_mse: 51557146624.0000\n",
      "Epoch 59/100\n",
      "4/4 [==============================] - 0s 8ms/step - loss: 263608.8750 - mse: 93658218496.0000 - val_loss: 199857.4219 - val_mse: 51557036032.0000\n",
      "Epoch 60/100\n",
      "4/4 [==============================] - 0s 8ms/step - loss: 263608.5625 - mse: 93658079232.0000 - val_loss: 199857.0938 - val_mse: 51556900864.0000\n",
      "Epoch 61/100\n",
      "4/4 [==============================] - 0s 8ms/step - loss: 263608.2500 - mse: 93657907200.0000 - val_loss: 199856.8125 - val_mse: 51556786176.0000\n",
      "Epoch 62/100\n",
      "4/4 [==============================] - 0s 7ms/step - loss: 263607.9062 - mse: 93658079232.0000 - val_loss: 199856.5156 - val_mse: 51556655104.0000\n",
      "Epoch 63/100\n",
      "4/4 [==============================] - 0s 8ms/step - loss: 263607.5625 - mse: 93657694208.0000 - val_loss: 199856.1875 - val_mse: 51556519936.0000\n",
      "Epoch 64/100\n",
      "4/4 [==============================] - 0s 8ms/step - loss: 263607.2188 - mse: 93657210880.0000 - val_loss: 199855.8438 - val_mse: 51556384768.0000\n",
      "Epoch 65/100\n",
      "4/4 [==============================] - 0s 8ms/step - loss: 263606.8750 - mse: 93657251840.0000 - val_loss: 199855.5000 - val_mse: 51556241408.0000\n",
      "Epoch 66/100\n",
      "4/4 [==============================] - 0s 7ms/step - loss: 263606.5312 - mse: 93656686592.0000 - val_loss: 199855.1562 - val_mse: 51556098048.0000\n",
      "Epoch 67/100\n",
      "4/4 [==============================] - 0s 8ms/step - loss: 263606.1562 - mse: 93656768512.0000 - val_loss: 199854.7812 - val_mse: 51555946496.0000\n",
      "Epoch 68/100\n",
      "4/4 [==============================] - 0s 8ms/step - loss: 263605.8125 - mse: 93656563712.0000 - val_loss: 199854.4375 - val_mse: 51555811328.0000\n",
      "Epoch 69/100\n",
      "4/4 [==============================] - 0s 7ms/step - loss: 263605.4375 - mse: 93656702976.0000 - val_loss: 199854.1250 - val_mse: 51555680256.0000\n",
      "Epoch 70/100\n",
      "4/4 [==============================] - 0s 8ms/step - loss: 263605.0625 - mse: 93656768512.0000 - val_loss: 199853.7969 - val_mse: 51555540992.0000\n",
      "Epoch 71/100\n",
      "4/4 [==============================] - 0s 7ms/step - loss: 263604.6875 - mse: 93656145920.0000 - val_loss: 199853.4375 - val_mse: 51555401728.0000\n",
      "Epoch 72/100\n",
      "4/4 [==============================] - 0s 8ms/step - loss: 263604.2812 - mse: 93655965696.0000 - val_loss: 199853.0938 - val_mse: 51555258368.0000\n",
      "Epoch 73/100\n",
      "4/4 [==============================] - 0s 8ms/step - loss: 263603.9062 - mse: 93655613440.0000 - val_loss: 199852.7500 - val_mse: 51555119104.0000\n",
      "Epoch 74/100\n",
      "4/4 [==============================] - 0s 8ms/step - loss: 263603.5000 - mse: 93655441408.0000 - val_loss: 199852.4062 - val_mse: 51554975744.0000\n",
      "Epoch 75/100\n",
      "4/4 [==============================] - 0s 8ms/step - loss: 263603.0625 - mse: 93655392256.0000 - val_loss: 199852.0469 - val_mse: 51554828288.0000\n",
      "Epoch 76/100\n",
      "4/4 [==============================] - 0s 8ms/step - loss: 263602.6875 - mse: 93655031808.0000 - val_loss: 199851.6719 - val_mse: 51554672640.0000\n",
      "Epoch 77/100\n",
      "4/4 [==============================] - 0s 7ms/step - loss: 263602.2812 - mse: 93654704128.0000 - val_loss: 199851.2969 - val_mse: 51554521088.0000\n",
      "Epoch 78/100\n",
      "4/4 [==============================] - 0s 8ms/step - loss: 263601.8438 - mse: 93654695936.0000 - val_loss: 199850.8906 - val_mse: 51554361344.0000\n",
      "Epoch 79/100\n",
      "4/4 [==============================] - 0s 7ms/step - loss: 263601.4375 - mse: 93654327296.0000 - val_loss: 199850.5781 - val_mse: 51554230272.0000\n",
      "Epoch 80/100\n",
      "4/4 [==============================] - 0s 8ms/step - loss: 263601.0000 - mse: 93653884928.0000 - val_loss: 199850.1562 - val_mse: 51554062336.0000\n",
      "Epoch 81/100\n",
      "4/4 [==============================] - 0s 7ms/step - loss: 263600.5625 - mse: 93654130688.0000 - val_loss: 199849.7344 - val_mse: 51553878016.0000\n",
      "Epoch 82/100\n",
      "4/4 [==============================] - 0s 8ms/step - loss: 263600.0938 - mse: 93653458944.0000 - val_loss: 199849.2812 - val_mse: 51553689600.0000\n",
      "Epoch 83/100\n",
      "4/4 [==============================] - 0s 8ms/step - loss: 263599.6875 - mse: 93653180416.0000 - val_loss: 199848.9062 - val_mse: 51553542144.0000\n",
      "Epoch 84/100\n",
      "4/4 [==============================] - 0s 7ms/step - loss: 263599.2500 - mse: 93653671936.0000 - val_loss: 199848.4688 - val_mse: 51553361920.0000\n",
      "Epoch 85/100\n",
      "4/4 [==============================] - 0s 8ms/step - loss: 263598.7812 - mse: 93652721664.0000 - val_loss: 199848.0469 - val_mse: 51553173504.0000\n",
      "Epoch 86/100\n",
      "4/4 [==============================] - 0s 8ms/step - loss: 263598.3125 - mse: 93653172224.0000 - val_loss: 199847.6562 - val_mse: 51553013760.0000\n",
      "Epoch 87/100\n",
      "4/4 [==============================] - 0s 8ms/step - loss: 263597.8438 - mse: 93652664320.0000 - val_loss: 199847.2031 - val_mse: 51552813056.0000\n",
      "Epoch 88/100\n",
      "4/4 [==============================] - 0s 8ms/step - loss: 263597.3750 - mse: 93652205568.0000 - val_loss: 199846.7656 - val_mse: 51552628736.0000\n",
      "Epoch 89/100\n",
      "4/4 [==============================] - 0s 7ms/step - loss: 263596.9062 - mse: 93651460096.0000 - val_loss: 199846.3125 - val_mse: 51552436224.0000\n",
      "Epoch 90/100\n",
      "4/4 [==============================] - 0s 8ms/step - loss: 263596.4062 - mse: 93651484672.0000 - val_loss: 199845.8281 - val_mse: 51552247808.0000\n",
      "Epoch 91/100\n",
      "4/4 [==============================] - 0s 9ms/step - loss: 263595.9375 - mse: 93651509248.0000 - val_loss: 199845.3750 - val_mse: 51552043008.0000\n",
      "Epoch 92/100\n",
      "4/4 [==============================] - 0s 8ms/step - loss: 263595.4375 - mse: 93651640320.0000 - val_loss: 199844.8750 - val_mse: 51551842304.0000\n",
      "Epoch 93/100\n",
      "4/4 [==============================] - 0s 8ms/step - loss: 263594.9375 - mse: 93651271680.0000 - val_loss: 199844.3906 - val_mse: 51551625216.0000\n",
      "Epoch 94/100\n",
      "4/4 [==============================] - 0s 8ms/step - loss: 263594.4375 - mse: 93650853888.0000 - val_loss: 199843.8594 - val_mse: 51551399936.0000\n",
      "Epoch 95/100\n",
      "4/4 [==============================] - 0s 8ms/step - loss: 263593.9375 - mse: 93650214912.0000 - val_loss: 199843.3125 - val_mse: 51551174656.0000\n",
      "Epoch 96/100\n",
      "4/4 [==============================] - 0s 8ms/step - loss: 263593.4062 - mse: 93649747968.0000 - val_loss: 199842.8438 - val_mse: 51550973952.0000\n",
      "Epoch 97/100\n",
      "4/4 [==============================] - 0s 7ms/step - loss: 263592.8750 - mse: 93649240064.0000 - val_loss: 199842.2812 - val_mse: 51550748672.0000\n",
      "Epoch 98/100\n",
      "4/4 [==============================] - 0s 8ms/step - loss: 263592.3750 - mse: 93649256448.0000 - val_loss: 199841.7969 - val_mse: 51550539776.0000\n",
      "Epoch 99/100\n",
      "4/4 [==============================] - 0s 8ms/step - loss: 263591.8438 - mse: 93649182720.0000 - val_loss: 199841.3438 - val_mse: 51550347264.0000\n",
      "Epoch 100/100\n",
      "4/4 [==============================] - 0s 8ms/step - loss: 263591.2812 - mse: 93648732160.0000 - val_loss: 199840.7656 - val_mse: 51550101504.0000\n"
     ]
    }
   ],
   "source": [
    "hist=nn.fit(x_train,y_train,validation_split=0.2,callbacks=Early_stopping,epochs=100,batch_size=8)"
   ]
  },
  {
   "cell_type": "code",
   "execution_count": 134,
   "id": "4c467cb3",
   "metadata": {},
   "outputs": [
    {
     "data": {
      "text/plain": [
       "[<matplotlib.lines.Line2D at 0x21348a7dd60>]"
      ]
     },
     "execution_count": 134,
     "metadata": {},
     "output_type": "execute_result"
    },
    {
     "data": {
      "image/png": "[encoded data removed]",
      "text/plain": [
       "<Figure size 432x288 with 1 Axes>"
      ]
     },
     "metadata": {
      "needs_background": "light"
     },
     "output_type": "display_data"
    }
   ],
   "source": [
    "plt.plot(hist.history['loss'],c='blue')\n",
    "plt.plot(hist.history['val_loss'],c='red')"
   ]
  },
  {
   "cell_type": "code",
   "execution_count": 135,
   "id": "a51b7911",
   "metadata": {},
   "outputs": [
    {
     "name": "stdout",
     "output_type": "stream",
     "text": [
      "1/1 [==============================] - 0s 59ms/step\n"
     ]
    }
   ],
   "source": [
    "y_=nn.predict(x_test)"
   ]
  },
  {
   "cell_type": "code",
   "execution_count": 138,
   "id": "d26406b8",
   "metadata": {},
   "outputs": [
    {
     "data": {
      "text/plain": [
       "array([24.780725, 28.88262 , 27.595877, 25.160454, 27.201563, 33.36528 ,\n",
       "       26.702208, 29.249731, 27.461752, 29.788794, 25.204052, 29.130766],\n",
       "      dtype=float32)"
      ]
     },
     "execution_count": 138,
     "metadata": {},
     "output_type": "execute_result"
    }
   ],
   "source": [
    "y_.flatten()"
   ]
  },
  {
   "cell_type": "code",
   "execution_count": null,
   "id": "c01c4116",
   "metadata": {},
   "outputs": [],
   "source": []
  }
 ],
 "metadata": {
  "kernelspec": {
   "display_name": "Python 3 (ipykernel)",
   "language": "python",
   "name": "python3"
  },
  "language_info": {
   "codemirror_mode": {
    "name": "ipython",
    "version": 3
   },
   "file_extension": ".py",
   "mimetype": "text/x-python",
   "name": "python",
   "nbconvert_exporter": "python",
   "pygments_lexer": "ipython3",
   "version": "3.9.7"
  }
 },
 "nbformat": 4,
 "nbformat_minor": 5
}
