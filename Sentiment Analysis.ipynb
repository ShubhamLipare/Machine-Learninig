{
 "cells": [
  {
   "cell_type": "markdown",
   "id": "1bfce409",
   "metadata": {},
   "source": [
    "# <font color='blue'> News Sentiment Analysis"
   ]
  },
  {
   "cell_type": "code",
   "execution_count": 1,
   "id": "4d33159e",
   "metadata": {},
   "outputs": [],
   "source": [
    "import pandas as pd\n",
    "import re\n",
    "from sklearn.feature_extraction.text import TfidfVectorizer\n",
    "from sklearn.model_selection import train_test_split\n",
    "import keras_tuner as kt\n",
    "from keras.models import Sequential\n",
    "from keras.layers import Dense,Dropout,BatchNormalization\n",
    "from keras.callbacks import EarlyStopping\n",
    "import matplotlib.pyplot as plt\n",
    "from sklearn.metrics import classification_report,confusion_matrix\n",
    "import seaborn as sns"
   ]
  },
  {
   "cell_type": "code",
   "execution_count": 2,
   "id": "6aa94e1b",
   "metadata": {},
   "outputs": [],
   "source": [
    "df=pd.read_csv(r\"G:\\ML projects\\news.csv\")"
   ]
  },
  {
   "cell_type": "code",
   "execution_count": 3,
   "id": "d7003ba2",
   "metadata": {},
   "outputs": [
    {
     "data": {
      "text/html": [
       "<div>\n",
       "<style scoped>\n",
       "    .dataframe tbody tr th:only-of-type {\n",
       "        vertical-align: middle;\n",
       "    }\n",
       "\n",
       "    .dataframe tbody tr th {\n",
       "        vertical-align: top;\n",
       "    }\n",
       "\n",
       "    .dataframe thead th {\n",
       "        text-align: right;\n",
       "    }\n",
       "</style>\n",
       "<table border=\"1\" class=\"dataframe\">\n",
       "  <thead>\n",
       "    <tr style=\"text-align: right;\">\n",
       "      <th></th>\n",
       "      <th>Headline</th>\n",
       "      <th>Label</th>\n",
       "    </tr>\n",
       "  </thead>\n",
       "  <tbody>\n",
       "    <tr>\n",
       "      <th>0</th>\n",
       "      <td>Four ways Bob Corker skewered Donald Trump</td>\n",
       "      <td>1</td>\n",
       "    </tr>\n",
       "    <tr>\n",
       "      <th>1</th>\n",
       "      <td>Linklater's war veteran comedy speaks to moder...</td>\n",
       "      <td>1</td>\n",
       "    </tr>\n",
       "    <tr>\n",
       "      <th>2</th>\n",
       "      <td>Trump’s Fight With Corker Jeopardizes His Legi...</td>\n",
       "      <td>1</td>\n",
       "    </tr>\n",
       "    <tr>\n",
       "      <th>3</th>\n",
       "      <td>Egypt's Cheiron wins tie-up with Pemex for Mex...</td>\n",
       "      <td>1</td>\n",
       "    </tr>\n",
       "    <tr>\n",
       "      <th>4</th>\n",
       "      <td>Jason Aldean opens 'SNL' with Vegas tribute</td>\n",
       "      <td>1</td>\n",
       "    </tr>\n",
       "  </tbody>\n",
       "</table>\n",
       "</div>"
      ],
      "text/plain": [
       "                                            Headline  Label\n",
       "0         Four ways Bob Corker skewered Donald Trump      1\n",
       "1  Linklater's war veteran comedy speaks to moder...      1\n",
       "2  Trump’s Fight With Corker Jeopardizes His Legi...      1\n",
       "3  Egypt's Cheiron wins tie-up with Pemex for Mex...      1\n",
       "4        Jason Aldean opens 'SNL' with Vegas tribute      1"
      ]
     },
     "execution_count": 3,
     "metadata": {},
     "output_type": "execute_result"
    }
   ],
   "source": [
    "df.head()"
   ]
  },
  {
   "cell_type": "code",
   "execution_count": 4,
   "id": "34bcfa3d",
   "metadata": {},
   "outputs": [
    {
     "data": {
      "text/plain": [
       "(4009, 2)"
      ]
     },
     "execution_count": 4,
     "metadata": {},
     "output_type": "execute_result"
    }
   ],
   "source": [
    "df.shape"
   ]
  },
  {
   "cell_type": "code",
   "execution_count": 5,
   "id": "c1f318bd",
   "metadata": {},
   "outputs": [
    {
     "name": "stdout",
     "output_type": "stream",
     "text": [
      "<class 'pandas.core.frame.DataFrame'>\n",
      "RangeIndex: 4009 entries, 0 to 4008\n",
      "Data columns (total 2 columns):\n",
      " #   Column    Non-Null Count  Dtype \n",
      "---  ------    --------------  ----- \n",
      " 0   Headline  4009 non-null   object\n",
      " 1   Label     4009 non-null   int64 \n",
      "dtypes: int64(1), object(1)\n",
      "memory usage: 62.8+ KB\n"
     ]
    }
   ],
   "source": [
    "df.info()"
   ]
  },
  {
   "cell_type": "markdown",
   "id": "f6575539",
   "metadata": {},
   "source": [
    "## <font color='red'> Preprocessing"
   ]
  },
  {
   "cell_type": "code",
   "execution_count": 6,
   "id": "f7ced4c9",
   "metadata": {},
   "outputs": [],
   "source": [
    "prep=[]\n",
    "for i in df['Headline']:\n",
    "    word=re.sub('[^a-z ]',\"\",i)\n",
    "    word=i.lower()\n",
    "    prep.append(word)"
   ]
  },
  {
   "cell_type": "code",
   "execution_count": 7,
   "id": "256a62be",
   "metadata": {},
   "outputs": [],
   "source": [
    "df['cleaned_headlines']=prep"
   ]
  },
  {
   "cell_type": "code",
   "execution_count": 8,
   "id": "d057bedc",
   "metadata": {},
   "outputs": [
    {
     "data": {
      "text/html": [
       "<div>\n",
       "<style scoped>\n",
       "    .dataframe tbody tr th:only-of-type {\n",
       "        vertical-align: middle;\n",
       "    }\n",
       "\n",
       "    .dataframe tbody tr th {\n",
       "        vertical-align: top;\n",
       "    }\n",
       "\n",
       "    .dataframe thead th {\n",
       "        text-align: right;\n",
       "    }\n",
       "</style>\n",
       "<table border=\"1\" class=\"dataframe\">\n",
       "  <thead>\n",
       "    <tr style=\"text-align: right;\">\n",
       "      <th></th>\n",
       "      <th>Headline</th>\n",
       "      <th>Label</th>\n",
       "      <th>cleaned_headlines</th>\n",
       "    </tr>\n",
       "  </thead>\n",
       "  <tbody>\n",
       "    <tr>\n",
       "      <th>0</th>\n",
       "      <td>Four ways Bob Corker skewered Donald Trump</td>\n",
       "      <td>1</td>\n",
       "      <td>four ways bob corker skewered donald trump</td>\n",
       "    </tr>\n",
       "    <tr>\n",
       "      <th>1</th>\n",
       "      <td>Linklater's war veteran comedy speaks to moder...</td>\n",
       "      <td>1</td>\n",
       "      <td>linklater's war veteran comedy speaks to moder...</td>\n",
       "    </tr>\n",
       "    <tr>\n",
       "      <th>2</th>\n",
       "      <td>Trump’s Fight With Corker Jeopardizes His Legi...</td>\n",
       "      <td>1</td>\n",
       "      <td>trump’s fight with corker jeopardizes his legi...</td>\n",
       "    </tr>\n",
       "    <tr>\n",
       "      <th>3</th>\n",
       "      <td>Egypt's Cheiron wins tie-up with Pemex for Mex...</td>\n",
       "      <td>1</td>\n",
       "      <td>egypt's cheiron wins tie-up with pemex for mex...</td>\n",
       "    </tr>\n",
       "    <tr>\n",
       "      <th>4</th>\n",
       "      <td>Jason Aldean opens 'SNL' with Vegas tribute</td>\n",
       "      <td>1</td>\n",
       "      <td>jason aldean opens 'snl' with vegas tribute</td>\n",
       "    </tr>\n",
       "  </tbody>\n",
       "</table>\n",
       "</div>"
      ],
      "text/plain": [
       "                                            Headline  Label  \\\n",
       "0         Four ways Bob Corker skewered Donald Trump      1   \n",
       "1  Linklater's war veteran comedy speaks to moder...      1   \n",
       "2  Trump’s Fight With Corker Jeopardizes His Legi...      1   \n",
       "3  Egypt's Cheiron wins tie-up with Pemex for Mex...      1   \n",
       "4        Jason Aldean opens 'SNL' with Vegas tribute      1   \n",
       "\n",
       "                                   cleaned_headlines  \n",
       "0         four ways bob corker skewered donald trump  \n",
       "1  linklater's war veteran comedy speaks to moder...  \n",
       "2  trump’s fight with corker jeopardizes his legi...  \n",
       "3  egypt's cheiron wins tie-up with pemex for mex...  \n",
       "4        jason aldean opens 'snl' with vegas tribute  "
      ]
     },
     "execution_count": 8,
     "metadata": {},
     "output_type": "execute_result"
    }
   ],
   "source": [
    "df.head()"
   ]
  },
  {
   "cell_type": "code",
   "execution_count": 9,
   "id": "5398c087",
   "metadata": {},
   "outputs": [],
   "source": [
    "tfv=TfidfVectorizer()\n",
    "x=tfv.fit_transform(df['cleaned_headlines']).toarray()"
   ]
  },
  {
   "cell_type": "code",
   "execution_count": 10,
   "id": "207c0ee4",
   "metadata": {},
   "outputs": [],
   "source": [
    "y=df[\"Label\"]"
   ]
  },
  {
   "cell_type": "code",
   "execution_count": 11,
   "id": "58ba170d",
   "metadata": {},
   "outputs": [
    {
     "data": {
      "text/plain": [
       "0    2137\n",
       "1    1872\n",
       "Name: Label, dtype: int64"
      ]
     },
     "execution_count": 11,
     "metadata": {},
     "output_type": "execute_result"
    }
   ],
   "source": [
    "y.value_counts()"
   ]
  },
  {
   "cell_type": "code",
   "execution_count": 12,
   "id": "df8bc680",
   "metadata": {},
   "outputs": [],
   "source": [
    "xtrain,xtest,ytrain,ytest=train_test_split(x,y,train_size=0.75)"
   ]
  },
  {
   "cell_type": "markdown",
   "id": "5632e31f",
   "metadata": {},
   "source": [
    "### Tunning model"
   ]
  },
  {
   "cell_type": "code",
   "execution_count": 13,
   "id": "3270503a",
   "metadata": {},
   "outputs": [],
   "source": [
    "def build_model(hp):\n",
    "    nn= Sequential()\n",
    "    \n",
    "    #units\n",
    "    hp1=hp.Int('unit1',min_value=16,max_value=512,step=32)\n",
    "    hp2=hp.Int('unit2',min_value=16,max_value=512,step=32)\n",
    "    hp3=hp.Int('unit3',min_value=16,max_value=512,step=32)\n",
    "    \n",
    "    #dropout\n",
    "    dp1=hp.Float('drop1',min_value=0.2,max_value=0.5,step=0.1)\n",
    "    dp2=hp.Float('drop2',min_value=0.2,max_value=0.5,step=0.1)\n",
    "    dp3=hp.Float('drop3',min_value=0.2,max_value=0.5,step=0.1)\n",
    "    \n",
    "    #1st hidden layer\n",
    "    nn.add(Dense(units=hp1,input_dim=xtrain.shape[1],activation='relu'))\n",
    "    nn.add(Dropout(dp1))\n",
    "    \n",
    "    #2nd Hidden layer\n",
    "    nn.add(Dense(units=hp2,activation='relu'))\n",
    "    nn.add(Dropout(dp2))\n",
    "    \n",
    "    #3rd hidden layer\n",
    "    nn.add(Dense(units=hp3,activation='relu'))\n",
    "    nn.add(Dropout(dp3))\n",
    "    \n",
    "    #o/p layer\n",
    "    nn.add(Dense(1,activation='sigmoid'))\n",
    "    \n",
    "    nn.compile(loss='binary_crossentropy',optimizer='adam',metrics='accuracy')\n",
    "    return nn"
   ]
  },
  {
   "cell_type": "code",
   "execution_count": 14,
   "id": "f70d7e48",
   "metadata": {},
   "outputs": [],
   "source": [
    "tuner=kt.Hyperband(build_model,objective='val_loss',max_epochs=10,directory='keras_tuner_dir',\n",
    "                     project_name='keras_tuner_proj')"
   ]
  },
  {
   "cell_type": "code",
   "execution_count": 15,
   "id": "b2b15438",
   "metadata": {},
   "outputs": [
    {
     "name": "stdout",
     "output_type": "stream",
     "text": [
      "Trial 30 Complete [00h 00m 41s]\n",
      "val_loss: 0.42010053992271423\n",
      "\n",
      "Best val_loss So Far: 0.3996957242488861\n",
      "Total elapsed time: 00h 05m 31s\n",
      "INFO:tensorflow:Oracle triggered exit\n"
     ]
    }
   ],
   "source": [
    "tuner.search(xtrain,ytrain,validation_split=0.2,epochs=30)"
   ]
  },
  {
   "cell_type": "code",
   "execution_count": 16,
   "id": "eea7bea2",
   "metadata": {},
   "outputs": [
    {
     "data": {
      "text/plain": [
       "<keras_tuner.engine.hyperparameters.hyperparameters.HyperParameters at 0x1ed9b927460>"
      ]
     },
     "execution_count": 16,
     "metadata": {},
     "output_type": "execute_result"
    }
   ],
   "source": [
    "hparams = tuner.get_best_hyperparameters()[0]\n",
    "hparams"
   ]
  },
  {
   "cell_type": "code",
   "execution_count": 35,
   "id": "e3c372d6",
   "metadata": {},
   "outputs": [
    {
     "name": "stdout",
     "output_type": "stream",
     "text": [
      "208 unit for layer 1\n",
      "144 unit for layer 2\n",
      "304 unit for layer 3\n",
      "0.4 dropout for layer 1\n",
      "0.2 dropout for layer 2\n",
      "0.4 dropout for layer 3\n"
     ]
    }
   ],
   "source": [
    "print('{} unit for layer 1'.format(hparams.get('unit1')) )\n",
    "print('{} unit for layer 2'.format(hparams.get('unit2')))\n",
    "print('{} unit for layer 3'.format(hparams.get('unit3')))\n",
    "print('{} dropout for layer 1'.format(hparams.get('drop1')))\n",
    "print('{} dropout for layer 2'.format(hparams.get('drop2')))\n",
    "print('{} dropout for layer 3'.format(hparams.get('drop3')))"
   ]
  },
  {
   "cell_type": "markdown",
   "id": "4c53191b",
   "metadata": {},
   "source": [
    "### Building model"
   ]
  },
  {
   "cell_type": "code",
   "execution_count": 20,
   "id": "655466c3",
   "metadata": {},
   "outputs": [],
   "source": [
    "nn=Sequential()\n",
    "\n",
    "#1st hidden layer\n",
    "nn.add(Dense(208,activation='relu',input_dim=xtrain.shape[1]))\n",
    "nn.add(Dropout(0.4))\n",
    "nn.add(BatchNormalization())\n",
    "\n",
    "#2nd hidden layer\n",
    "nn.add(Dense(144,activation='relu'))\n",
    "nn.add(Dropout(0.2))\n",
    "nn.add(BatchNormalization())\n",
    "\n",
    "nn.add(Dense(304,activation='relu'))\n",
    "nn.add(Dropout(0.4))\n",
    "nn.add(BatchNormalization())\n",
    "\n",
    "\n",
    "#output\n",
    "nn.add(Dense(1,activation='sigmoid'))"
   ]
  },
  {
   "cell_type": "code",
   "execution_count": 21,
   "id": "829c80d2",
   "metadata": {},
   "outputs": [],
   "source": [
    "early_stop=EarlyStopping(monitor='val_loss',patience=10)"
   ]
  },
  {
   "cell_type": "code",
   "execution_count": 22,
   "id": "d669172c",
   "metadata": {},
   "outputs": [
    {
     "name": "stdout",
     "output_type": "stream",
     "text": [
      "Model: \"sequential_1\"\n",
      "_________________________________________________________________\n",
      " Layer (type)                Output Shape              Param #   \n",
      "=================================================================\n",
      " dense_4 (Dense)             (None, 208)               1489696   \n",
      "                                                                 \n",
      " dropout_3 (Dropout)         (None, 208)               0         \n",
      "                                                                 \n",
      " batch_normalization (BatchN  (None, 208)              832       \n",
      " ormalization)                                                   \n",
      "                                                                 \n",
      " dense_5 (Dense)             (None, 144)               30096     \n",
      "                                                                 \n",
      " dropout_4 (Dropout)         (None, 144)               0         \n",
      "                                                                 \n",
      " batch_normalization_1 (Batc  (None, 144)              576       \n",
      " hNormalization)                                                 \n",
      "                                                                 \n",
      " dense_6 (Dense)             (None, 304)               44080     \n",
      "                                                                 \n",
      " dropout_5 (Dropout)         (None, 304)               0         \n",
      "                                                                 \n",
      " batch_normalization_2 (Batc  (None, 304)              1216      \n",
      " hNormalization)                                                 \n",
      "                                                                 \n",
      " dense_7 (Dense)             (None, 1)                 305       \n",
      "                                                                 \n",
      "=================================================================\n",
      "Total params: 1,566,801\n",
      "Trainable params: 1,565,489\n",
      "Non-trainable params: 1,312\n",
      "_________________________________________________________________\n"
     ]
    }
   ],
   "source": [
    "nn.summary()"
   ]
  },
  {
   "cell_type": "code",
   "execution_count": 23,
   "id": "5d4f612b",
   "metadata": {},
   "outputs": [],
   "source": [
    "nn.compile(loss='binary_crossentropy',optimizer='adam',metrics=['accuracy'])"
   ]
  },
  {
   "cell_type": "code",
   "execution_count": 24,
   "id": "a0d45b37",
   "metadata": {},
   "outputs": [
    {
     "name": "stdout",
     "output_type": "stream",
     "text": [
      "Epoch 1/100\n",
      "301/301 [==============================] - 8s 22ms/step - loss: 0.7642 - accuracy: 0.5874 - val_loss: 0.8191 - val_accuracy: 0.4668\n",
      "Epoch 2/100\n",
      "301/301 [==============================] - 6s 21ms/step - loss: 0.5212 - accuracy: 0.7550 - val_loss: 0.5955 - val_accuracy: 0.7276\n",
      "Epoch 3/100\n",
      "301/301 [==============================] - 6s 21ms/step - loss: 0.3858 - accuracy: 0.8307 - val_loss: 0.5418 - val_accuracy: 0.8023\n",
      "Epoch 4/100\n",
      "301/301 [==============================] - 6s 21ms/step - loss: 0.2732 - accuracy: 0.8906 - val_loss: 0.5078 - val_accuracy: 0.8106\n",
      "Epoch 5/100\n",
      "301/301 [==============================] - 6s 21ms/step - loss: 0.1892 - accuracy: 0.9255 - val_loss: 0.5022 - val_accuracy: 0.8123\n",
      "Epoch 6/100\n",
      "301/301 [==============================] - 6s 21ms/step - loss: 0.1893 - accuracy: 0.9230 - val_loss: 0.5537 - val_accuracy: 0.8156\n",
      "Epoch 7/100\n",
      "301/301 [==============================] - 6s 21ms/step - loss: 0.1675 - accuracy: 0.9359 - val_loss: 0.5718 - val_accuracy: 0.8173\n",
      "Epoch 8/100\n",
      "301/301 [==============================] - 6s 21ms/step - loss: 0.1752 - accuracy: 0.9351 - val_loss: 0.5153 - val_accuracy: 0.8256\n",
      "Epoch 9/100\n",
      "301/301 [==============================] - 6s 21ms/step - loss: 0.1428 - accuracy: 0.9484 - val_loss: 0.5339 - val_accuracy: 0.8106\n",
      "Epoch 10/100\n",
      "301/301 [==============================] - 6s 21ms/step - loss: 0.1175 - accuracy: 0.9526 - val_loss: 0.6097 - val_accuracy: 0.8007\n",
      "Epoch 11/100\n",
      "301/301 [==============================] - 6s 21ms/step - loss: 0.1299 - accuracy: 0.9551 - val_loss: 0.5248 - val_accuracy: 0.8040\n",
      "Epoch 12/100\n",
      "301/301 [==============================] - 6s 21ms/step - loss: 0.1493 - accuracy: 0.9434 - val_loss: 0.4687 - val_accuracy: 0.8140\n",
      "Epoch 13/100\n",
      "301/301 [==============================] - 6s 21ms/step - loss: 0.1226 - accuracy: 0.9538 - val_loss: 0.4832 - val_accuracy: 0.8256\n",
      "Epoch 14/100\n",
      "301/301 [==============================] - 6s 21ms/step - loss: 0.1320 - accuracy: 0.9517 - val_loss: 0.4727 - val_accuracy: 0.8239\n",
      "Epoch 15/100\n",
      "301/301 [==============================] - 6s 21ms/step - loss: 0.1006 - accuracy: 0.9634 - val_loss: 0.5863 - val_accuracy: 0.8140\n",
      "Epoch 16/100\n",
      "301/301 [==============================] - 6s 21ms/step - loss: 0.1140 - accuracy: 0.9563 - val_loss: 0.5655 - val_accuracy: 0.8106\n",
      "Epoch 17/100\n",
      "301/301 [==============================] - 6s 21ms/step - loss: 0.1322 - accuracy: 0.9480 - val_loss: 0.5194 - val_accuracy: 0.8156\n",
      "Epoch 18/100\n",
      "301/301 [==============================] - 6s 21ms/step - loss: 0.1159 - accuracy: 0.9517 - val_loss: 0.4721 - val_accuracy: 0.8106\n",
      "Epoch 19/100\n",
      "301/301 [==============================] - 6s 21ms/step - loss: 0.1270 - accuracy: 0.9509 - val_loss: 0.4683 - val_accuracy: 0.8123\n",
      "Epoch 20/100\n",
      "301/301 [==============================] - 6s 21ms/step - loss: 0.1188 - accuracy: 0.9584 - val_loss: 0.4508 - val_accuracy: 0.8206\n",
      "Epoch 21/100\n",
      "301/301 [==============================] - 6s 21ms/step - loss: 0.1229 - accuracy: 0.9547 - val_loss: 0.5280 - val_accuracy: 0.8123\n",
      "Epoch 22/100\n",
      "301/301 [==============================] - 6s 21ms/step - loss: 0.1036 - accuracy: 0.9642 - val_loss: 0.5134 - val_accuracy: 0.8106\n",
      "Epoch 23/100\n",
      "301/301 [==============================] - 6s 21ms/step - loss: 0.1241 - accuracy: 0.9542 - val_loss: 0.5142 - val_accuracy: 0.8056\n",
      "Epoch 24/100\n",
      "301/301 [==============================] - 6s 21ms/step - loss: 0.1013 - accuracy: 0.9601 - val_loss: 0.6050 - val_accuracy: 0.8123\n",
      "Epoch 25/100\n",
      "301/301 [==============================] - 6s 21ms/step - loss: 0.1136 - accuracy: 0.9555 - val_loss: 0.5019 - val_accuracy: 0.8206\n",
      "Epoch 26/100\n",
      "301/301 [==============================] - 6s 21ms/step - loss: 0.0937 - accuracy: 0.9609 - val_loss: 0.4670 - val_accuracy: 0.8256\n",
      "Epoch 27/100\n",
      "301/301 [==============================] - 6s 21ms/step - loss: 0.1347 - accuracy: 0.9522 - val_loss: 0.4337 - val_accuracy: 0.8289\n",
      "Epoch 28/100\n",
      "301/301 [==============================] - 6s 21ms/step - loss: 0.1139 - accuracy: 0.9563 - val_loss: 0.4746 - val_accuracy: 0.8173\n",
      "Epoch 29/100\n",
      "301/301 [==============================] - 6s 21ms/step - loss: 0.0790 - accuracy: 0.9713 - val_loss: 0.4934 - val_accuracy: 0.8289\n",
      "Epoch 30/100\n",
      "301/301 [==============================] - 6s 21ms/step - loss: 0.1029 - accuracy: 0.9659 - val_loss: 0.4831 - val_accuracy: 0.8389\n",
      "Epoch 31/100\n",
      "301/301 [==============================] - 6s 21ms/step - loss: 0.0916 - accuracy: 0.9700 - val_loss: 0.5001 - val_accuracy: 0.8156\n",
      "Epoch 32/100\n",
      "301/301 [==============================] - 6s 21ms/step - loss: 0.0983 - accuracy: 0.9659 - val_loss: 0.5003 - val_accuracy: 0.8272\n",
      "Epoch 33/100\n",
      "301/301 [==============================] - 6s 21ms/step - loss: 0.0899 - accuracy: 0.9676 - val_loss: 0.4726 - val_accuracy: 0.8223\n",
      "Epoch 34/100\n",
      "301/301 [==============================] - 7s 22ms/step - loss: 0.0889 - accuracy: 0.9684 - val_loss: 0.5377 - val_accuracy: 0.8140\n",
      "Epoch 35/100\n",
      "301/301 [==============================] - 6s 21ms/step - loss: 0.0801 - accuracy: 0.9742 - val_loss: 0.5419 - val_accuracy: 0.7990\n",
      "Epoch 36/100\n",
      "301/301 [==============================] - 6s 21ms/step - loss: 0.0774 - accuracy: 0.9730 - val_loss: 0.5796 - val_accuracy: 0.8023\n",
      "Epoch 37/100\n",
      "301/301 [==============================] - 7s 22ms/step - loss: 0.0887 - accuracy: 0.9651 - val_loss: 0.5061 - val_accuracy: 0.8007\n"
     ]
    }
   ],
   "source": [
    "hist = nn.fit(xtrain, ytrain,\n",
    "              validation_split=0.2,\n",
    "              batch_size=8,\n",
    "              epochs=100,\n",
    "              callbacks=[early_stop])"
   ]
  },
  {
   "cell_type": "code",
   "execution_count": 25,
   "id": "5731c0fc",
   "metadata": {},
   "outputs": [
    {
     "data": {
      "text/plain": [
       "[<matplotlib.lines.Line2D at 0x1ed9ffa4070>]"
      ]
     },
     "execution_count": 25,
     "metadata": {},
     "output_type": "execute_result"
    },
    {
     "data": {
      "image/png": "[encoded data removed]",
      "text/plain": [
       "<Figure size 432x288 with 1 Axes>"
      ]
     },
     "metadata": {
      "needs_background": "light"
     },
     "output_type": "display_data"
    }
   ],
   "source": [
    "plt.plot(hist.history['loss'],c='blue')\n",
    "plt.plot(hist.history['val_loss'],c='red')"
   ]
  },
  {
   "cell_type": "code",
   "execution_count": 26,
   "id": "bdb3bcd8",
   "metadata": {},
   "outputs": [
    {
     "name": "stdout",
     "output_type": "stream",
     "text": [
      "94/94 [==============================] - 0s 2ms/step - loss: 0.1058 - accuracy: 0.9601\n"
     ]
    },
    {
     "data": {
      "text/plain": [
       "[0.10580886155366898, 0.9600798487663269]"
      ]
     },
     "execution_count": 26,
     "metadata": {},
     "output_type": "execute_result"
    }
   ],
   "source": [
    "nn.evaluate(xtrain,ytrain)"
   ]
  },
  {
   "cell_type": "code",
   "execution_count": 27,
   "id": "4b24df45",
   "metadata": {},
   "outputs": [
    {
     "name": "stdout",
     "output_type": "stream",
     "text": [
      "32/32 [==============================] - 0s 2ms/step - loss: 0.4225 - accuracy: 0.8255\n"
     ]
    },
    {
     "data": {
      "text/plain": [
       "[0.4225236475467682, 0.8255234360694885]"
      ]
     },
     "execution_count": 27,
     "metadata": {},
     "output_type": "execute_result"
    }
   ],
   "source": [
    "nn.evaluate(xtest, ytest)"
   ]
  },
  {
   "cell_type": "markdown",
   "id": "0092aa38",
   "metadata": {},
   "source": [
    "### Sklearn Metrics"
   ]
  },
  {
   "cell_type": "code",
   "execution_count": 28,
   "id": "f55e26dd",
   "metadata": {},
   "outputs": [
    {
     "name": "stdout",
     "output_type": "stream",
     "text": [
      "32/32 [==============================] - 0s 2ms/step\n"
     ]
    }
   ],
   "source": [
    "prob=nn.predict(xtest)"
   ]
  },
  {
   "cell_type": "code",
   "execution_count": 29,
   "id": "dbc4b1d4",
   "metadata": {},
   "outputs": [],
   "source": [
    "pred=[]\n",
    "for i in prob:\n",
    "    if i >= 0.5:\n",
    "        pred.append(1)\n",
    "    else: \n",
    "        pred.append(0)"
   ]
  },
  {
   "cell_type": "code",
   "execution_count": 30,
   "id": "2e45bd06",
   "metadata": {},
   "outputs": [
    {
     "name": "stdout",
     "output_type": "stream",
     "text": [
      "              precision    recall  f1-score   support\n",
      "\n",
      "           0       0.95      0.71      0.81       530\n",
      "           1       0.74      0.96      0.84       473\n",
      "\n",
      "    accuracy                           0.83      1003\n",
      "   macro avg       0.85      0.83      0.82      1003\n",
      "weighted avg       0.85      0.83      0.82      1003\n",
      "\n"
     ]
    }
   ],
   "source": [
    "print(classification_report(ytest,pred))"
   ]
  },
  {
   "cell_type": "code",
   "execution_count": 31,
   "id": "7bc48014",
   "metadata": {},
   "outputs": [
    {
     "data": {
      "text/plain": [
       "<AxesSubplot:>"
      ]
     },
     "execution_count": 31,
     "metadata": {},
     "output_type": "execute_result"
    },
    {
     "data": {
      "image/png": "[encoded data removed]",
      "text/plain": [
       "<Figure size 432x288 with 2 Axes>"
      ]
     },
     "metadata": {
      "needs_background": "light"
     },
     "output_type": "display_data"
    }
   ],
   "source": [
    "sns.heatmap(confusion_matrix(ytest,pred),annot=True,fmt='d')"
   ]
  },
  {
   "cell_type": "markdown",
   "id": "dbb1784d",
   "metadata": {},
   "source": [
    "# conclusion:\n",
    "We have sucessfully built the model on news data using neural network with 83% accuracy"
   ]
  }
 ],
 "metadata": {
  "kernelspec": {
   "display_name": "Python 3 (ipykernel)",
   "language": "python",
   "name": "python3"
  },
  "language_info": {
   "codemirror_mode": {
    "name": "ipython",
    "version": 3
   },
   "file_extension": ".py",
   "mimetype": "text/x-python",
   "name": "python",
   "nbconvert_exporter": "python",
   "pygments_lexer": "ipython3",
   "version": "3.9.7"
  }
 },
 "nbformat": 4,
 "nbformat_minor": 5
}
