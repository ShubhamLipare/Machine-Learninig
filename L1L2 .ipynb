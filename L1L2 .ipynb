{
 "cells": [
  {
   "cell_type": "code",
   "execution_count": 1,
   "id": "5d6204db",
   "metadata": {},
   "outputs": [],
   "source": [
    "import numpy as np\n",
    "import pandas as pd\n",
    "\n",
    "from sklearn.preprocessing import RobustScaler\n",
    "from sklearn.model_selection import GridSearchCV\n",
    "from sklearn.pipeline import Pipeline, make_pipeline\n",
    "from sklearn.linear_model import LinearRegression, Lasso, Ridge \n",
    "from sklearn.model_selection import KFold, cross_val_score, train_test_split"
   ]
  },
  {
   "cell_type": "code",
   "execution_count": 2,
   "id": "cac44118",
   "metadata": {},
   "outputs": [],
   "source": [
    "x_train=pd.read_csv(\"E:\\Courses\\Data science(ETLHive)\\dataset\\cleaned_train_X.csv\")\n",
    "y_train=pd.read_csv(\"E:\\Courses\\Data science(ETLHive)\\dataset\\cleaned_train_y.csv\")"
   ]
  },
  {
   "cell_type": "code",
   "execution_count": 3,
   "id": "ba33b3bc",
   "metadata": {},
   "outputs": [],
   "source": [
    "#lets create function for cross validation\n",
    "def rmsle_cv(model):\n",
    "    kf=KFold(5,shuffle=True,random_state=0).get_n_splits(x_train)\n",
    "    rmse=np.sqrt(-cross_val_score(model,x_train,y_train,cv=kf,scoring=\"neg_mean_squared_error\"))\n",
    "    return rmse"
   ]
  },
  {
   "cell_type": "markdown",
   "id": "c731648f",
   "metadata": {},
   "source": [
    "### Linear model"
   ]
  },
  {
   "cell_type": "code",
   "execution_count": 4,
   "id": "4e2db549",
   "metadata": {},
   "outputs": [
    {
     "name": "stdout",
     "output_type": "stream",
     "text": [
      "Linear regression= 423853364376.486\n"
     ]
    }
   ],
   "source": [
    "lr=LinearRegression()\n",
    "lr.fit(x_train,y_train)\n",
    "lr_score=rmsle_cv(lr)\n",
    "print(\"Linear regression=\",round(lr_score.mean(),3))"
   ]
  },
  {
   "cell_type": "markdown",
   "id": "f674c41b",
   "metadata": {},
   "source": [
    "### Lasso (using default alpha=1)"
   ]
  },
  {
   "cell_type": "code",
   "execution_count": 5,
   "id": "a947a34d",
   "metadata": {},
   "outputs": [],
   "source": [
    "lasso = make_pipeline(RobustScaler(), Lasso(max_iter=5000, random_state=0))\n",
    "lasso.fit(x_train,y_train)\n",
    "lasso_score=rmsle_cv(lasso)"
   ]
  },
  {
   "cell_type": "code",
   "execution_count": 6,
   "id": "c162993a",
   "metadata": {},
   "outputs": [
    {
     "name": "stdout",
     "output_type": "stream",
     "text": [
      "Lasso score= 0.386\n"
     ]
    }
   ],
   "source": [
    "print(\"Lasso score=\",round(lasso_score.mean(),3))"
   ]
  },
  {
   "cell_type": "markdown",
   "id": "b3b3ecf0",
   "metadata": {},
   "source": [
    "### Lasso using diff values of alpha"
   ]
  },
  {
   "cell_type": "code",
   "execution_count": 7,
   "id": "f9b1422c",
   "metadata": {},
   "outputs": [
    {
     "name": "stdout",
     "output_type": "stream",
     "text": [
      "Lasso score= 0.151 \talpha= 0.0001\n",
      "Lasso score= 0.147 \talpha= 0.0005\n",
      "Lasso score= 0.145 \talpha= 0.001\n",
      "Lasso score= 0.142 \talpha= 0.005\n",
      "Lasso score= 0.146 \talpha= 0.01\n",
      "Lasso score= 0.193 \talpha= 0.05\n",
      "Lasso score= 0.247 \talpha= 0.1\n",
      "Lasso score= 0.377 \talpha= 0.5\n",
      "Lasso score= 0.386 \talpha= 1\n",
      "Lasso score= 0.399 \talpha= 5\n",
      "Lasso score= 0.399 \talpha= 10\n"
     ]
    }
   ],
   "source": [
    "alpha_val=[0.0001, 0.0005, 0.001, 0.005, 0.01, 0.05, 0.1, 0.5, 1, 5, 10]\n",
    "\n",
    "for alpha in alpha_val:\n",
    "    lasso = make_pipeline(RobustScaler(), Lasso(alpha=alpha,max_iter=5000, random_state=0))\n",
    "    lasso.fit(x_train,y_train)\n",
    "    lasso_score=rmsle_cv(lasso)\n",
    "    print(\"Lasso score=\",round(lasso_score.mean(),3),\"\\talpha=\",alpha)\n",
    "    "
   ]
  },
  {
   "cell_type": "markdown",
   "id": "fe32bf68",
   "metadata": {},
   "source": [
    "### Ridge regression(alpha=1)"
   ]
  },
  {
   "cell_type": "code",
   "execution_count": 8,
   "id": "ae45d64d",
   "metadata": {},
   "outputs": [
    {
     "name": "stdout",
     "output_type": "stream",
     "text": [
      "Ridge score= 0.153\n"
     ]
    }
   ],
   "source": [
    "ridge = make_pipeline(RobustScaler(), Ridge(max_iter=5000, random_state=0))\n",
    "ridge.fit(x_train,y_train)\n",
    "ridge_score=rmsle_cv(ridge)\n",
    "print(\"Ridge score=\",round(ridge_score.mean(),3))"
   ]
  },
  {
   "cell_type": "markdown",
   "id": "7c861b3a",
   "metadata": {},
   "source": [
    "### Ridge diff values of alpha"
   ]
  },
  {
   "cell_type": "code",
   "execution_count": 9,
   "id": "5e3c062d",
   "metadata": {},
   "outputs": [
    {
     "name": "stdout",
     "output_type": "stream",
     "text": [
      "Ridge score= 0.153 \talpha= 0.1\n",
      "Ridge score= 0.153 \talpha= 0.5\n",
      "Ridge score= 0.153 \talpha= 1\n",
      "Ridge score= 0.152 \talpha= 5\n",
      "Ridge score= 0.15 \talpha= 10\n",
      "Ridge score= 0.149 \talpha= 15\n",
      "Ridge score= 0.149 \talpha= 20\n",
      "Ridge score= 0.146 \talpha= 50\n",
      "Ridge score= 0.143 \talpha= 100\n",
      "Ridge score= 0.14 \talpha= 200\n",
      "Ridge score= 0.14 \talpha= 500\n",
      "Ridge score= 0.146 \talpha= 1000\n"
     ]
    }
   ],
   "source": [
    "alpha_values = [0.1, 0.5, 1, 5, 10, 15, 20, 50, 100, 200, 500, 1000]\n",
    "\n",
    "for alpha in alpha_values:\n",
    "    ridge = make_pipeline(RobustScaler(), Ridge(max_iter=5000, random_state=0,alpha=alpha))\n",
    "    ridge.fit(x_train,y_train)\n",
    "    ridge_score=rmsle_cv(ridge)\n",
    "    print(\"Ridge score=\",round(ridge_score.mean(),3),\"\\talpha=\",alpha)\n",
    "    "
   ]
  },
  {
   "cell_type": "code",
   "execution_count": null,
   "id": "d11a5aaa",
   "metadata": {},
   "outputs": [],
   "source": [
    "ridge."
   ]
  }
 ],
 "metadata": {
  "kernelspec": {
   "display_name": "Python 3 (ipykernel)",
   "language": "python",
   "name": "python3"
  },
  "language_info": {
   "codemirror_mode": {
    "name": "ipython",
    "version": 3
   },
   "file_extension": ".py",
   "mimetype": "text/x-python",
   "name": "python",
   "nbconvert_exporter": "python",
   "pygments_lexer": "ipython3",
   "version": "3.9.7"
  }
 },
 "nbformat": 4,
 "nbformat_minor": 5
}
