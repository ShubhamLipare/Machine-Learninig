{
 "cells": [
  {
   "cell_type": "code",
   "execution_count": 1,
   "id": "d8ab6576",
   "metadata": {},
   "outputs": [],
   "source": [
    "import pandas as pd\n",
    "import re\n",
    "from sklearn.feature_extraction.text import TfidfVectorizer\n",
    "from sklearn.metrics import classification_report,confusion_matrix\n",
    "import matplotlib.pyplot as plt\n",
    "from keras.models import Sequential\n",
    "from keras.layers import Dense,Dropout,BatchNormalization\n",
    "from keras.callbacks import EarlyStopping\n",
    "from sklearn.preprocessing import LabelEncoder\n",
    "from keras.models import load_model\n",
    "import seaborn as sns"
   ]
  },
  {
   "cell_type": "code",
   "execution_count": 2,
   "id": "2693d7ad",
   "metadata": {},
   "outputs": [],
   "source": [
    "df=pd.read_csv(r\"G:\\ML projects\\EmailSpam.csv\")"
   ]
  },
  {
   "cell_type": "code",
   "execution_count": 3,
   "id": "8f65b360",
   "metadata": {},
   "outputs": [
    {
     "data": {
      "text/html": [
       "<div>\n",
       "<style scoped>\n",
       "    .dataframe tbody tr th:only-of-type {\n",
       "        vertical-align: middle;\n",
       "    }\n",
       "\n",
       "    .dataframe tbody tr th {\n",
       "        vertical-align: top;\n",
       "    }\n",
       "\n",
       "    .dataframe thead th {\n",
       "        text-align: right;\n",
       "    }\n",
       "</style>\n",
       "<table border=\"1\" class=\"dataframe\">\n",
       "  <thead>\n",
       "    <tr style=\"text-align: right;\">\n",
       "      <th></th>\n",
       "      <th>Category</th>\n",
       "      <th>Message</th>\n",
       "    </tr>\n",
       "  </thead>\n",
       "  <tbody>\n",
       "    <tr>\n",
       "      <th>0</th>\n",
       "      <td>ham</td>\n",
       "      <td>Go until jurong point, crazy.. Available only ...</td>\n",
       "    </tr>\n",
       "    <tr>\n",
       "      <th>1</th>\n",
       "      <td>ham</td>\n",
       "      <td>Ok lar... Joking wif u oni...</td>\n",
       "    </tr>\n",
       "    <tr>\n",
       "      <th>2</th>\n",
       "      <td>spam</td>\n",
       "      <td>Free entry in 2 a wkly comp to win FA Cup fina...</td>\n",
       "    </tr>\n",
       "    <tr>\n",
       "      <th>3</th>\n",
       "      <td>ham</td>\n",
       "      <td>U dun say so early hor... U c already then say...</td>\n",
       "    </tr>\n",
       "    <tr>\n",
       "      <th>4</th>\n",
       "      <td>ham</td>\n",
       "      <td>Nah I don't think he goes to usf, he lives aro...</td>\n",
       "    </tr>\n",
       "  </tbody>\n",
       "</table>\n",
       "</div>"
      ],
      "text/plain": [
       "  Category                                            Message\n",
       "0      ham  Go until jurong point, crazy.. Available only ...\n",
       "1      ham                      Ok lar... Joking wif u oni...\n",
       "2     spam  Free entry in 2 a wkly comp to win FA Cup fina...\n",
       "3      ham  U dun say so early hor... U c already then say...\n",
       "4      ham  Nah I don't think he goes to usf, he lives aro..."
      ]
     },
     "execution_count": 3,
     "metadata": {},
     "output_type": "execute_result"
    }
   ],
   "source": [
    "df.head()"
   ]
  },
  {
   "cell_type": "code",
   "execution_count": 4,
   "id": "a5c6a4a9",
   "metadata": {},
   "outputs": [
    {
     "data": {
      "text/plain": [
       "(5572, 2)"
      ]
     },
     "execution_count": 4,
     "metadata": {},
     "output_type": "execute_result"
    }
   ],
   "source": [
    "df.shape"
   ]
  },
  {
   "cell_type": "code",
   "execution_count": 5,
   "id": "a547869d",
   "metadata": {},
   "outputs": [
    {
     "data": {
      "text/plain": [
       "ham     4825\n",
       "spam     747\n",
       "Name: Category, dtype: int64"
      ]
     },
     "execution_count": 5,
     "metadata": {},
     "output_type": "execute_result"
    }
   ],
   "source": [
    "df.Category.value_counts()"
   ]
  },
  {
   "cell_type": "code",
   "execution_count": 6,
   "id": "5e57880d",
   "metadata": {},
   "outputs": [
    {
     "data": {
      "text/plain": [
       "Category    0\n",
       "Message     0\n",
       "dtype: int64"
      ]
     },
     "execution_count": 6,
     "metadata": {},
     "output_type": "execute_result"
    }
   ],
   "source": [
    "df.isnull().sum()"
   ]
  },
  {
   "cell_type": "code",
   "execution_count": 7,
   "id": "c0852a64",
   "metadata": {},
   "outputs": [
    {
     "data": {
      "text/plain": [
       "415"
      ]
     },
     "execution_count": 7,
     "metadata": {},
     "output_type": "execute_result"
    }
   ],
   "source": [
    "df.duplicated().sum()"
   ]
  },
  {
   "cell_type": "code",
   "execution_count": 8,
   "id": "8a906178",
   "metadata": {},
   "outputs": [],
   "source": [
    "#dropping duplicates\n",
    "df.drop_duplicates(inplace=True)"
   ]
  },
  {
   "cell_type": "code",
   "execution_count": 9,
   "id": "0e3d3a55",
   "metadata": {},
   "outputs": [
    {
     "data": {
      "text/plain": [
       "(5157, 2)"
      ]
     },
     "execution_count": 9,
     "metadata": {},
     "output_type": "execute_result"
    }
   ],
   "source": [
    "df.shape"
   ]
  },
  {
   "cell_type": "markdown",
   "id": "e0650805",
   "metadata": {},
   "source": [
    "### Preprocessing"
   ]
  },
  {
   "cell_type": "code",
   "execution_count": 10,
   "id": "fc856035",
   "metadata": {},
   "outputs": [],
   "source": [
    "words=[]\n",
    "\n",
    "for i in df[\"Message\"]:\n",
    "    i=i.lower()\n",
    "    i=re.sub(\"[^a-z0-9 ]\",\"\",i) #removing everything except space and a-z\n",
    "    words.append(i)"
   ]
  },
  {
   "cell_type": "code",
   "execution_count": 11,
   "id": "81ec4335",
   "metadata": {},
   "outputs": [],
   "source": [
    "df[\"message\"]=words"
   ]
  },
  {
   "cell_type": "code",
   "execution_count": 12,
   "id": "7d307ce0",
   "metadata": {},
   "outputs": [
    {
     "data": {
      "text/html": [
       "<div>\n",
       "<style scoped>\n",
       "    .dataframe tbody tr th:only-of-type {\n",
       "        vertical-align: middle;\n",
       "    }\n",
       "\n",
       "    .dataframe tbody tr th {\n",
       "        vertical-align: top;\n",
       "    }\n",
       "\n",
       "    .dataframe thead th {\n",
       "        text-align: right;\n",
       "    }\n",
       "</style>\n",
       "<table border=\"1\" class=\"dataframe\">\n",
       "  <thead>\n",
       "    <tr style=\"text-align: right;\">\n",
       "      <th></th>\n",
       "      <th>Category</th>\n",
       "      <th>Message</th>\n",
       "      <th>message</th>\n",
       "    </tr>\n",
       "  </thead>\n",
       "  <tbody>\n",
       "    <tr>\n",
       "      <th>0</th>\n",
       "      <td>ham</td>\n",
       "      <td>Go until jurong point, crazy.. Available only ...</td>\n",
       "      <td>go until jurong point crazy available only in ...</td>\n",
       "    </tr>\n",
       "    <tr>\n",
       "      <th>1</th>\n",
       "      <td>ham</td>\n",
       "      <td>Ok lar... Joking wif u oni...</td>\n",
       "      <td>ok lar joking wif u oni</td>\n",
       "    </tr>\n",
       "    <tr>\n",
       "      <th>2</th>\n",
       "      <td>spam</td>\n",
       "      <td>Free entry in 2 a wkly comp to win FA Cup fina...</td>\n",
       "      <td>free entry in 2 a wkly comp to win fa cup fina...</td>\n",
       "    </tr>\n",
       "    <tr>\n",
       "      <th>3</th>\n",
       "      <td>ham</td>\n",
       "      <td>U dun say so early hor... U c already then say...</td>\n",
       "      <td>u dun say so early hor u c already then say</td>\n",
       "    </tr>\n",
       "    <tr>\n",
       "      <th>4</th>\n",
       "      <td>ham</td>\n",
       "      <td>Nah I don't think he goes to usf, he lives aro...</td>\n",
       "      <td>nah i dont think he goes to usf he lives aroun...</td>\n",
       "    </tr>\n",
       "  </tbody>\n",
       "</table>\n",
       "</div>"
      ],
      "text/plain": [
       "  Category                                            Message  \\\n",
       "0      ham  Go until jurong point, crazy.. Available only ...   \n",
       "1      ham                      Ok lar... Joking wif u oni...   \n",
       "2     spam  Free entry in 2 a wkly comp to win FA Cup fina...   \n",
       "3      ham  U dun say so early hor... U c already then say...   \n",
       "4      ham  Nah I don't think he goes to usf, he lives aro...   \n",
       "\n",
       "                                             message  \n",
       "0  go until jurong point crazy available only in ...  \n",
       "1                            ok lar joking wif u oni  \n",
       "2  free entry in 2 a wkly comp to win fa cup fina...  \n",
       "3        u dun say so early hor u c already then say  \n",
       "4  nah i dont think he goes to usf he lives aroun...  "
      ]
     },
     "execution_count": 12,
     "metadata": {},
     "output_type": "execute_result"
    }
   ],
   "source": [
    "df.head()"
   ]
  },
  {
   "cell_type": "code",
   "execution_count": 13,
   "id": "f49f5fb5",
   "metadata": {},
   "outputs": [],
   "source": [
    "le=LabelEncoder()\n",
    "df['Category']=le.fit_transform(df['Category'])"
   ]
  },
  {
   "cell_type": "code",
   "execution_count": 14,
   "id": "0020e7bd",
   "metadata": {},
   "outputs": [
    {
     "data": {
      "text/html": [
       "<div>\n",
       "<style scoped>\n",
       "    .dataframe tbody tr th:only-of-type {\n",
       "        vertical-align: middle;\n",
       "    }\n",
       "\n",
       "    .dataframe tbody tr th {\n",
       "        vertical-align: top;\n",
       "    }\n",
       "\n",
       "    .dataframe thead th {\n",
       "        text-align: right;\n",
       "    }\n",
       "</style>\n",
       "<table border=\"1\" class=\"dataframe\">\n",
       "  <thead>\n",
       "    <tr style=\"text-align: right;\">\n",
       "      <th></th>\n",
       "      <th>Category</th>\n",
       "      <th>Message</th>\n",
       "      <th>message</th>\n",
       "    </tr>\n",
       "  </thead>\n",
       "  <tbody>\n",
       "    <tr>\n",
       "      <th>0</th>\n",
       "      <td>0</td>\n",
       "      <td>Go until jurong point, crazy.. Available only ...</td>\n",
       "      <td>go until jurong point crazy available only in ...</td>\n",
       "    </tr>\n",
       "    <tr>\n",
       "      <th>1</th>\n",
       "      <td>0</td>\n",
       "      <td>Ok lar... Joking wif u oni...</td>\n",
       "      <td>ok lar joking wif u oni</td>\n",
       "    </tr>\n",
       "    <tr>\n",
       "      <th>2</th>\n",
       "      <td>1</td>\n",
       "      <td>Free entry in 2 a wkly comp to win FA Cup fina...</td>\n",
       "      <td>free entry in 2 a wkly comp to win fa cup fina...</td>\n",
       "    </tr>\n",
       "    <tr>\n",
       "      <th>3</th>\n",
       "      <td>0</td>\n",
       "      <td>U dun say so early hor... U c already then say...</td>\n",
       "      <td>u dun say so early hor u c already then say</td>\n",
       "    </tr>\n",
       "    <tr>\n",
       "      <th>4</th>\n",
       "      <td>0</td>\n",
       "      <td>Nah I don't think he goes to usf, he lives aro...</td>\n",
       "      <td>nah i dont think he goes to usf he lives aroun...</td>\n",
       "    </tr>\n",
       "  </tbody>\n",
       "</table>\n",
       "</div>"
      ],
      "text/plain": [
       "   Category                                            Message  \\\n",
       "0         0  Go until jurong point, crazy.. Available only ...   \n",
       "1         0                      Ok lar... Joking wif u oni...   \n",
       "2         1  Free entry in 2 a wkly comp to win FA Cup fina...   \n",
       "3         0  U dun say so early hor... U c already then say...   \n",
       "4         0  Nah I don't think he goes to usf, he lives aro...   \n",
       "\n",
       "                                             message  \n",
       "0  go until jurong point crazy available only in ...  \n",
       "1                            ok lar joking wif u oni  \n",
       "2  free entry in 2 a wkly comp to win fa cup fina...  \n",
       "3        u dun say so early hor u c already then say  \n",
       "4  nah i dont think he goes to usf he lives aroun...  "
      ]
     },
     "execution_count": 14,
     "metadata": {},
     "output_type": "execute_result"
    }
   ],
   "source": [
    "df.head()"
   ]
  },
  {
   "cell_type": "markdown",
   "id": "699e23dc",
   "metadata": {},
   "source": [
    "ham --> 0 \n",
    "spam-->1"
   ]
  },
  {
   "cell_type": "code",
   "execution_count": 15,
   "id": "14d652ab",
   "metadata": {},
   "outputs": [],
   "source": [
    "tfv=TfidfVectorizer()"
   ]
  },
  {
   "cell_type": "markdown",
   "id": "28b6ea9a",
   "metadata": {},
   "source": [
    "### Splitting X and Y"
   ]
  },
  {
   "cell_type": "code",
   "execution_count": 16,
   "id": "5afb3481",
   "metadata": {},
   "outputs": [],
   "source": [
    "x=tfv.fit_transform(df[\"message\"]).toarray() #need to convert it to numpy array\n",
    "y=df['Category']"
   ]
  },
  {
   "cell_type": "code",
   "execution_count": 17,
   "id": "ae3b9dbe",
   "metadata": {},
   "outputs": [],
   "source": [
    "from sklearn.model_selection import train_test_split"
   ]
  },
  {
   "cell_type": "code",
   "execution_count": 18,
   "id": "a7248ab5",
   "metadata": {},
   "outputs": [],
   "source": [
    "xtrain,xtest,ytrain,ytest=train_test_split(x,y,train_size=0.75)"
   ]
  },
  {
   "cell_type": "markdown",
   "id": "6c65e85d",
   "metadata": {},
   "source": [
    "## Building neural network"
   ]
  },
  {
   "cell_type": "code",
   "execution_count": 19,
   "id": "4cf714e2",
   "metadata": {},
   "outputs": [],
   "source": [
    "nn=Sequential()\n",
    "\n",
    "#1st hidden layer\n",
    "nn.add(Dense(128,input_dim=xtrain.shape[1],activation='relu'))\n",
    "nn.add(Dropout(0.3))\n",
    "nn.add(BatchNormalization())\n",
    "\n",
    "#2nd hidden layer\n",
    "nn.add(Dense(64,activation='relu'))\n",
    "nn.add(Dropout(0.3))\n",
    "nn.add(BatchNormalization())\n",
    "\n",
    "#3rd hidden layer\n",
    "nn.add(Dense(32,activation='relu'))\n",
    "nn.add(Dropout(0.3))\n",
    "nn.add(BatchNormalization())\n",
    "\n",
    "#o/p layer\n",
    "nn.add(Dense(1,activation='sigmoid'))"
   ]
  },
  {
   "cell_type": "code",
   "execution_count": 20,
   "id": "a3e58553",
   "metadata": {},
   "outputs": [
    {
     "name": "stdout",
     "output_type": "stream",
     "text": [
      "Model: \"sequential\"\n",
      "_________________________________________________________________\n",
      " Layer (type)                Output Shape              Param #   \n",
      "=================================================================\n",
      " dense (Dense)               (None, 128)               1221120   \n",
      "                                                                 \n",
      " dropout (Dropout)           (None, 128)               0         \n",
      "                                                                 \n",
      " batch_normalization (BatchN  (None, 128)              512       \n",
      " ormalization)                                                   \n",
      "                                                                 \n",
      " dense_1 (Dense)             (None, 64)                8256      \n",
      "                                                                 \n",
      " dropout_1 (Dropout)         (None, 64)                0         \n",
      "                                                                 \n",
      " batch_normalization_1 (Batc  (None, 64)               256       \n",
      " hNormalization)                                                 \n",
      "                                                                 \n",
      " dense_2 (Dense)             (None, 32)                2080      \n",
      "                                                                 \n",
      " dropout_2 (Dropout)         (None, 32)                0         \n",
      "                                                                 \n",
      " batch_normalization_2 (Batc  (None, 32)               128       \n",
      " hNormalization)                                                 \n",
      "                                                                 \n",
      " dense_3 (Dense)             (None, 1)                 33        \n",
      "                                                                 \n",
      "=================================================================\n",
      "Total params: 1,232,385\n",
      "Trainable params: 1,231,937\n",
      "Non-trainable params: 448\n",
      "_________________________________________________________________\n"
     ]
    }
   ],
   "source": [
    "nn.summary()"
   ]
  },
  {
   "cell_type": "code",
   "execution_count": 21,
   "id": "d8cb7681",
   "metadata": {},
   "outputs": [],
   "source": [
    "early_stop=EarlyStopping(monitor='val_loss',patience=10)"
   ]
  },
  {
   "cell_type": "code",
   "execution_count": 22,
   "id": "8ad0cf01",
   "metadata": {},
   "outputs": [],
   "source": [
    "nn.compile(loss='binary_crossentropy',optimizer='adam',metrics=['accuracy'])"
   ]
  },
  {
   "cell_type": "code",
   "execution_count": 23,
   "id": "0fa4f838",
   "metadata": {},
   "outputs": [
    {
     "name": "stdout",
     "output_type": "stream",
     "text": [
      "Epoch 1/100\n",
      "310/310 [==============================] - 8s 22ms/step - loss: 0.5280 - accuracy: 0.7407 - val_loss: 0.3735 - val_accuracy: 0.8579\n",
      "Epoch 2/100\n",
      "310/310 [==============================] - 6s 18ms/step - loss: 0.2488 - accuracy: 0.9059 - val_loss: 0.1465 - val_accuracy: 0.9509\n",
      "Epoch 3/100\n",
      "310/310 [==============================] - 6s 18ms/step - loss: 0.1570 - accuracy: 0.9463 - val_loss: 0.1320 - val_accuracy: 0.9599\n",
      "Epoch 4/100\n",
      "310/310 [==============================] - 6s 18ms/step - loss: 0.1098 - accuracy: 0.9606 - val_loss: 0.1337 - val_accuracy: 0.9638\n",
      "Epoch 5/100\n",
      "310/310 [==============================] - 6s 18ms/step - loss: 0.0916 - accuracy: 0.9715 - val_loss: 0.1564 - val_accuracy: 0.9561\n",
      "Epoch 6/100\n",
      "310/310 [==============================] - 6s 18ms/step - loss: 0.0686 - accuracy: 0.9748 - val_loss: 0.1511 - val_accuracy: 0.9664\n",
      "Epoch 7/100\n",
      "310/310 [==============================] - 6s 18ms/step - loss: 0.0645 - accuracy: 0.9780 - val_loss: 0.1710 - val_accuracy: 0.9587\n",
      "Epoch 8/100\n",
      "310/310 [==============================] - 6s 18ms/step - loss: 0.0558 - accuracy: 0.9800 - val_loss: 0.1758 - val_accuracy: 0.9612\n",
      "Epoch 9/100\n",
      "310/310 [==============================] - 6s 18ms/step - loss: 0.0444 - accuracy: 0.9858 - val_loss: 0.1841 - val_accuracy: 0.9612\n",
      "Epoch 10/100\n",
      "310/310 [==============================] - 6s 19ms/step - loss: 0.0406 - accuracy: 0.9864 - val_loss: 0.1945 - val_accuracy: 0.9638\n",
      "Epoch 11/100\n",
      "310/310 [==============================] - 6s 19ms/step - loss: 0.0358 - accuracy: 0.9877 - val_loss: 0.2206 - val_accuracy: 0.9574\n",
      "Epoch 12/100\n",
      "310/310 [==============================] - 6s 18ms/step - loss: 0.0429 - accuracy: 0.9855 - val_loss: 0.2071 - val_accuracy: 0.9625\n",
      "Epoch 13/100\n",
      "310/310 [==============================] - 6s 19ms/step - loss: 0.0292 - accuracy: 0.9887 - val_loss: 0.2209 - val_accuracy: 0.9625\n"
     ]
    }
   ],
   "source": [
    "hist=nn.fit(xtrain,ytrain,callbacks=early_stop,epochs=100,validation_split=0.2,batch_size=10)"
   ]
  },
  {
   "cell_type": "code",
   "execution_count": 24,
   "id": "aa272229",
   "metadata": {},
   "outputs": [
    {
     "name": "stdout",
     "output_type": "stream",
     "text": [
      "121/121 [==============================] - 0s 2ms/step - loss: 0.0448 - accuracy: 0.9925\n"
     ]
    },
    {
     "data": {
      "text/plain": [
       "[0.044792935252189636, 0.9925006628036499]"
      ]
     },
     "execution_count": 24,
     "metadata": {},
     "output_type": "execute_result"
    }
   ],
   "source": [
    "nn.evaluate(xtrain,ytrain)"
   ]
  },
  {
   "cell_type": "code",
   "execution_count": 25,
   "id": "ba677e1b",
   "metadata": {},
   "outputs": [
    {
     "name": "stdout",
     "output_type": "stream",
     "text": [
      "41/41 [==============================] - 0s 2ms/step - loss: 0.1801 - accuracy: 0.9682\n"
     ]
    },
    {
     "data": {
      "text/plain": [
       "[0.18012185394763947, 0.9682170748710632]"
      ]
     },
     "execution_count": 25,
     "metadata": {},
     "output_type": "execute_result"
    }
   ],
   "source": [
    "nn.evaluate(xtest,ytest)"
   ]
  },
  {
   "cell_type": "code",
   "execution_count": 26,
   "id": "97abdf0c",
   "metadata": {},
   "outputs": [
    {
     "data": {
      "text/plain": [
       "[<matplotlib.lines.Line2D at 0x1e9cf74a070>]"
      ]
     },
     "execution_count": 26,
     "metadata": {},
     "output_type": "execute_result"
    },
    {
     "data": {
      "image/png": "[encoded data removed]",
      "text/plain": [
       "<Figure size 432x288 with 1 Axes>"
      ]
     },
     "metadata": {
      "needs_background": "light"
     },
     "output_type": "display_data"
    }
   ],
   "source": [
    "plt.plot(hist.history['loss'],c='red')\n",
    "plt.plot(hist.history['val_loss'],c='blue')"
   ]
  },
  {
   "cell_type": "code",
   "execution_count": 27,
   "id": "6f7c585e",
   "metadata": {},
   "outputs": [
    {
     "name": "stdout",
     "output_type": "stream",
     "text": [
      "41/41 [==============================] - 0s 2ms/step\n"
     ]
    }
   ],
   "source": [
    "y_pred_prob=nn.predict(xtest) #return probability\n",
    "y_pred=[]\n",
    "\n",
    "for i in y_pred_prob:\n",
    "    if i>=0.5:\n",
    "        y_pred.append(1)\n",
    "    else:\n",
    "        y_pred.append(0)"
   ]
  },
  {
   "cell_type": "code",
   "execution_count": 28,
   "id": "f9b289c4",
   "metadata": {},
   "outputs": [
    {
     "name": "stdout",
     "output_type": "stream",
     "text": [
      "              precision    recall  f1-score   support\n",
      "\n",
      "           0       0.97      1.00      0.98      1140\n",
      "           1       1.00      0.73      0.84       150\n",
      "\n",
      "    accuracy                           0.97      1290\n",
      "   macro avg       0.98      0.86      0.91      1290\n",
      "weighted avg       0.97      0.97      0.97      1290\n",
      "\n"
     ]
    }
   ],
   "source": [
    "print(classification_report(ytest,y_pred))"
   ]
  },
  {
   "cell_type": "code",
   "execution_count": 29,
   "id": "47a6fd53",
   "metadata": {},
   "outputs": [
    {
     "data": {
      "text/plain": [
       "<AxesSubplot:>"
      ]
     },
     "execution_count": 29,
     "metadata": {},
     "output_type": "execute_result"
    },
    {
     "data": {
      "image/png": "[encoded data removed]",
      "text/plain": [
       "<Figure size 432x288 with 2 Axes>"
      ]
     },
     "metadata": {
      "needs_background": "light"
     },
     "output_type": "display_data"
    }
   ],
   "source": [
    "sns.heatmap(confusion_matrix(ytest,y_pred),annot=True,fmt='d')"
   ]
  },
  {
   "cell_type": "code",
   "execution_count": 30,
   "id": "3fe17233",
   "metadata": {},
   "outputs": [],
   "source": [
    "nn.save(\"email_detection.h5\") # saving model for future use"
   ]
  },
  {
   "cell_type": "markdown",
   "id": "a86895f9",
   "metadata": {},
   "source": [
    "### Testing model on real world data"
   ]
  },
  {
   "cell_type": "code",
   "execution_count": 31,
   "id": "4d8b6462",
   "metadata": {},
   "outputs": [],
   "source": [
    "def detect(model,string):\n",
    "    string=string.lower()\n",
    "    string=re.sub(\"[^a-z ]\",\"\",string)\n",
    "    x=tfv.transform([string]).toarray()\n",
    "    y=model.predict(x)\n",
    "    print(y)\n",
    "    if y>=0.5:\n",
    "        print(\"This is spam mail\")\n",
    "    else:\n",
    "        print(\"This is ham mail\")\n",
    "        \n",
    "email_model=load_model(\"email_detection.h5\")  "
   ]
  },
  {
   "cell_type": "code",
   "execution_count": 32,
   "id": "1e10448f",
   "metadata": {},
   "outputs": [],
   "source": [
    "message=\"How to win cash price!! click on below link and redeem it.\""
   ]
  },
  {
   "cell_type": "code",
   "execution_count": 33,
   "id": "cd1a535a",
   "metadata": {},
   "outputs": [
    {
     "name": "stdout",
     "output_type": "stream",
     "text": [
      "1/1 [==============================] - 0s 75ms/step\n",
      "[[0.84257233]]\n",
      "This is spam mail\n"
     ]
    }
   ],
   "source": [
    "detect(email_model,message)"
   ]
  },
  {
   "cell_type": "code",
   "execution_count": 34,
   "id": "ac84f7a0",
   "metadata": {},
   "outputs": [],
   "source": [
    "message='Congratulation!!!! You won a prize of $10000.'"
   ]
  },
  {
   "cell_type": "code",
   "execution_count": 35,
   "id": "70a5ee29",
   "metadata": {},
   "outputs": [
    {
     "name": "stdout",
     "output_type": "stream",
     "text": [
      "1/1 [==============================] - 0s 14ms/step\n",
      "[[0.85261047]]\n",
      "This is spam mail\n"
     ]
    }
   ],
   "source": [
    "detect(email_model,message)"
   ]
  },
  {
   "cell_type": "code",
   "execution_count": 36,
   "id": "b82f6b51",
   "metadata": {},
   "outputs": [],
   "source": [
    "message=\"Need last month reports\""
   ]
  },
  {
   "cell_type": "code",
   "execution_count": 37,
   "id": "40624645",
   "metadata": {},
   "outputs": [
    {
     "name": "stdout",
     "output_type": "stream",
     "text": [
      "1/1 [==============================] - 0s 15ms/step\n",
      "[[2.8090767e-06]]\n",
      "This is ham mail\n"
     ]
    }
   ],
   "source": [
    "detect(email_model,message)"
   ]
  }
 ],
 "metadata": {
  "kernelspec": {
   "display_name": "Python 3 (ipykernel)",
   "language": "python",
   "name": "python3"
  },
  "language_info": {
   "codemirror_mode": {
    "name": "ipython",
    "version": 3
   },
   "file_extension": ".py",
   "mimetype": "text/x-python",
   "name": "python",
   "nbconvert_exporter": "python",
   "pygments_lexer": "ipython3",
   "version": "3.9.7"
  }
 },
 "nbformat": 4,
 "nbformat_minor": 5
}
